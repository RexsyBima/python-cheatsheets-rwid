{
 "cells": [
  {
   "cell_type": "markdown",
   "metadata": {},
   "source": [
    "# Dictionary / Dictionaries in plural\n",
    "\n",
    "Dalam Python, dictionaries adalah struktur data yang digunakan untuk menyimpan pasangan kunci-nilai yang tidak berurutan dan dapat diubah. Dictionaries juga dikenal sebagai \"maps\", \"hashmaps\", atau \"associative arrays\" dalam bahasa pemrograman lainnya.\n",
    "\n",
    "Setiap elemen dalam dictionary terdiri dari pasangan kunci-nilai. Kunci harus bersifat unik dan tidak dapat diubah (immutable), seperti string, tuple, atau angka, sedangkan nilai dapat berupa objek apa pun, termasuk list atau dictionary lainnya. Kunci dan nilainya dipisahkan oleh tanda titik dua : dan setiap pasangan kunci-nilai dipisahkan oleh koma.\n",
    "\n",
    "Untuk memelajari dictionary, kita bisa menggunakan data representasi identitas penduduk / KTP\n",
    "\n",
    "Dictionary menggunakan kurung kurawal / curly braces, dan menggunakan titik dua untuk menghubungkan key : value"
   ]
  },
  {
   "cell_type": "code",
   "execution_count": null,
   "metadata": {},
   "outputs": [],
   "source": [
    "# Kita buat ktp sederhana\n",
    "ktp = {\"Nama\" : \"Budi\"}\n",
    "#       KEY      VALUE\n",
    "\n",
    "\"\"\"\n",
    "didalam variabel KTP, memiliki Key:Value pair \"Nama\" : \"Budi\"\n",
    "\"\"\""
   ]
  },
  {
   "cell_type": "code",
   "execution_count": 3,
   "metadata": {},
   "outputs": [
    {
     "name": "stdout",
     "output_type": "stream",
     "text": [
      "terdapat 12 pasangan key:value pair di dictionary ktp\n"
     ]
    }
   ],
   "source": [
    "# Kita buat KTP yg lebih lengkap, jangan terintimidasi dengan cara bacanya. akan diajari di point berikut\n",
    "ktp = {\"NIK\" : 1234567890,\n",
    "       \"Nama\" : \"Remote W. Indonesia\",\n",
    "       \"TempatLahir\" : \"Banyumas\",\n",
    "       \"TanggalLahir\" : \"10-02-1999\",\n",
    "       \"JenisKelamin\" : \"Laki-Laki\",\n",
    "       \"Alamat\" : {\"Desa\" : \"Wisata Tanjung\",\n",
    "                   \"RT\" : 4,\n",
    "                   \"RW\" : 8,\n",
    "                   \"Kecamatan\" : \"Purwokerto\"},\n",
    "       \"Agama\" : \"Islam\",\n",
    "       \"isMenikah\" : False,\n",
    "       \"isBekerja\" : True,\n",
    "       \"isWNI\" : True,\n",
    "       \"isValidforLife\" : True,\n",
    "       \"Hobi\" : [\"Memancing\", \"Membaca\", \"Belajar\"]\n",
    "       }\n",
    "\n",
    "# built in function len jika digunakan didalam dictionary maka akan mengecek seberapa banyak key:value pair pasangan yang ada didalam dictionary\n",
    "print(f\"terdapat {len(ktp)} pasangan key:value pair di dictionary ktp\")\n"
   ]
  },
  {
   "cell_type": "markdown",
   "metadata": {},
   "source": [
    "## Mengakses value dalam dictionary\n",
    "\n",
    "Anda dapat mengakses nilai (value) dalam dictionary dengan menggunakan kunci (key) yang terkait dengan nilai tersebut. ada 2 cara untuk mengakses nilai dalam dictionary:\n",
    "\n",
    "1. Menggunakan tanda kurung siku [ ] dan nama kunci/key:\n",
    "\n",
    "2. Metode .get()"
   ]
  },
  {
   "cell_type": "code",
   "execution_count": 4,
   "metadata": {},
   "outputs": [
    {
     "data": {
      "text/plain": [
       "{'NIK': 1234567890,\n",
       " 'Nama': 'Remote W. Indonesia',\n",
       " 'TempatLahir': 'Banyumas',\n",
       " 'TanggalLahir': '10-02-1999',\n",
       " 'JenisKelamin': 'Laki-Laki',\n",
       " 'Alamat': {'Desa': 'Wisata Tanjung',\n",
       "  'RT': 4,\n",
       "  'RW': 8,\n",
       "  'Kecamatan': 'Purwokerto'},\n",
       " 'Agama': 'Islam',\n",
       " 'isMenikah': False,\n",
       " 'isBekerja': True,\n",
       " 'isWNI': True,\n",
       " 'isValidforLife': True,\n",
       " 'Hobi': ['Memancing', 'Membaca', 'Belajar']}"
      ]
     },
     "execution_count": 4,
     "metadata": {},
     "output_type": "execute_result"
    }
   ],
   "source": [
    "ktp"
   ]
  },
  {
   "cell_type": "code",
   "execution_count": 10,
   "metadata": {},
   "outputs": [
    {
     "name": "stdout",
     "output_type": "stream",
     "text": [
      "Remote W. Indonesia\n",
      "1234567890\n"
     ]
    }
   ],
   "source": [
    "nama = ktp[\"Nama\"]\n",
    "nik = ktp[\"NIK\"]\n",
    "\n",
    "print(nama)\n",
    "print(nik)"
   ]
  },
  {
   "cell_type": "code",
   "execution_count": 12,
   "metadata": {},
   "outputs": [
    {
     "ename": "KeyError",
     "evalue": "'nik'",
     "output_type": "error",
     "traceback": [
      "\u001b[1;31m---------------------------------------------------------------------------\u001b[0m",
      "\u001b[1;31mKeyError\u001b[0m                                  Traceback (most recent call last)",
      "Cell \u001b[1;32mIn[12], line 2\u001b[0m\n\u001b[0;32m      1\u001b[0m \u001b[38;5;66;03m# String dalam python bersifat case sensitive, berarti, NIK != nik != Nik !=NiK dst\u001b[39;00m\n\u001b[1;32m----> 2\u001b[0m \u001b[43mktp\u001b[49m\u001b[43m[\u001b[49m\u001b[38;5;124;43m\"\u001b[39;49m\u001b[38;5;124;43mnik\u001b[39;49m\u001b[38;5;124;43m\"\u001b[39;49m\u001b[43m]\u001b[49m\n\u001b[0;32m      4\u001b[0m \u001b[38;5;66;03m#jika run kode diatas, maka akan muncul keyerror nik tidak ditemukan. sifat ini benar karena nik != NIK\u001b[39;00m\n",
      "\u001b[1;31mKeyError\u001b[0m: 'nik'"
     ]
    }
   ],
   "source": [
    "# String dalam python bersifat case sensitive, berarti, NIK != nik != Nik !=NiK dst\n",
    "ktp[\"nik\"]\n",
    "\n",
    "#jika run kode diatas, maka akan muncul keyerror nik tidak ditemukan. sifat ini benar karena nik != NIK"
   ]
  },
  {
   "cell_type": "code",
   "execution_count": 20,
   "metadata": {},
   "outputs": [
    {
     "name": "stdout",
     "output_type": "stream",
     "text": [
      "{'Desa': 'Wisata Tanjung', 'RT': 4, 'RW': 8, 'Kecamatan': 'Purwokerto'}\n"
     ]
    }
   ],
   "source": [
    "alamat = ktp[\"Alamat\"]\n",
    "print(alamat)"
   ]
  },
  {
   "cell_type": "code",
   "execution_count": 23,
   "metadata": {},
   "outputs": [
    {
     "name": "stdout",
     "output_type": "stream",
     "text": [
      "{'Desa': 'Wisata Tanjung', 'RT': 4, 'RW': 8, 'Kecamatan': 'Purwokerto'} 1234567890\n"
     ]
    }
   ],
   "source": [
    "# dengan metode get() dimana argumen adalah nama Key nya\n",
    "nik = ktp.get(\"NIK\")\n",
    "alamat = ktp.get(\"Alamat\")\n",
    "print(alamat, nik)"
   ]
  },
  {
   "cell_type": "markdown",
   "metadata": {},
   "source": [
    "Ketika Anda mengakses nilai kunci \"Alamat\" dalam dictionary ktp di blok/cell kode diatas, yang Anda dapatkan adalah sebuah dictionary lagi. Hal ini terjadi karena nilai yang terkait dengan kunci \"Alamat\" adalah sebuah dictionary yang berisi informasi alamat lengkap, bukan hanya satu nilai tunggal. Dengan demikian, nilai yang dikembalikan adalah dictionary yang berisi informasi alamat, bukan nilai tunggal seperti string atau angka.\n",
    "\n",
    "Ini adalah struktur yang umum digunakan dalam pemrograman ketika Anda ingin menyimpan informasi yang terkait dan terstruktur bersama-sama. Dalam kasus ini, informasi alamat (seperti nama desa, RT, RW, kecamatan) dianggap sebagai sebuah entitas yang utuh dan terpisah dari informasi lain dalam KTP. Oleh karena itu, informasi alamat tersebut disimpan dalam sebuah dictionary terpisah dalam dictionary utama.\n",
    "\n",
    "Ini memungkinkan Anda untuk dengan mudah mengakses dan mengelola informasi alamat sebagai sebuah kesatuan, serta memungkinkan struktur yang lebih terorganisir dan mudah dibaca."
   ]
  },
  {
   "cell_type": "code",
   "execution_count": 19,
   "metadata": {},
   "outputs": [
    {
     "name": "stdout",
     "output_type": "stream",
     "text": [
      "Wisata Tanjung\n",
      "Wisata Tanjung\n"
     ]
    }
   ],
   "source": [
    "#mendapatkan nilai desa Wisata Tanjung dari KTP diatas\n",
    "ktp = {\"NIK\" : 1234567890,\n",
    "       \"Nama\" : \"Remote W. Indonesia\",\n",
    "       \"TempatLahir\" : \"Banyumas\",\n",
    "       \"TanggalLahir\" : \"10-02-1999\",\n",
    "       \"JenisKelamin\" : \"Laki-Laki\",\n",
    "       \"Alamat\" : {\"Desa\" : \"Wisata Tanjung\",\n",
    "                   \"RT\" : 4,\n",
    "                   \"RW\" : 8,\n",
    "                   \"Kecamatan\" : \"Purwokerto\"},\n",
    "       \"Agama\" : \"Islam\",\n",
    "       \"isMenikah\" : False,\n",
    "       \"isBekerja\" : True,\n",
    "       \"isWNI\" : True,\n",
    "       \"isValidforLife\" : True,\n",
    "       \"Hobi\" : [\"Memancing\", \"Membaca\", \"Belajar\"]\n",
    "       }\n",
    "\n",
    "#CARA 1\n",
    "alamat = ktp[\"Alamat\"] # -> {'Desa': 'Wisata Tanjung', 'RT': 4, 'RW': 8, 'Kecamatan': 'Purwokerto'}\n",
    "\n",
    "desa = alamat[\"Desa\"]\n",
    "print(desa)\n",
    "\n",
    "#CARA 2\n",
    "desa = ktp[\"Alamat\"][\"Desa\"]\n",
    "print(desa)"
   ]
  },
  {
   "cell_type": "markdown",
   "metadata": {},
   "source": [
    "\n",
    "Kode desa = ktp[\"Alamat\"][\"Desa\"] berhasil mengeprint \"Wisata Tanjung\" karena itu adalah nilai yang terkait dengan kunci \"Desa\" dalam dictionary yang terdapat di dalam dictionary ktp pada kunci \"Alamat\".\n",
    "\n",
    "Mari kita uraikan kode tersebut:\n",
    "\n",
    "ktp[\"Alamat\"]: Ini mengakses nilai yang terkait dengan kunci \"Alamat\" dalam dictionary ktp. Nilainya adalah sebuah dictionary yang berisi informasi alamat lengkap, termasuk nama desa.\n",
    "\n",
    "ktp[\"Alamat\"][\"Desa\"]: Setelah langkah pertama, kita mengakses nilai yang terkait dengan kunci \"Desa\" dalam dictionary yang telah diakses sebelumnya. Karena dictionary tersebut berisi informasi alamat lengkap, nilai yang terkait dengan kunci \"Desa\" adalah \"Wisata Tanjung\".\n",
    "\n",
    "Dengan demikian, dengan menggunakan dua kali pengaksesan kunci secara berurutan, kita dapat mengakses nilai \"Wisata Tanjung\" yang merupakan bagian dari informasi alamat dalam dictionary ktp.\n",
    "\n",
    "*Secara overall, penggunaan teknik pakai kurung bracket lebih sering digunakan dibandingkan dengan method get*\\\n",
    "adapun perbedaan hasil dari teknik kurung bracket dan .get(), yaitu hasil yg dihasilkan.\n",
    "1. dalam teknik kurung bracket, jika sebuah key ternyata tidak ada didalam dictionary maka akan memunculkan error keyerror\n",
    "2. dalam method .get, jika sebuah key ternyata tidak ada didalam dictionary maka akan menghasilkan nilai None"
   ]
  },
  {
   "cell_type": "code",
   "execution_count": 24,
   "metadata": {},
   "outputs": [
    {
     "ename": "KeyError",
     "evalue": "'makananfavorit'",
     "output_type": "error",
     "traceback": [
      "\u001b[1;31m---------------------------------------------------------------------------\u001b[0m",
      "\u001b[1;31mKeyError\u001b[0m                                  Traceback (most recent call last)",
      "Cell \u001b[1;32mIn[24], line 18\u001b[0m\n\u001b[0;32m      1\u001b[0m ktp \u001b[38;5;241m=\u001b[39m {\u001b[38;5;124m\"\u001b[39m\u001b[38;5;124mNIK\u001b[39m\u001b[38;5;124m\"\u001b[39m : \u001b[38;5;241m1234567890\u001b[39m,\n\u001b[0;32m      2\u001b[0m        \u001b[38;5;124m\"\u001b[39m\u001b[38;5;124mNama\u001b[39m\u001b[38;5;124m\"\u001b[39m : \u001b[38;5;124m\"\u001b[39m\u001b[38;5;124mRemote W. Indonesia\u001b[39m\u001b[38;5;124m\"\u001b[39m,\n\u001b[0;32m      3\u001b[0m        \u001b[38;5;124m\"\u001b[39m\u001b[38;5;124mTempatLahir\u001b[39m\u001b[38;5;124m\"\u001b[39m : \u001b[38;5;124m\"\u001b[39m\u001b[38;5;124mBanyumas\u001b[39m\u001b[38;5;124m\"\u001b[39m,\n\u001b[1;32m   (...)\u001b[0m\n\u001b[0;32m     15\u001b[0m        \u001b[38;5;124m\"\u001b[39m\u001b[38;5;124mHobi\u001b[39m\u001b[38;5;124m\"\u001b[39m : [\u001b[38;5;124m\"\u001b[39m\u001b[38;5;124mMemancing\u001b[39m\u001b[38;5;124m\"\u001b[39m, \u001b[38;5;124m\"\u001b[39m\u001b[38;5;124mMembaca\u001b[39m\u001b[38;5;124m\"\u001b[39m, \u001b[38;5;124m\"\u001b[39m\u001b[38;5;124mBelajar\u001b[39m\u001b[38;5;124m\"\u001b[39m]\n\u001b[0;32m     16\u001b[0m        }\n\u001b[1;32m---> 18\u001b[0m \u001b[38;5;28mprint\u001b[39m(\u001b[43mktp\u001b[49m\u001b[43m[\u001b[49m\u001b[38;5;124;43m\"\u001b[39;49m\u001b[38;5;124;43mmakananfavorit\u001b[39;49m\u001b[38;5;124;43m\"\u001b[39;49m\u001b[43m]\u001b[49m)\n",
      "\u001b[1;31mKeyError\u001b[0m: 'makananfavorit'"
     ]
    }
   ],
   "source": [
    "ktp = {\"NIK\" : 1234567890,\n",
    "       \"Nama\" : \"Remote W. Indonesia\",\n",
    "       \"TempatLahir\" : \"Banyumas\",\n",
    "       \"TanggalLahir\" : \"10-02-1999\",\n",
    "       \"JenisKelamin\" : \"Laki-Laki\",\n",
    "       \"Alamat\" : {\"Desa\" : \"Wisata Tanjung\",\n",
    "                   \"RT\" : 4,\n",
    "                   \"RW\" : 8,\n",
    "                   \"Kecamatan\" : \"Purwokerto\"},\n",
    "       \"Agama\" : \"Islam\",\n",
    "       \"isMenikah\" : False,\n",
    "       \"isBekerja\" : True,\n",
    "       \"isWNI\" : True,\n",
    "       \"isValidforLife\" : True,\n",
    "       \"Hobi\" : [\"Memancing\", \"Membaca\", \"Belajar\"]\n",
    "       }\n",
    "\n",
    "print(ktp[\"makananfavorit\"])"
   ]
  },
  {
   "cell_type": "code",
   "execution_count": 25,
   "metadata": {},
   "outputs": [
    {
     "name": "stdout",
     "output_type": "stream",
     "text": [
      "None\n"
     ]
    }
   ],
   "source": [
    "print(ktp.get(\"makananfavorit\"))"
   ]
  },
  {
   "cell_type": "markdown",
   "metadata": {},
   "source": [
    "## Modifikasi nilai dalam dictionary\n",
    "\n",
    "\n",
    "Anda dapat mengubah nilai dalam dictionary dengan mengakses kunci yang sesuai dan kemudian memberikan nilai baru kepadanya. ada dua cara untuk memodifikasi nilai dalam dictionary, menggunakan teknik kurung bracket dan method .update()\n",
    "\n",
    "1. Dengan penggunaan teknik kurung bracket `[nama key]`. kita bisa memodifikasi sebuah value di dictionary jika dictionary memiliki key tersebut\n",
    "2. Dengan methode `.update()`,digunakan untuk memperbarui nilai kunci yang ada dengan nilai yang baru. Anda dapat memberikan dictionary lain sebagai argumen untuk memperbarui beberapa nilai sekaligus."
   ]
  },
  {
   "cell_type": "markdown",
   "metadata": {},
   "source": []
  },
  {
   "cell_type": "code",
   "execution_count": 29,
   "metadata": {},
   "outputs": [
    {
     "data": {
      "text/plain": [
       "{'NIK': 912391723,\n",
       " 'Nama': 'Joko Wicaksono',\n",
       " 'TempatLahir': 'Banyumas',\n",
       " 'TanggalLahir': '10-02-1999',\n",
       " 'JenisKelamin': 'Laki-Laki',\n",
       " 'Alamat': {'Desa': 'Wisata Tanjung',\n",
       "  'RT': 4,\n",
       "  'RW': 8,\n",
       "  'Kecamatan': 'Purwokerto'},\n",
       " 'Agama': 'Islam',\n",
       " 'isMenikah': False,\n",
       " 'isBekerja': True,\n",
       " 'isWNI': False,\n",
       " 'isValidforLife': True,\n",
       " 'Hobi': ['Memancing', 'Membaca', 'Belajar']}"
      ]
     },
     "execution_count": 29,
     "metadata": {},
     "output_type": "execute_result"
    }
   ],
   "source": [
    "ktp = {\"NIK\" : 1234567890,\n",
    "       \"Nama\" : \"Remote W. Indonesia\",\n",
    "       \"TempatLahir\" : \"Banyumas\",\n",
    "       \"TanggalLahir\" : \"10-02-1999\",\n",
    "       \"JenisKelamin\" : \"Laki-Laki\",\n",
    "       \"Alamat\" : {\"Desa\" : \"Wisata Tanjung\",\n",
    "                   \"RT\" : 4,\n",
    "                   \"RW\" : 8,\n",
    "                   \"Kecamatan\" : \"Purwokerto\"},\n",
    "       \"Agama\" : \"Islam\",\n",
    "       \"isMenikah\" : False,\n",
    "       \"isBekerja\" : True,\n",
    "       \"isWNI\" : True,\n",
    "       \"isValidforLife\" : True,\n",
    "       \"Hobi\" : [\"Memancing\", \"Membaca\", \"Belajar\"]\n",
    "       }\n",
    "\n",
    "#method kurung bracket\n",
    "ktp[\"NIK\"] = 912391723\n",
    "ktp[\"Nama\"] = \"Joko Wicaksono\"\n",
    "ktp[\"isWNI\"] = False\n",
    "ktp #notice nilai keys nik, nama, dan isWNI telah berubah sesuai dengan kode diatasnya\n"
   ]
  },
  {
   "cell_type": "code",
   "execution_count": 32,
   "metadata": {},
   "outputs": [
    {
     "data": {
      "text/plain": [
       "{'NIK': 10230182301,\n",
       " 'Nama': 'Remote W. Indonesia',\n",
       " 'TempatLahir': 'Banyumas',\n",
       " 'TanggalLahir': '10-02-1999',\n",
       " 'JenisKelamin': 'Perempuan',\n",
       " 'Alamat': {'Desa': 'Wisata Tanjung',\n",
       "  'RT': 4,\n",
       "  'RW': 8,\n",
       "  'Kecamatan': 'Purwokerto'},\n",
       " 'Agama': 'Islam',\n",
       " 'isMenikah': False,\n",
       " 'isBekerja': True,\n",
       " 'isWNI': True,\n",
       " 'isValidforLife': True,\n",
       " 'Hobi': ['Memancing', 'Membaca', 'Belajar']}"
      ]
     },
     "execution_count": 32,
     "metadata": {},
     "output_type": "execute_result"
    }
   ],
   "source": [
    "ktp = {\"NIK\" : 1234567890,\n",
    "       \"Nama\" : \"Remote W. Indonesia\",\n",
    "       \"TempatLahir\" : \"Banyumas\",\n",
    "       \"TanggalLahir\" : \"10-02-1999\",\n",
    "       \"JenisKelamin\" : \"Laki-Laki\",\n",
    "       \"Alamat\" : {\"Desa\" : \"Wisata Tanjung\",\n",
    "                   \"RT\" : 4,\n",
    "                   \"RW\" : 8,\n",
    "                   \"Kecamatan\" : \"Purwokerto\"},\n",
    "       \"Agama\" : \"Islam\",\n",
    "       \"isMenikah\" : False,\n",
    "       \"isBekerja\" : True,\n",
    "       \"isWNI\" : True,\n",
    "       \"isValidforLife\" : True,\n",
    "       \"Hobi\" : [\"Memancing\", \"Membaca\", \"Belajar\"]\n",
    "       }\n",
    "\n",
    "#method .update()\n",
    "ktp.update({\"NIK\" : 10230182301, \"JenisKelamin\" : \"Perempuan\"})\n",
    "ktp #notice nilai keys nik, nama, dan isWNI telah berubah sesuai dengan kode diatasnya"
   ]
  },
  {
   "cell_type": "markdown",
   "metadata": {},
   "source": [
    "### Kurung bracket dalam operasi dictionary bisa menambah nilai baru, mengubah sebuah nilai, dan mengambil sebuah nilai\n",
    "\n",
    "kurung bracket di dictionary cukup powerful karena bisa mengeksekusi 3 hal diatas dengan catatan tertentu.\n",
    "1. Akan menambahkan key:nilai baru jika `[key]` tidak ada didalam dictionary\n",
    "2. Akan mengubah nilai didalam key jika `[key]` ada didalam dictionary\n",
    "3. Akan mengambil nilai dalam key ke variabel baru jika `[key]` ada didalam dictionary "
   ]
  },
  {
   "cell_type": "code",
   "execution_count": 34,
   "metadata": {},
   "outputs": [
    {
     "name": "stdout",
     "output_type": "stream",
     "text": [
      "{'Nama': 'Joko', 'Umur': 24, 'Hobi': 'Makan'}\n"
     ]
    }
   ],
   "source": [
    "identitas = {\"Nama\" : \"Joko\", \"Umur\" : 24}\n",
    "\n",
    "#operasi menambah key:nilai baru, dengan catatan nilai key tidak ada dalam dictionary\n",
    "identitas[\"Hobi\"] = \"Makan\"\n",
    "print(identitas)"
   ]
  },
  {
   "cell_type": "code",
   "execution_count": 35,
   "metadata": {},
   "outputs": [
    {
     "name": "stdout",
     "output_type": "stream",
     "text": [
      "{'Nama': 'Joko', 'Umur': 30}\n"
     ]
    }
   ],
   "source": [
    "identitas = {\"Nama\" : \"Joko\", \"Umur\" : 24}\n",
    "\n",
    "#operasi merubah nilai dalam sebuah key di dictionary, dengan catatan nilai key ada didalam dictionary\n",
    "identitas[\"Umur\"] = 30\n",
    "print(identitas)"
   ]
  },
  {
   "cell_type": "code",
   "execution_count": 38,
   "metadata": {},
   "outputs": [
    {
     "data": {
      "text/plain": [
       "'Joko'"
      ]
     },
     "execution_count": 38,
     "metadata": {},
     "output_type": "execute_result"
    }
   ],
   "source": [
    "identitas = {\"Nama\" : \"Joko\", \"Umur\" : 24}\n",
    "\n",
    "# Operasi mengambil nilai dictionary, dengan catatan key : nilai ada didalam dictionary \n",
    "nama = identitas[\"Nama\"]\n",
    "nama"
   ]
  },
  {
   "cell_type": "markdown",
   "metadata": {},
   "source": [
    "## Menghapus key-value pair di dictionary\n",
    "\n",
    "ada 4 method/4 cara untuk menghapus sebuah key-value didalam dictionary\n",
    "1. menggunakan `del` keyword\n",
    "\n",
    "Anda dapat menggunakan pernyataan del untuk menghapus pasangan kunci-nilai dari dictionary dengan menentukan kunci yang ingin dihapus.\n",
    "\n",
    "2. method `.pop()` (seperti di list)\n",
    "\n",
    "method `.pop()` digunakan untuk menghapus pasangan kunci-nilai dan mengembalikan nilainya.\n",
    "\n",
    "3. method `.popitem()`\n",
    "\n",
    "metode `.popitem()` digunakan untuk menghapus pasangan kunci-nilai yang terakhir dimasukkan ke dalam dictionary.\n",
    "\n",
    "4. method `.clear()`\n",
    "\n",
    "Metode `.clear()` digunakan untuk menghapus semua pasangan kunci-nilai dari dictionary, sehingga membuat dictionary kosong.\n",
    "\n"
   ]
  },
  {
   "cell_type": "code",
   "execution_count": 40,
   "metadata": {},
   "outputs": [
    {
     "data": {
      "text/plain": [
       "{'Nama': 'Remote W. Indonesia',\n",
       " 'TempatLahir': 'Banyumas',\n",
       " 'TanggalLahir': '10-02-1999',\n",
       " 'JenisKelamin': 'Laki-Laki',\n",
       " 'Alamat': {'Desa': 'Wisata Tanjung',\n",
       "  'RT': 4,\n",
       "  'RW': 8,\n",
       "  'Kecamatan': 'Purwokerto'},\n",
       " 'Agama': 'Islam',\n",
       " 'isMenikah': False,\n",
       " 'isBekerja': True,\n",
       " 'isWNI': True,\n",
       " 'isValidforLife': True,\n",
       " 'Hobi': ['Memancing', 'Membaca', 'Belajar']}"
      ]
     },
     "execution_count": 40,
     "metadata": {},
     "output_type": "execute_result"
    }
   ],
   "source": [
    "ktp = {\"NIK\" : 1234567890,\n",
    "       \"Nama\" : \"Remote W. Indonesia\",\n",
    "       \"TempatLahir\" : \"Banyumas\",\n",
    "       \"TanggalLahir\" : \"10-02-1999\",\n",
    "       \"JenisKelamin\" : \"Laki-Laki\",\n",
    "       \"Alamat\" : {\"Desa\" : \"Wisata Tanjung\",\n",
    "                   \"RT\" : 4,\n",
    "                   \"RW\" : 8,\n",
    "                   \"Kecamatan\" : \"Purwokerto\"},\n",
    "       \"Agama\" : \"Islam\",\n",
    "       \"isMenikah\" : False,\n",
    "       \"isBekerja\" : True,\n",
    "       \"isWNI\" : True,\n",
    "       \"isValidforLife\" : True,\n",
    "       \"Hobi\" : [\"Memancing\", \"Membaca\", \"Belajar\"]\n",
    "       }\n",
    "\n",
    "#method del keyword\n",
    "del ktp[\"NIK\"]\n",
    "ktp"
   ]
  },
  {
   "cell_type": "code",
   "execution_count": 43,
   "metadata": {},
   "outputs": [
    {
     "data": {
      "text/plain": [
       "({'NIK': 1234567890,\n",
       "  'Nama': 'Remote W. Indonesia',\n",
       "  'TempatLahir': 'Banyumas',\n",
       "  'TanggalLahir': '10-02-1999',\n",
       "  'JenisKelamin': 'Laki-Laki',\n",
       "  'Agama': 'Islam',\n",
       "  'isMenikah': False,\n",
       "  'isBekerja': True,\n",
       "  'isWNI': True,\n",
       "  'isValidforLife': True},\n",
       " {'Desa': 'Wisata Tanjung', 'RT': 4, 'RW': 8, 'Kecamatan': 'Purwokerto'})"
      ]
     },
     "execution_count": 43,
     "metadata": {},
     "output_type": "execute_result"
    }
   ],
   "source": [
    "ktp = {\"NIK\" : 1234567890,\n",
    "       \"Nama\" : \"Remote W. Indonesia\",\n",
    "       \"TempatLahir\" : \"Banyumas\",\n",
    "       \"TanggalLahir\" : \"10-02-1999\",\n",
    "       \"JenisKelamin\" : \"Laki-Laki\",\n",
    "       \"Alamat\" : {\"Desa\" : \"Wisata Tanjung\",\n",
    "                   \"RT\" : 4,\n",
    "                   \"RW\" : 8,\n",
    "                   \"Kecamatan\" : \"Purwokerto\"},\n",
    "       \"Agama\" : \"Islam\",\n",
    "       \"isMenikah\" : False,\n",
    "       \"isBekerja\" : True,\n",
    "       \"isWNI\" : True,\n",
    "       \"isValidforLife\" : True,\n",
    "       \"Hobi\" : [\"Memancing\", \"Membaca\", \"Belajar\"]\n",
    "       }\n",
    "\n",
    "#method .pop() \n",
    "ktp.pop(\"Hobi\")\n",
    "alamat = ktp.pop(\"Alamat\")\n",
    "ktp, alamat"
   ]
  },
  {
   "cell_type": "code",
   "execution_count": 44,
   "metadata": {},
   "outputs": [
    {
     "data": {
      "text/plain": [
       "{'NIK': 1234567890,\n",
       " 'Nama': 'Remote W. Indonesia',\n",
       " 'TempatLahir': 'Banyumas',\n",
       " 'TanggalLahir': '10-02-1999',\n",
       " 'JenisKelamin': 'Laki-Laki',\n",
       " 'Alamat': {'Desa': 'Wisata Tanjung',\n",
       "  'RT': 4,\n",
       "  'RW': 8,\n",
       "  'Kecamatan': 'Purwokerto'},\n",
       " 'Agama': 'Islam',\n",
       " 'isMenikah': False,\n",
       " 'isBekerja': True,\n",
       " 'isWNI': True,\n",
       " 'isValidforLife': True}"
      ]
     },
     "execution_count": 44,
     "metadata": {},
     "output_type": "execute_result"
    }
   ],
   "source": [
    "ktp = {\"NIK\" : 1234567890,\n",
    "       \"Nama\" : \"Remote W. Indonesia\",\n",
    "       \"TempatLahir\" : \"Banyumas\",\n",
    "       \"TanggalLahir\" : \"10-02-1999\",\n",
    "       \"JenisKelamin\" : \"Laki-Laki\",\n",
    "       \"Alamat\" : {\"Desa\" : \"Wisata Tanjung\",\n",
    "                   \"RT\" : 4,\n",
    "                   \"RW\" : 8,\n",
    "                   \"Kecamatan\" : \"Purwokerto\"},\n",
    "       \"Agama\" : \"Islam\",\n",
    "       \"isMenikah\" : False,\n",
    "       \"isBekerja\" : True,\n",
    "       \"isWNI\" : True,\n",
    "       \"isValidforLife\" : True,\n",
    "       \"Hobi\" : [\"Memancing\", \"Membaca\", \"Belajar\"]\n",
    "       }\n",
    "\n",
    "#method .popitem()\n",
    "\n",
    "ktp.popitem()\n",
    "ktp"
   ]
  },
  {
   "cell_type": "code",
   "execution_count": 46,
   "metadata": {},
   "outputs": [
    {
     "data": {
      "text/plain": [
       "{}"
      ]
     },
     "execution_count": 46,
     "metadata": {},
     "output_type": "execute_result"
    }
   ],
   "source": [
    "#method .clear()\n",
    "\n",
    "ktp.clear()\n",
    "ktp"
   ]
  },
  {
   "cell_type": "markdown",
   "metadata": {},
   "source": [
    "## Looping dictionary\n",
    "\n",
    "Kita bisa meloop key-value pair yang ada didalam dictionary melalui 3 jenis:\n",
    "1. loop semua key-pair di dictionary dengan method .items()\n",
    "2. loop hanya key didalam dictionary\n",
    "3. loop hanya value saja didalam dictionary"
   ]
  },
  {
   "cell_type": "markdown",
   "metadata": {},
   "source": [
    "### Looping key-pair dictionary - Method .items()"
   ]
  },
  {
   "cell_type": "markdown",
   "metadata": {},
   "source": [
    "method .items()  digunakan untuk mengambil seluruh pasangan kunci-nilai (key-value pair) dalam dictionary dan mengembalikannya dalam bentuk tipe data yang disebut dict_items. Setiap pasangan kunci-nilai direpresentasikan sebagai tupel, di mana elemen pertama adalah kunci dan elemen kedua adalah nilainya.\n",
    "\n"
   ]
  },
  {
   "cell_type": "code",
   "execution_count": 3,
   "metadata": {},
   "outputs": [
    {
     "data": {
      "text/plain": [
       "(dict_items([('NIK', 1234567890), ('Nama', 'Remote W. Indonesia'), ('TempatLahir', 'Banyumas'), ('TanggalLahir', '10-02-1999'), ('JenisKelamin', 'Laki-Laki'), ('Alamat', {'Desa': 'Wisata Tanjung', 'RT': 4, 'RW': 8, 'Kecamatan': 'Purwokerto'}), ('Agama', 'Islam'), ('isMenikah', False), ('isBekerja', True), ('isWNI', True), ('isValidforLife', True), ('Hobi', ['Memancing', 'Membaca', 'Belajar'])]),\n",
       " dict_items)"
      ]
     },
     "execution_count": 3,
     "metadata": {},
     "output_type": "execute_result"
    }
   ],
   "source": [
    "ktp = {\"NIK\" : 1234567890,\n",
    "       \"Nama\" : \"Remote W. Indonesia\",\n",
    "       \"TempatLahir\" : \"Banyumas\",\n",
    "       \"TanggalLahir\" : \"10-02-1999\",\n",
    "       \"JenisKelamin\" : \"Laki-Laki\",\n",
    "       \"Alamat\" : {\"Desa\" : \"Wisata Tanjung\",\n",
    "                   \"RT\" : 4,\n",
    "                   \"RW\" : 8,\n",
    "                   \"Kecamatan\" : \"Purwokerto\"},\n",
    "       \"Agama\" : \"Islam\",\n",
    "       \"isMenikah\" : False,\n",
    "       \"isBekerja\" : True,\n",
    "       \"isWNI\" : True,\n",
    "       \"isValidforLife\" : True,\n",
    "       \"Hobi\" : [\"Memancing\", \"Membaca\", \"Belajar\"]\n",
    "       }\n",
    "\n",
    "ktp_items = ktp.items()\n",
    "ktp_items, type(ktp_items)"
   ]
  },
  {
   "cell_type": "code",
   "execution_count": 15,
   "metadata": {},
   "outputs": [
    {
     "name": "stdout",
     "output_type": "stream",
     "text": [
      "('NIK', 1234567890) <class 'tuple'>\n",
      "('Nama', 'Remote W. Indonesia') <class 'tuple'>\n",
      "('TempatLahir', 'Banyumas') <class 'tuple'>\n",
      "('TanggalLahir', '10-02-1999') <class 'tuple'>\n",
      "('JenisKelamin', 'Laki-Laki') <class 'tuple'>\n",
      "('Alamat', {'Desa': 'Wisata Tanjung', 'RT': 4, 'RW': 8, 'Kecamatan': 'Purwokerto'}) <class 'tuple'>\n",
      "('Agama', 'Islam') <class 'tuple'>\n",
      "('isMenikah', False) <class 'tuple'>\n",
      "('isBekerja', True) <class 'tuple'>\n",
      "('isWNI', True) <class 'tuple'>\n",
      "('isValidforLife', True) <class 'tuple'>\n",
      "('Hobi', ['Memancing', 'Membaca', 'Belajar']) <class 'tuple'>\n",
      "i[0] = NIK, i[1] = 1234567890\n",
      "i[0] = Nama, i[1] = Remote W. Indonesia\n",
      "i[0] = TempatLahir, i[1] = Banyumas\n",
      "i[0] = TanggalLahir, i[1] = 10-02-1999\n",
      "i[0] = JenisKelamin, i[1] = Laki-Laki\n",
      "i[0] = Alamat, i[1] = {'Desa': 'Wisata Tanjung', 'RT': 4, 'RW': 8, 'Kecamatan': 'Purwokerto'}\n",
      "i[0] = Agama, i[1] = Islam\n",
      "i[0] = isMenikah, i[1] = False\n",
      "i[0] = isBekerja, i[1] = True\n",
      "i[0] = isWNI, i[1] = True\n",
      "i[0] = isValidforLife, i[1] = True\n",
      "i[0] = Hobi, i[1] = ['Memancing', 'Membaca', 'Belajar']\n"
     ]
    }
   ],
   "source": [
    "# looping dict_items hasil dari ktp.items() \n",
    "for i in ktp_items:\n",
    "    print(i, type(i))\n",
    "    \n"
   ]
  },
  {
   "cell_type": "code",
   "execution_count": 17,
   "metadata": {},
   "outputs": [
    {
     "name": "stdout",
     "output_type": "stream",
     "text": [
      "i[0] = NIK || i[1] = 1234567890\n",
      "i[0] = Nama || i[1] = Remote W. Indonesia\n",
      "i[0] = TempatLahir || i[1] = Banyumas\n",
      "i[0] = TanggalLahir || i[1] = 10-02-1999\n",
      "i[0] = JenisKelamin || i[1] = Laki-Laki\n",
      "i[0] = Alamat || i[1] = {'Desa': 'Wisata Tanjung', 'RT': 4, 'RW': 8, 'Kecamatan': 'Purwokerto'}\n",
      "i[0] = Agama || i[1] = Islam\n",
      "i[0] = isMenikah || i[1] = False\n",
      "i[0] = isBekerja || i[1] = True\n",
      "i[0] = isWNI || i[1] = True\n",
      "i[0] = isValidforLife || i[1] = True\n",
      "i[0] = Hobi || i[1] = ['Memancing', 'Membaca', 'Belajar']\n"
     ]
    }
   ],
   "source": [
    "#notice tipe data iterasi i adalah tuple di cell block diatas, yg dimana kita bisa mengakses setiap item nya dengan slicing seperti list\n",
    "\n",
    "for i in ktp_items:\n",
    "    print(f\"i[0] = {i[0]} || i[1] = {i[1]}\")"
   ]
  },
  {
   "cell_type": "markdown",
   "metadata": {},
   "source": [
    "### Looping keys dictionary - method .keys()\n",
    "\n",
    "Metode .keys() dalam dictionary Python digunakan untuk mengambil semua kunci (keys) yang terdapat dalam dictionary tersebut, dan mengembalikannya dalam bentuk tipe data yang disebut dict_keys."
   ]
  },
  {
   "cell_type": "code",
   "execution_count": 18,
   "metadata": {},
   "outputs": [
    {
     "name": "stdout",
     "output_type": "stream",
     "text": [
      "dict_keys(['NIK', 'Nama', 'TempatLahir', 'TanggalLahir', 'JenisKelamin', 'Alamat', 'Agama', 'isMenikah', 'isBekerja', 'isWNI', 'isValidforLife', 'Hobi'])\n"
     ]
    }
   ],
   "source": [
    "ktp = {\"NIK\" : 1234567890,\n",
    "       \"Nama\" : \"Remote W. Indonesia\",\n",
    "       \"TempatLahir\" : \"Banyumas\",\n",
    "       \"TanggalLahir\" : \"10-02-1999\",\n",
    "       \"JenisKelamin\" : \"Laki-Laki\",\n",
    "       \"Alamat\" : {\"Desa\" : \"Wisata Tanjung\",\n",
    "                   \"RT\" : 4,\n",
    "                   \"RW\" : 8,\n",
    "                   \"Kecamatan\" : \"Purwokerto\"},\n",
    "       \"Agama\" : \"Islam\",\n",
    "       \"isMenikah\" : False,\n",
    "       \"isBekerja\" : True,\n",
    "       \"isWNI\" : True,\n",
    "       \"isValidforLife\" : True,\n",
    "       \"Hobi\" : [\"Memancing\", \"Membaca\", \"Belajar\"]\n",
    "       }\n",
    "\n",
    "keys = ktp.keys()\n",
    "print(keys)"
   ]
  },
  {
   "cell_type": "code",
   "execution_count": 19,
   "metadata": {},
   "outputs": [
    {
     "name": "stdout",
     "output_type": "stream",
     "text": [
      "NIK\n",
      "Nama\n",
      "TempatLahir\n",
      "TanggalLahir\n",
      "JenisKelamin\n",
      "Alamat\n",
      "Agama\n",
      "isMenikah\n",
      "isBekerja\n",
      "isWNI\n",
      "isValidforLife\n",
      "Hobi\n"
     ]
    }
   ],
   "source": [
    "for key in keys:\n",
    "    print(key)"
   ]
  },
  {
   "cell_type": "code",
   "execution_count": 20,
   "metadata": {},
   "outputs": [
    {
     "name": "stdout",
     "output_type": "stream",
     "text": [
      "key NIK memiliki value 1234567890\n",
      "key Nama memiliki value Remote W. Indonesia\n",
      "key TempatLahir memiliki value Banyumas\n",
      "key TanggalLahir memiliki value 10-02-1999\n",
      "key JenisKelamin memiliki value Laki-Laki\n",
      "key Alamat memiliki value {'Desa': 'Wisata Tanjung', 'RT': 4, 'RW': 8, 'Kecamatan': 'Purwokerto'}\n",
      "key Agama memiliki value Islam\n",
      "key isMenikah memiliki value False\n",
      "key isBekerja memiliki value True\n",
      "key isWNI memiliki value True\n",
      "key isValidforLife memiliki value True\n",
      "key Hobi memiliki value ['Memancing', 'Membaca', 'Belajar']\n"
     ]
    }
   ],
   "source": [
    "# Secara teknis, method .keys() juga bisa meloop key-value dari sebuah dictionary\n",
    "\n",
    "\n",
    "ktp = {\"NIK\" : 1234567890,\n",
    "       \"Nama\" : \"Remote W. Indonesia\",\n",
    "       \"TempatLahir\" : \"Banyumas\",\n",
    "       \"TanggalLahir\" : \"10-02-1999\",\n",
    "       \"JenisKelamin\" : \"Laki-Laki\",\n",
    "       \"Alamat\" : {\"Desa\" : \"Wisata Tanjung\",\n",
    "                   \"RT\" : 4,\n",
    "                   \"RW\" : 8,\n",
    "                   \"Kecamatan\" : \"Purwokerto\"},\n",
    "       \"Agama\" : \"Islam\",\n",
    "       \"isMenikah\" : False,\n",
    "       \"isBekerja\" : True,\n",
    "       \"isWNI\" : True,\n",
    "       \"isValidforLife\" : True,\n",
    "       \"Hobi\" : [\"Memancing\", \"Membaca\", \"Belajar\"]\n",
    "       }\n",
    "\n",
    "for key in ktp.keys():\n",
    "    print(f\"key {key} memiliki value {ktp[key]}\")"
   ]
  },
  {
   "cell_type": "markdown",
   "metadata": {},
   "source": [
    "### Looping values dictionary - Method .values()\n",
    "\n",
    "Metode .values() dalam dictionary Python digunakan untuk mengambil semua nilai (values) yang terdapat dalam dictionary tersebut, dan mengembalikannya dalam bentuk tipe data yang disebut dict_values."
   ]
  },
  {
   "cell_type": "code",
   "execution_count": 21,
   "metadata": {},
   "outputs": [
    {
     "name": "stdout",
     "output_type": "stream",
     "text": [
      "dict_values([1234567890, 'Remote W. Indonesia', 'Banyumas', '10-02-1999', 'Laki-Laki', {'Desa': 'Wisata Tanjung', 'RT': 4, 'RW': 8, 'Kecamatan': 'Purwokerto'}, 'Islam', False, True, True, True, ['Memancing', 'Membaca', 'Belajar']])\n"
     ]
    }
   ],
   "source": [
    "ktp = {\"NIK\" : 1234567890,\n",
    "       \"Nama\" : \"Remote W. Indonesia\",\n",
    "       \"TempatLahir\" : \"Banyumas\",\n",
    "       \"TanggalLahir\" : \"10-02-1999\",\n",
    "       \"JenisKelamin\" : \"Laki-Laki\",\n",
    "       \"Alamat\" : {\"Desa\" : \"Wisata Tanjung\",\n",
    "                   \"RT\" : 4,\n",
    "                   \"RW\" : 8,\n",
    "                   \"Kecamatan\" : \"Purwokerto\"},\n",
    "       \"Agama\" : \"Islam\",\n",
    "       \"isMenikah\" : False,\n",
    "       \"isBekerja\" : True,\n",
    "       \"isWNI\" : True,\n",
    "       \"isValidforLife\" : True,\n",
    "       \"Hobi\" : [\"Memancing\", \"Membaca\", \"Belajar\"]\n",
    "       }\n",
    "\n",
    "values = ktp.values()\n",
    "print(values)"
   ]
  },
  {
   "cell_type": "code",
   "execution_count": 22,
   "metadata": {},
   "outputs": [
    {
     "name": "stdout",
     "output_type": "stream",
     "text": [
      "1234567890\n",
      "Remote W. Indonesia\n",
      "Banyumas\n",
      "10-02-1999\n",
      "Laki-Laki\n",
      "{'Desa': 'Wisata Tanjung', 'RT': 4, 'RW': 8, 'Kecamatan': 'Purwokerto'}\n",
      "Islam\n",
      "False\n",
      "True\n",
      "True\n",
      "True\n",
      "['Memancing', 'Membaca', 'Belajar']\n"
     ]
    }
   ],
   "source": [
    "for val in values:\n",
    "    print(val)"
   ]
  },
  {
   "cell_type": "markdown",
   "metadata": {},
   "source": [
    "### Apa yang terjadi jika kita meloop dictionary pure (tanpa method .items dkk sebelumnya)?\n",
    "\n",
    "Jika kita meloop dictionary apa adanya, maka hasil loopingannya adalah key dari isi di dictionary, sama seperti .keys()"
   ]
  },
  {
   "cell_type": "code",
   "execution_count": 5,
   "metadata": {},
   "outputs": [
    {
     "name": "stdout",
     "output_type": "stream",
     "text": [
      "NIK\n",
      "Nama\n",
      "TempatLahir\n",
      "TanggalLahir\n",
      "JenisKelamin\n",
      "Alamat\n",
      "Agama\n",
      "isMenikah\n",
      "isBekerja\n",
      "isWNI\n",
      "isValidforLife\n",
      "Hobi\n"
     ]
    }
   ],
   "source": [
    "ktp = {\"NIK\" : 1234567890,\n",
    "       \"Nama\" : \"Remote W. Indonesia\",\n",
    "       \"TempatLahir\" : \"Banyumas\",\n",
    "       \"TanggalLahir\" : \"10-02-1999\",\n",
    "       \"JenisKelamin\" : \"Laki-Laki\",\n",
    "       \"Alamat\" : {\"Desa\" : \"Wisata Tanjung\",\n",
    "                   \"RT\" : 4,\n",
    "                   \"RW\" : 8,\n",
    "                   \"Kecamatan\" : \"Purwokerto\"},\n",
    "       \"Agama\" : \"Islam\",\n",
    "       \"isMenikah\" : False,\n",
    "       \"isBekerja\" : True,\n",
    "       \"isWNI\" : True,\n",
    "       \"isValidforLife\" : True,\n",
    "       \"Hobi\" : [\"Memancing\", \"Membaca\", \"Belajar\"]\n",
    "       }\n",
    "\n",
    "for k in ktp:\n",
    "    print(k)\n",
    "    "
   ]
  },
  {
   "cell_type": "markdown",
   "metadata": {},
   "source": [
    "## Nesting list of dictionaries\n",
    "\n",
    "\n",
    "Nesting list of dictionaries adalah teknik di Python di mana Anda menyimpan dictionary di dalam sebuah list. Ini memungkinkan Anda untuk menyimpan sejumlah besar data terstruktur dalam sebuah struktur data yang fleksibel dan terorganisir.\n",
    "\n",
    "Secara umum, yang dimaksud nesting list of dictionaries, dictionaries bersifat konsisten, artinya satu dictionary dgn dictionary lainnya memiliki urutan keys yang sama "
   ]
  },
  {
   "cell_type": "code",
   "execution_count": 7,
   "metadata": {},
   "outputs": [
    {
     "data": {
      "text/plain": [
       "[{'nama': 'Joko', 'usia': 30, 'jabatan': 'Manager'},\n",
       " {'nama': 'Rangga', 'usia': 25, 'jabatan': 'Staff'},\n",
       " {'nama': 'Meli', 'usia': 35, 'jabatan': 'Analyst'}]"
      ]
     },
     "execution_count": 7,
     "metadata": {},
     "output_type": "execute_result"
    }
   ],
   "source": [
    "karyawan1 = {\"nama\": \"Joko\", \"usia\": 30, \"jabatan\": \"Manager\"}\n",
    "karyawan2 = {\"nama\": \"Rangga\", \"usia\": 25, \"jabatan\": \"Staff\"}\n",
    "karyawan3 = {\"nama\": \"Meli\", \"usia\": 35, \"jabatan\": \"Analyst\"}\n",
    "\n",
    "#cara1\n",
    "employees = [karyawan1,karyawan2,karyawan3]\n",
    "\n",
    "#cara2 (sama aja, hanya perbedaan dalam pembuatan variabel)\n",
    "employees = [{\"nama\": \"Joko\", \"usia\": 30, \"jabatan\": \"Manager\"},\n",
    "             {\"nama\": \"Rangga\", \"usia\": 25, \"jabatan\": \"Staff\"},\n",
    "             {\"nama\": \"Meli\", \"usia\": 35, \"jabatan\": \"Analyst\"}]\n",
    "employees"
   ]
  },
  {
   "cell_type": "code",
   "execution_count": 11,
   "metadata": {},
   "outputs": [
    {
     "name": "stdout",
     "output_type": "stream",
     "text": [
      "karyawan Joko menjabat sebagai Manager\n",
      "karyawan Rangga menjabat sebagai Staff\n",
      "karyawan Meli menjabat sebagai Analyst\n"
     ]
    }
   ],
   "source": [
    "#dari sini, kita bisa meloop list of dictionarynya\n",
    "\n",
    "for karyawan in employees:\n",
    "    print(f\"karyawan {karyawan[\"nama\"]} menjabat sebagai {karyawan[\"jabatan\"]}\")"
   ]
  },
  {
   "cell_type": "code",
   "execution_count": 12,
   "metadata": {},
   "outputs": [
    {
     "data": {
      "text/plain": [
       "[{'nama': 'Joko', 'usia': 30, 'jabatan': 'Manager'},\n",
       " {'nama': 'Rangga', 'usia': 25, 'jabatan': 'Staff'},\n",
       " {'nama': 'Meli', 'usia': 35, 'jabatan': 'Analyst'}]"
      ]
     },
     "execution_count": 12,
     "metadata": {},
     "output_type": "execute_result"
    }
   ],
   "source": [
    "# kita bisa juga mengappend / menambahkan data dictionary ke sebuah list\n",
    "employees = []\n",
    "\n",
    "karyawan1 = {\"nama\": \"Joko\", \"usia\": 30, \"jabatan\": \"Manager\"}\n",
    "karyawan2 = {\"nama\": \"Rangga\", \"usia\": 25, \"jabatan\": \"Staff\"}\n",
    "karyawan3 = {\"nama\": \"Meli\", \"usia\": 35, \"jabatan\": \"Analyst\"}\n",
    "\n",
    "employees.append(karyawan1)\n",
    "employees.append(karyawan2)\n",
    "employees.append(karyawan3)\n",
    "\n",
    "employees\n"
   ]
  },
  {
   "cell_type": "markdown",
   "metadata": {},
   "source": [
    "## Nesting dictionary of dictionaries\n",
    "\n",
    "\n",
    "Nesting dictionary of dictionaries adalah ketika Anda menyimpan dictionary di dalam sebuah dictionary sebagai nilai dari salah satu kunci (keys). Dengan cara ini, Anda dapat membuat struktur data yang lebih kompleks dan terorganisir, di mana setiap dictionary dalam dictionary utama mungkin mewakili entitas yang berbeda dengan atributnya sendiri.\n",
    "\n",
    "Pengalaman pribadi, lebih seringkali menemukan kasus dimana kita harus melakukan nesting list of dictionaries dibandingkan nesting dictionary of dictionaries\n",
    "\n",
    "\n"
   ]
  },
  {
   "cell_type": "code",
   "execution_count": 2,
   "metadata": {},
   "outputs": [
    {
     "data": {
      "text/plain": [
       "{'Joko': {'nama': 'Joko', 'usia': 30, 'jabatan': 'Manager'},\n",
       " 'Rangga': {'nama': 'Rangga', 'usia': 20, 'jabatan': 'Staff'},\n",
       " 'Meli': {'nama': 'Meli', 'usia': 27, 'jabatan': 'Analyst'}}"
      ]
     },
     "execution_count": 2,
     "metadata": {},
     "output_type": "execute_result"
    }
   ],
   "source": [
    "karyawan1 = {\"nama\": \"Joko\", \"usia\": 30, \"jabatan\": \"Manager\"}\n",
    "karyawan2 = {\"nama\": \"Rangga\", \"usia\": 25, \"jabatan\": \"Staff\"}\n",
    "karyawan3 = {\"nama\": \"Meli\", \"usia\": 35, \"jabatan\": \"Analyst\"}\n",
    "\n",
    "employees = {\"karyawan_1\" : karyawan1,\n",
    "             \"karyawan_2\" : karyawan2,\n",
    "             \"karyawan_3\" : karyawan3}\n",
    "\n",
    "\n",
    "raw_visual = {\"Joko\" : {\"nama\" : \"Joko\", \"usia\" : 30, \"jabatan\" : \"Manager\"},\n",
    "            \"Rangga\" : {\"nama\" : \"Rangga\", \"usia\" : 20, \"jabatan\" : \"Staff\"},\n",
    "            \"Meli\" : {\"nama\" : \"Meli\", \"usia\" : 27, \"jabatan\" : \"Analyst\"},\n",
    "}\n",
    "\n",
    "raw_visual\n"
   ]
  },
  {
   "cell_type": "code",
   "execution_count": 7,
   "metadata": {},
   "outputs": [
    {
     "name": "stdout",
     "output_type": "stream",
     "text": [
      "Joko 30 Manager\n",
      "Rangga 20 Staff\n",
      "Meli 27 Analyst\n"
     ]
    }
   ],
   "source": [
    "# looping nest of dictionaries\n",
    "\n",
    "for name,data in raw_visual.items():\n",
    "    nama = data[\"nama\"]\n",
    "    usia = data[\"usia\"]\n",
    "    jabatan = data[\"jabatan\"]\n",
    "    \n",
    "    print(nama, usia, jabatan)"
   ]
  },
  {
   "cell_type": "markdown",
   "metadata": {},
   "source": [
    "## Nesting practice(s)\n",
    "\n",
    "Dalam nesting dictionary atau list, pengalaman yang terjadi adalah bahwa nesting tersebut berisikan struktur data-data yang konsisten nilainya. misal, list of integer, list of list, dst nya"
   ]
  },
  {
   "cell_type": "code",
   "execution_count": 9,
   "metadata": {},
   "outputs": [
    {
     "data": {
      "text/plain": [
       "[[1, 4, 9], [16, 25, 36], [49, 64, 81]]"
      ]
     },
     "execution_count": 9,
     "metadata": {},
     "output_type": "execute_result"
    }
   ],
   "source": [
    "#Contoh nesting yang baik\n",
    "\n",
    "#nesting matrix\n",
    "\n",
    "tensor_kw = [[1,2,3],\n",
    "             [4,5,6],\n",
    "             [7,8,9]] # WTF is matrix? -> https://en.wikipedia.org/wiki/Matrix_(mathematics) || https://youtu.be/f5liqUk0ZTw?si=9jF38F74PQEqWWcF\n",
    "\n",
    "# Nesting diatas bersifat good nesting karena nilai dalam list bersifat data yang konsisten, konsisten dari segi tipe data dan bbrp point tertentu, konsisten dgn panjang data\n",
    "# Jika kita manipulasi list tersebut maka akan aman\n",
    "res = []\n",
    "for t in tensor_kw:\n",
    "    out = [i**2 for i in t] #list comprehension\n",
    "    res.append(out)\n",
    "res\n",
    "\n"
   ]
  },
  {
   "cell_type": "code",
   "execution_count": 10,
   "metadata": {},
   "outputs": [],
   "source": [
    "#WIP Dictionary comprehensions maybe in the future (not pretty useful atm)"
   ]
  },
  {
   "cell_type": "code",
   "execution_count": null,
   "metadata": {},
   "outputs": [],
   "source": []
  }
 ],
 "metadata": {
  "kernelspec": {
   "display_name": "Python 3",
   "language": "python",
   "name": "python3"
  },
  "language_info": {
   "codemirror_mode": {
    "name": "ipython",
    "version": 3
   },
   "file_extension": ".py",
   "mimetype": "text/x-python",
   "name": "python",
   "nbconvert_exporter": "python",
   "pygments_lexer": "ipython3",
   "version": "3.12.1"
  }
 },
 "nbformat": 4,
 "nbformat_minor": 2
}
