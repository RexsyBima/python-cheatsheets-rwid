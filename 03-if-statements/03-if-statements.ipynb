{
 "cells": [
  {
   "cell_type": "markdown",
   "metadata": {},
   "source": [
    "# if statements\n",
    "\n",
    "if statements di Python adalah konstruksi kontrol alur yang digunakan untuk mengatur aliran program berdasarkan suatu kondisi. Dengan menggunakan if statements, Anda dapat menjalankan blok kode tertentu hanya jika kondisi yang ditentukan terpenuhi (bernilai `True`).\n",
    "\n",
    "contoh\n",
    "\n"
   ]
  },
  {
   "cell_type": "code",
   "execution_count": 3,
   "metadata": {},
   "outputs": [
    {
     "name": "stdout",
     "output_type": "stream",
     "text": [
      "hello worlld\n",
      "kode ini tereksekusi karena if condition diatas bersifat True\n"
     ]
    }
   ],
   "source": [
    "# if condition:\n",
    "#     # Blok kode yang akan dijalankan jika kondisi terpenuhi\n",
    "#     statement1\n",
    "#     statement2\n",
    "#     ...\n",
    "\n",
    "if True:\n",
    "    print(\"hello worlld\")\n",
    "    print(\"kode ini tereksekusi karena if condition diatas bersifat True\")\n",
    "    \n",
    "if False:\n",
    "    print(\"hi\")\n",
    "    \n",
    "#Notice di if False condition, terminal tidak memunculkan `hi` karena nilai if tidak memenuhi (bernilai False)\n"
   ]
  },
  {
   "cell_type": "markdown",
   "metadata": {},
   "source": [
    "## Boolean values\n",
    "\n",
    "\n",
    "Boolean values adalah tipe data dalam Python yang mewakili kebenaran atau ketidakbenaran suatu pernyataan. Tipe data boolean hanya memiliki dua nilai: True dan False. Boolean values sering digunakan dalam ekspresi logika, pengambilan keputusan, dan kontrol alur program."
   ]
  },
  {
   "cell_type": "code",
   "execution_count": 15,
   "metadata": {},
   "outputs": [],
   "source": [
    "isOldEnough = True\n",
    "isEligibleToVote = False"
   ]
  },
  {
   "cell_type": "markdown",
   "metadata": {},
   "source": [
    "## Conditional tests akan berperan besar di if Statements\n",
    "\n",
    "\n",
    "Conditional tests di Python adalah ekspresi yang dievaluasi menjadi nilai kebenaran (True atau False) berdasarkan suatu kondisi yang ditentukan. Mereka digunakan dalam konstruksi kontrol alur seperti if statements, while loops, dan dalam logika pengambilan keputusan.\n",
    "\n",
    "ada 8 konditional tests yg tersedia di python\n",
    "1. equality `==` : Memeriksa apakah dua nilai sama.\n",
    "2. inequality `!=` : Memeriksa apakah dua nilai tidak sama.\n",
    "3. greater than `>` : Memeriksa apakah nilai kiri lebih besar dari nilai kanan.\n",
    "4. less than `<` :  Memeriksa apakah nilai kiri lebih kecil dari nilai kanan.\n",
    "5. greater than or equal to `>=` : Memeriksa apakah nilai kiri lebih besar dari atau sama dengan nilai kanan.\n",
    "6. less than or equal to `<=` : Memeriksa apakah nilai kiri lebih kecil dari atau sama dengan nilai kanan.\n",
    "7. membership in `in` : Memeriksa apakah sebuah nilai ada dalam sebuah sequence (seperti list, tuple, atau string).\n",
    "8. not membership `not in` : Memeriksa apakah sebuah nilai tidak ada dalam sebuah sequence."
   ]
  },
  {
   "cell_type": "code",
   "execution_count": 8,
   "metadata": {},
   "outputs": [
    {
     "name": "stdout",
     "output_type": "stream",
     "text": [
      "True\n",
      "False\n",
      "True\n"
     ]
    }
   ],
   "source": [
    "x = 5\n",
    "y = 10\n",
    "\n",
    "print(x == 5) #True\n",
    "print(x == 1) #False\n",
    "print(x != 3) # True"
   ]
  },
  {
   "cell_type": "code",
   "execution_count": 7,
   "metadata": {},
   "outputs": [
    {
     "name": "stdout",
     "output_type": "stream",
     "text": [
      "True\n",
      "False\n"
     ]
    }
   ],
   "source": [
    "print(y > x) #True\n",
    "print(y > 13)#False"
   ]
  },
  {
   "cell_type": "code",
   "execution_count": 9,
   "metadata": {},
   "outputs": [
    {
     "name": "stdout",
     "output_type": "stream",
     "text": [
      "False\n"
     ]
    }
   ],
   "source": [
    "print(x >= 10)  # False"
   ]
  },
  {
   "cell_type": "code",
   "execution_count": 10,
   "metadata": {},
   "outputs": [
    {
     "name": "stdout",
     "output_type": "stream",
     "text": [
      "True\n"
     ]
    }
   ],
   "source": [
    "x = 5\n",
    "print(x <= 10)  # Output: True\n"
   ]
  },
  {
   "cell_type": "code",
   "execution_count": 11,
   "metadata": {},
   "outputs": [
    {
     "name": "stdout",
     "output_type": "stream",
     "text": [
      "True\n",
      "True\n"
     ]
    }
   ],
   "source": [
    "\n",
    "my_list = [1, 2, 3, 4, 5]\n",
    "print(3 in my_list)  # Output: True\n",
    "print(6 not in my_list)  # Output: True\n"
   ]
  },
  {
   "cell_type": "code",
   "execution_count": 14,
   "metadata": {},
   "outputs": [
    {
     "name": "stdout",
     "output_type": "stream",
     "text": [
      "Hello world tereksekusi karena ada nilai `j` didalam name\n"
     ]
    }
   ],
   "source": [
    "# conditional test juga bisa digunakan di tipe data string, tetapi hanya bisa di in dan not in test\n",
    "\n",
    "name = \"joko\"\n",
    "if \"j\" in name:\n",
    "    print(\"Hello world tereksekusi karena ada nilai `j` didalam name\")"
   ]
  },
  {
   "cell_type": "markdown",
   "metadata": {},
   "source": [
    "## And, or operator\n",
    "\n",
    "`and` dan `or` operator digunakan untuk mengecek multiple kondisi dalam Python.\n",
    "\n"
   ]
  },
  {
   "cell_type": "code",
   "execution_count": 13,
   "metadata": {},
   "outputs": [
    {
     "name": "stdout",
     "output_type": "stream",
     "text": [
      "Kedua angka positif\n"
     ]
    }
   ],
   "source": [
    "# Operator and: Mengembalikan True jika kedua kondisi yang diperiksa adalah True.\n",
    "\n",
    "x = 5\n",
    "y = 10\n",
    "if x > 0 and y > 0:\n",
    "    print(\"Kedua angka positif\")\n",
    "    \n"
   ]
  },
  {
   "cell_type": "code",
   "execution_count": 12,
   "metadata": {},
   "outputs": [
    {
     "name": "stdout",
     "output_type": "stream",
     "text": [
      "Salah satu angka positif\n"
     ]
    }
   ],
   "source": [
    "# Operator or: Mengembalikan True jika salah satu dari dua kondisi yang diperiksa adalah True.\n",
    "\n",
    "x = 5\n",
    "y = -1\n",
    "if x > 0 or y > 0:\n",
    "    print(\"Salah satu angka positif\")\n"
   ]
  },
  {
   "cell_type": "code",
   "execution_count": null,
   "metadata": {},
   "outputs": [],
   "source": [
    "# kombinasi operator or dan and\n",
    "\n",
    "x = 10\n",
    "y = 20\n",
    "z = 30\n",
    "if x > 0 and y > 0 or z > 0:\n",
    "    print(\"Setidaknya satu angka positif\")\n",
    "    \n",
    "\"\"\" \n",
    "Dalam contoh diatas, if condition akan dicetak karena setidaknya satu dari kondisi x > 0, y > 0, atau z > 0 bernilai True. \n",
    "Jadi, baik operator and maupun or bisa digunakan untuk mengecek multiple kondisi dalam Python,\n",
    "tergantung pada kebutuhan logika Anda.\n",
    "\"\"\"\n",
    "\n"
   ]
  }
 ],
 "metadata": {
  "kernelspec": {
   "display_name": "Python 3",
   "language": "python",
   "name": "python3"
  },
  "language_info": {
   "codemirror_mode": {
    "name": "ipython",
    "version": 3
   },
   "file_extension": ".py",
   "mimetype": "text/x-python",
   "name": "python",
   "nbconvert_exporter": "python",
   "pygments_lexer": "ipython3",
   "version": "3.12.1"
  }
 },
 "nbformat": 4,
 "nbformat_minor": 2
}
