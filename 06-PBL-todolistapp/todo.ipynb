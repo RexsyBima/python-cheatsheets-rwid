{
 "cells": [
  {
   "cell_type": "code",
   "execution_count": null,
   "metadata": {},
   "outputs": [],
   "source": [
    "\"\"\" kita tulis pseudocodes nya terlebih dahulu (ini pseudocodes v0.1) \n",
    "1. write front menu/ opening menu \"selamat datang di aplikasi to do list\"\n",
    "2. input the todo \n",
    "3. print the todo \n",
    "\n",
    "\"\"\""
   ]
  },
  {
   "cell_type": "code",
   "execution_count": 1,
   "metadata": {},
   "outputs": [
    {
     "name": "stdout",
     "output_type": "stream",
     "text": [
      "Selamat datang di aplikasi todo list\n"
     ]
    }
   ],
   "source": [
    "# 1. Menulis menu \"selamat datang di aplikasi to do list\"\n",
    "print(\"welcome to the todo list app\")"
   ]
  },
  {
   "cell_type": "code",
   "execution_count": 2,
   "metadata": {},
   "outputs": [],
   "source": [
    "# 2. Silahkan masukan todo anda\n",
    "def insert_todo():\n",
    "    todo = input(\"input your todo here : \")\n",
    "    return todo\n",
    "\n",
    "todo = insert_todo()"
   ]
  },
  {
   "cell_type": "code",
   "execution_count": 4,
   "metadata": {},
   "outputs": [
    {
     "name": "stdout",
     "output_type": "stream",
     "text": [
      "Eat\n"
     ]
    }
   ],
   "source": [
    "# 3. Keluarkan todo anda\n",
    "print(todo)"
   ]
  },
  {
   "cell_type": "markdown",
   "metadata": {},
   "source": [
    "# Review\n",
    "\n",
    "dari kode diatas backbone aplikasi sebenarnya sudah jadi, dari sini kita bisa mengimprove aplikasi tersebut\n",
    "\n",
    "improvisasi yang bisa dilakukan:\n",
    "1. buatlah programnya untuk masukan todo list sebanyak mungkin\n",
    "2. ada mekanisme untuk memberhentikan input todo list (jadi aplikasinya bisa berhenti dengan baik)\n",
    "\n",
    "pseudocodes yang bisa diimplementasikan (v0.2)\n",
    "1. write front menu/ opening menu \"selamat datang di aplikasi to do list\"\n",
    "1a. initialize empty todos list\n",
    "2. with while loop: \n",
    "    2a. input the todo and put the todo into a list of todos\n",
    "\n",
    "    2b. if user input 0 or something, then break \n",
    "4. print the todos list\n",
    "\n"
   ]
  },
  {
   "cell_type": "code",
   "execution_count": 5,
   "metadata": {},
   "outputs": [
    {
     "name": "stdout",
     "output_type": "stream",
     "text": [
      "welcome to the todo list app\n"
     ]
    }
   ],
   "source": [
    "\"\"\" \n",
    "1. write front menu/ opening menu \"selamat datang di aplikasi to do list\"\n",
    "1a. initialize empty todos list\n",
    "\"\"\"\n",
    "\n",
    "print(\"welcome to the todo list app\")\n",
    "todos = []"
   ]
  },
  {
   "cell_type": "code",
   "execution_count": 6,
   "metadata": {},
   "outputs": [],
   "source": [
    "\"\"\" \n",
    "2. with while loop: \n",
    "    2a. input the todo and put the todo into a list of todos\n",
    "\n",
    "    2b. if user input 0 or something, then break \n",
    "\"\"\"\n",
    "\n",
    "\n",
    "def insert_todo():\n",
    "    todo = input(\"input your todo here, press 0 to quit inputting the todo : \")\n",
    "    return todo\n",
    "\n",
    "while True:\n",
    "    todo = insert_todo()\n",
    "    if todo == \"0\":\n",
    "        break\n",
    "    todos.append(todo)\n",
    "    \n",
    "    "
   ]
  },
  {
   "cell_type": "code",
   "execution_count": 8,
   "metadata": {},
   "outputs": [
    {
     "name": "stdout",
     "output_type": "stream",
     "text": [
      "['eat', 'drink', 'sleep']\n"
     ]
    }
   ],
   "source": [
    "\"\"\"\n",
    "4. print the todos list\n",
    "\"\"\"\n",
    "\n",
    "print(todos)"
   ]
  },
  {
   "cell_type": "markdown",
   "metadata": {},
   "source": [
    "# Review lagi\n",
    "di kode diatas kita berhasil implementasi biar user bisa menyimpan banyak todo list didalamnya.\n",
    "\n",
    "dari sini kita bisa melakukan improvisasi dimana kita bisa menyimpan hasilnya ke sebuah file, disini paling basic, kita bisa menggunakan tipe data dictionary dan disimpan kesebuah file .json dengan package `json` bawaan python\n",
    "\n",
    "read more https://www.w3schools.com/whatis/whatis_json.asp"
   ]
  },
  {
   "cell_type": "code",
   "execution_count": 2,
   "metadata": {},
   "outputs": [
    {
     "name": "stdout",
     "output_type": "stream",
     "text": [
      "welcome to the todo list app\n",
      "['Makan', 'Nasi', 'Bakso']\n"
     ]
    }
   ],
   "source": [
    "\"\"\" \n",
    "1. write front menu/ opening menu \"selamat datang di aplikasi to do list\"\n",
    "1a. initialize empty todos list\n",
    "\"\"\"\n",
    "\n",
    "print(\"welcome to the todo list app\")\n",
    "todos = []\n",
    "\n",
    "\"\"\" \n",
    "2. with while loop: \n",
    "    2a. input the todo and put the todo into a list of todos\n",
    "\n",
    "    2b. if user input 0 or something, then break \n",
    "\"\"\"\n",
    "\n",
    "\n",
    "def insert_todo():\n",
    "    todo = input(\"input your todo here, press 0 to quit inputting the todo : \")\n",
    "    return todo\n",
    "\n",
    "while True:\n",
    "    todo = insert_todo()\n",
    "    if todo == \"0\":\n",
    "        break\n",
    "    todos.append(todo)\n",
    "    \n",
    "\n",
    "\"\"\"\n",
    "4. print the todos list\n",
    "\"\"\"\n",
    "\n",
    "print(todos)"
   ]
  },
  {
   "cell_type": "code",
   "execution_count": 3,
   "metadata": {},
   "outputs": [],
   "source": [
    "import json\n",
    "\n",
    "def save_json(todos):\n",
    "    datas = {\"todos\" : todos} # kita buat strukturnya menjadi dictionary dengan key todos dan values list of todos\n",
    "    with open(\"todos.json\", \"w\") as file:\n",
    "        json.dump(datas, file)\n",
    "\n",
    "save_json(todos)"
   ]
  },
  {
   "cell_type": "markdown",
   "metadata": {},
   "source": [
    "# Review (lagi)\n",
    "\n",
    "Diatas kita berhasil melakukan implementasi aplikasi to do list kita dengan ada fitur menyimpan data kita ke json, setelah dipikir2 lagi, kita bisa menambahkan fitur lagi dimana kita bisa meload todo list kita dan bisa menambahkan data kita dari data yang sudah diload"
   ]
  },
  {
   "cell_type": "code",
   "execution_count": 4,
   "metadata": {},
   "outputs": [
    {
     "data": {
      "text/plain": [
       "{'todos': ['Makan', 'Nasi', 'Bakso']}"
      ]
     },
     "execution_count": 4,
     "metadata": {},
     "output_type": "execute_result"
    }
   ],
   "source": [
    "# Fitur load todos\n",
    "def load_todos():\n",
    "    with open(\"todos.json\", \"r\") as file:\n",
    "        data = json.load(file)\n",
    "    return data\n",
    "\n",
    "load_todos()"
   ]
  },
  {
   "cell_type": "code",
   "execution_count": 14,
   "metadata": {},
   "outputs": [
    {
     "name": "stdout",
     "output_type": "stream",
     "text": [
      "{'todos': ['Makan', 'Nasi', 'Bakso', 'makan', 'nasi']}\n",
      "Welcome to the Todo list app\n",
      "your todos : \n",
      "1. Makan\n",
      "2. Nasi\n",
      "3. Bakso\n",
      "4. makan\n",
      "5. nasi\n"
     ]
    }
   ],
   "source": [
    "#Implementasi fullnya (pythonic way)\n",
    "import json\n",
    "def load_todos():\n",
    "    with open(\"todos.json\", \"r\") as file:\n",
    "        data = json.load(file)\n",
    "    return data\n",
    "\n",
    "def insert_todo():\n",
    "    todo = input(\"input your todo here, press 0 to quit inputting the todo : \")\n",
    "    return todo\n",
    "\n",
    "def save_json(todos):\n",
    "    datas = {\"todos\" : todos} # kita buat strukturnya menjadi dictionary dengan key todos dan values list of todos\n",
    "    with open(\"todos.json\", \"w\") as file:\n",
    "        json.dump(datas, file)\n",
    "        \n",
    "\n",
    "        \n",
    "if __name__ == \"__main__\":\n",
    "    todos = load_todos()\n",
    "    print(todos) # untuk debug, notice nilai keluarnya adalah dictionary dengan key todos dan value list of todos, kita bisa ambil saja todos nya demi kemudahan\n",
    "    todos = todos[\"todos\"]\n",
    "    print(\"Welcome to the Todo list app\")\n",
    "    print(\"your todos : \")\n",
    "    for i,t in enumerate(todos, start=1): #kita access key \"todos\" untuk mengeluarkan value list \"todos\"\n",
    "        print(f\"{i}. {t}\")\n",
    "    while True:\n",
    "        todo = insert_todo()\n",
    "        if todo == \"0\":\n",
    "            break\n",
    "        todos.append(todo)\n",
    "    save_json(todos)"
   ]
  },
  {
   "cell_type": "markdown",
   "metadata": {},
   "source": [
    "# Review (lagi)\n",
    "\n",
    "Diatas kita berhasil melakukan implementasi aplikasi to do list kita dengan ada fitur menyimpan dan meload data kita ke json, dari sini kita bisa mulai implementasi fitur dimana kita bisa menambahkan (fitur default), mengubah, dan menghapus todo list kita\n",
    "\n",
    "pseudocodes\n",
    "1. when running the app, the app will ask the user what feature / what will they do with the app\n",
    "2. if user input 1, then do add feature\n",
    "3. if user input 2, then do modify todo feature\n",
    "4. if user input 3, then do delete todo feature\n",
    "5. if user input 0, then do save todos and exit the app\n",
    "\n",
    "kita coba take on 1 persatu\n"
   ]
  },
  {
   "cell_type": "code",
   "execution_count": 26,
   "metadata": {},
   "outputs": [
    {
     "name": "stdout",
     "output_type": "stream",
     "text": [
      "{'todos': []}\n",
      "Welcome to the Todo list app\n",
      "your todos : \n"
     ]
    }
   ],
   "source": [
    "#Implementasi fullnya (pythonic way)\n",
    "import json\n",
    "from os import access\n",
    "def load_todos():\n",
    "    with open(\"todos.json\", \"r\") as file:\n",
    "        data = json.load(file)\n",
    "    return data\n",
    "\n",
    "\n",
    "def save_json(todos):\n",
    "    datas = {\"todos\" : todos} # kita buat strukturnya menjadi dictionary dengan key todos dan values list of todos\n",
    "    with open(\"todos.json\", \"w\") as file:\n",
    "        json.dump(datas, file)\n",
    "\n",
    "#kita rubah fitur add banyak todos menjadi fungsi\n",
    "def insert_todos(todos : list):\n",
    "    while True:\n",
    "        todo = input(\"input your todo here, press 0 to quit inputting the todo : \")\n",
    "        if todo == \"0\":\n",
    "            break\n",
    "        todos.append(todo)\n",
    "    return todos\n",
    "\n",
    "def modify_todos(todos : list):\n",
    "    while True:\n",
    "        todo_index = int(input(\"insert what number of the todos you want to modify\"))\n",
    "        if todo_index == 0:\n",
    "            break\n",
    "        todos[todo_index-1] = input(\"what is the todo you want to put in here?\")\n",
    "        print(todos)\n",
    "    return todos\n",
    "\n",
    "def show_todos(todos:list):\n",
    "    for i,t in enumerate(todos, start=1):\n",
    "        print(f\"{i}. {t}\")\n",
    "\n",
    "\n",
    "\n",
    "def delete_todo(todos:list):\n",
    "    while True:\n",
    "        todo_index = int(input(\"insert what number of the todos you want to delete\"))\n",
    "        if todo_index == 0:\n",
    "            break\n",
    "        todos.pop(todo_index - 1) #indexing starts from zero...\n",
    "    return todos\n",
    "\n",
    "def clear_todos(todos : list):\n",
    "    sure = input(\"are you sure you want to clear all the todos? type yes to execute, else to no\")\n",
    "    if sure == \"yes\":\n",
    "        todos.clear()\n",
    "        return todos\n",
    "    else:\n",
    "        print(\"exiting menu\")\n",
    "        return todos\n",
    "\n",
    "if __name__ == \"__main__\":\n",
    "    todos = load_todos()\n",
    "    print(todos) # untuk debug, notice nilai keluarnya adalah dictionary dengan key todos dan value list of todos, kita bisa ambil saja todos nya demi kemudahan\n",
    "    todos = todos[\"todos\"]  #kita access key \"todos\" untuk mengeluarkan value list \"todos\"\n",
    "    print(\"Welcome to the Todo list app\")\n",
    "    print(\"your todos : \")\n",
    "    show_todos(todos)\n",
    "    access_feature = input(\"press 1 to add todo(s), 2 to modify todos, 3 to show todos, 4 to delete todos, 5 to save todos\")\n",
    "    while True:\n",
    "        if access_feature == \"1\":\n",
    "            todos = insert_todos(todos)\n",
    "        elif access_feature == \"2\":\n",
    "            todos = modify_todos(todos)\n",
    "        elif access_feature == \"3\":\n",
    "            show_todos(todos)\n",
    "        elif access_feature == \"4\":\n",
    "            todos = delete_todo(todos)\n",
    "        elif access_feature == \"5\":\n",
    "            save_json(todos)\n",
    "        elif access_feature == \"6\":\n",
    "            todos = clear_todos(todos)\n",
    "        elif access_feature == \"7\":\n",
    "            save_json(todos)\n",
    "            break\n",
    "        else:\n",
    "            print(\"invalid input\")"
   ]
  },
  {
   "cell_type": "markdown",
   "metadata": {},
   "source": [
    "# Review (lagi)\n",
    "\n",
    "di kode diatas, kita sudah melakukan implementasi secara full mengenai aplikasi to do list kita, apakah masih bisa diimprove? tentu saja bisa, kita lihat kita melanggar konsep DRY (Dont repeat yourself) dimana kita melakukan pengecekan statement if elif variable access feature secara berulang2. disini, kita bisa mengurangi DRY kita dengan menggantikan pengecekan if elif else statement dengan match-case ."
   ]
  },
  {
   "cell_type": "code",
   "execution_count": 2,
   "metadata": {},
   "outputs": [
    {
     "name": "stdout",
     "output_type": "stream",
     "text": [
      "{'todos': ['olahragag', 'tidur']}\n",
      "Welcome to the Todo list app\n",
      "your todos : \n",
      "1. olahragag\n",
      "2. tidur\n",
      "invalid input, try again.\n",
      "invalid input, try again.\n",
      "invalid input, try again.\n",
      "invalid input, try again.\n"
     ]
    }
   ],
   "source": [
    "#Implementasi fullnya (pythonic way)\n",
    "import json\n",
    "from os import access\n",
    "def load_todos():\n",
    "    with open(\"todos.json\", \"r\") as file:\n",
    "        data = json.load(file)\n",
    "    return data\n",
    "\n",
    "\n",
    "def save_json(todos):\n",
    "    datas = {\"todos\" : todos} # kita buat strukturnya menjadi dictionary dengan key todos dan values list of todos\n",
    "    with open(\"todos.json\", \"w\") as file:\n",
    "        json.dump(datas, file)\n",
    "\n",
    "#kita rubah fitur add banyak todos menjadi fungsi\n",
    "def insert_todos(todos : list):\n",
    "    while True:\n",
    "        todo = input(\"input your todo here, press 0 to quit inputting the todo : \")\n",
    "        if todo == \"0\":\n",
    "            break\n",
    "        todos.append(todo)\n",
    "    return todos\n",
    "\n",
    "def modify_todos(todos : list):\n",
    "    while True:\n",
    "        todo_index = int(input(\"insert what number of the todos you want to modify\"))\n",
    "        if todo_index == 0:\n",
    "            break\n",
    "        todos[todo_index-1] = input(\"what is the todo you want to put in here?\")\n",
    "        print(todos)\n",
    "    return todos\n",
    "\n",
    "def show_todos(todos:list):\n",
    "    for i,t in enumerate(todos, start=1):\n",
    "        print(f\"{i}. {t}\")\n",
    "\n",
    "\n",
    "\n",
    "def delete_todo(todos:list):\n",
    "    while True:\n",
    "        todo_index = int(input(\"insert what number of the todos you want to delete\"))\n",
    "        if todo_index == 0:\n",
    "            break\n",
    "        todos.pop(todo_index - 1) #indexing starts from zero...\n",
    "    return todos\n",
    "\n",
    "def clear_todos(todos : list):\n",
    "    sure = input(\"are you sure you want to clear all the todos? type yes to execute, else to no\")\n",
    "    if sure == \"yes\":\n",
    "        todos.clear()\n",
    "        return todos\n",
    "    else:\n",
    "        print(\"exiting menu\")\n",
    "        return todos\n",
    "\n",
    "if __name__ == \"__main__\":\n",
    "    todos = load_todos()\n",
    "    print(todos) # untuk debug, notice nilai keluarnya adalah dictionary dengan key todos dan value list of todos, kita bisa ambil saja todos nya demi kemudahan\n",
    "    todos = todos[\"todos\"]  #kita access key \"todos\" untuk mengeluarkan value list \"todos\"\n",
    "    print(\"Welcome to the Todo list app\")\n",
    "    print(\"your todos : \")\n",
    "    show_todos(todos)\n",
    "    while True:\n",
    "        access_feature = input(\"press 1 to add todo(s), 2 to modify todos, 3 to show todos, 4 to delete todos, 5 to save todos\")\n",
    "        match access_feature:\n",
    "            case \"1\":\n",
    "                todos = insert_todos(todos)\n",
    "            case \"2\":\n",
    "                todos = modify_todos(todos)\n",
    "            case \"3\":\n",
    "                show_todos(todos)\n",
    "            case \"4\":\n",
    "                todos = delete_todo(todos)\n",
    "            case \"5\":\n",
    "                save_json(todos)\n",
    "            case \"6\":\n",
    "                todos = clear_todos(todos)\n",
    "            case \"7\":\n",
    "                save_json(todos)\n",
    "                break\n",
    "            case _:\n",
    "                print(\"invalid input, try again.\")"
   ]
  },
  {
   "cell_type": "code",
   "execution_count": null,
   "metadata": {},
   "outputs": [],
   "source": []
  }
 ],
 "metadata": {
  "kernelspec": {
   "display_name": "Python 3",
   "language": "python",
   "name": "python3"
  },
  "language_info": {
   "codemirror_mode": {
    "name": "ipython",
    "version": 3
   },
   "file_extension": ".py",
   "mimetype": "text/x-python",
   "name": "python",
   "nbconvert_exporter": "python",
   "pygments_lexer": "ipython3",
   "version": "3.12.1"
  }
 },
 "nbformat": 4,
 "nbformat_minor": 2
}
