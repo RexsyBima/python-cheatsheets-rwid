{
 "cells": [
  {
   "cell_type": "code",
   "execution_count": null,
   "metadata": {},
   "outputs": [],
   "source": [
    "\"\"\" kita tulis pseudocodes nya terlebih dahulu (ini pseudocodes v0.1) \n",
    "1. write front menu/ opening menu \"selamat datang di aplikasi to do list\"\n",
    "2. input the todo \n",
    "3. print the todo \n",
    "\n",
    "\"\"\""
   ]
  },
  {
   "cell_type": "code",
   "execution_count": 1,
   "metadata": {},
   "outputs": [
    {
     "name": "stdout",
     "output_type": "stream",
     "text": [
      "Selamat datang di aplikasi todo list\n"
     ]
    }
   ],
   "source": [
    "# 1. Menulis menu \"selamat datang di aplikasi to do list\"\n",
    "print(\"welcome to the todo list app\")"
   ]
  },
  {
   "cell_type": "code",
   "execution_count": 2,
   "metadata": {},
   "outputs": [],
   "source": [
    "# 2. Silahkan masukan todo anda\n",
    "def insert_todo():\n",
    "    todo = input(\"input your todo here : \")\n",
    "    return todo\n",
    "\n",
    "todo = insert_todo()"
   ]
  },
  {
   "cell_type": "code",
   "execution_count": 4,
   "metadata": {},
   "outputs": [
    {
     "name": "stdout",
     "output_type": "stream",
     "text": [
      "Eat\n"
     ]
    }
   ],
   "source": [
    "# 3. Keluarkan todo anda\n",
    "print(todo)"
   ]
  },
  {
   "cell_type": "markdown",
   "metadata": {},
   "source": [
    "# Review\n",
    "\n",
    "dari kode diatas backbone aplikasi sebenarnya sudah jadi, dari sini kita bisa mengimprove aplikasi tersebut\n",
    "\n",
    "improvisasi yang bisa dilakukan:\n",
    "1. buatlah programnya untuk masukan todo list sebanyak mungkin\n",
    "2. ada mekanisme untuk memberhentikan input todo list (jadi aplikasinya bisa berhenti dengan baik)\n",
    "\n",
    "pseudocodes yang bisa diimplementasikan (v0.2)\n",
    "1. write front menu/ opening menu \"selamat datang di aplikasi to do list\"\n",
    "1a. initialize empty todos list\n",
    "2. with while loop: \n",
    "    2a. input the todo and put the todo into a list of todos\n",
    "\n",
    "    2b. if user input 0 or something, then break \n",
    "4. print the todos list\n",
    "\n"
   ]
  },
  {
   "cell_type": "code",
   "execution_count": 5,
   "metadata": {},
   "outputs": [
    {
     "name": "stdout",
     "output_type": "stream",
     "text": [
      "welcome to the todo list app\n"
     ]
    }
   ],
   "source": [
    "\"\"\" \n",
    "1. write front menu/ opening menu \"selamat datang di aplikasi to do list\"\n",
    "1a. initialize empty todos list\n",
    "\"\"\"\n",
    "\n",
    "print(\"welcome to the todo list app\")\n",
    "todos = []"
   ]
  },
  {
   "cell_type": "code",
   "execution_count": 6,
   "metadata": {},
   "outputs": [],
   "source": [
    "\"\"\" \n",
    "2. with while loop: \n",
    "    2a. input the todo and put the todo into a list of todos\n",
    "\n",
    "    2b. if user input 0 or something, then break \n",
    "\"\"\"\n",
    "\n",
    "\n",
    "def insert_todo():\n",
    "    todo = input(\"input your todo here, press 0 to quit inputting the todo : \")\n",
    "    return todo\n",
    "\n",
    "while True:\n",
    "    todo = insert_todo()\n",
    "    if todo == \"0\":\n",
    "        break\n",
    "    todos.append(todo)\n",
    "    \n",
    "    "
   ]
  },
  {
   "cell_type": "code",
   "execution_count": 8,
   "metadata": {},
   "outputs": [
    {
     "name": "stdout",
     "output_type": "stream",
     "text": [
      "['eat', 'drink', 'sleep']\n"
     ]
    }
   ],
   "source": [
    "\"\"\"\n",
    "4. print the todos list\n",
    "\"\"\"\n",
    "\n",
    "print(todos)"
   ]
  },
  {
   "cell_type": "markdown",
   "metadata": {},
   "source": [
    "# Review lagi\n",
    "di kode diatas kita berhasil implementasi biar user bisa menyimpan banyak todo list didalamnya.\n",
    "\n",
    "dari sini kita bisa melakukan improvisasi dimana kita bisa menyimpan hasilnya ke sebuah file, disini paling basic, kita bisa menggunakan tipe data dictionary dan disimpan kesebuah file .json dengan package `json` bawaan python\n",
    "\n",
    "read more https://www.w3schools.com/whatis/whatis_json.asp"
   ]
  },
  {
   "cell_type": "code",
   "execution_count": 2,
   "metadata": {},
   "outputs": [
    {
     "name": "stdout",
     "output_type": "stream",
     "text": [
      "welcome to the todo list app\n",
      "['Makan', 'Nasi', 'Bakso']\n"
     ]
    }
   ],
   "source": [
    "\"\"\" \n",
    "1. write front menu/ opening menu \"selamat datang di aplikasi to do list\"\n",
    "1a. initialize empty todos list\n",
    "\"\"\"\n",
    "\n",
    "print(\"welcome to the todo list app\")\n",
    "todos = []\n",
    "\n",
    "\"\"\" \n",
    "2. with while loop: \n",
    "    2a. input the todo and put the todo into a list of todos\n",
    "\n",
    "    2b. if user input 0 or something, then break \n",
    "\"\"\"\n",
    "\n",
    "\n",
    "def insert_todo():\n",
    "    todo = input(\"input your todo here, press 0 to quit inputting the todo : \")\n",
    "    return todo\n",
    "\n",
    "while True:\n",
    "    todo = insert_todo()\n",
    "    if todo == \"0\":\n",
    "        break\n",
    "    todos.append(todo)\n",
    "    \n",
    "\n",
    "\"\"\"\n",
    "4. print the todos list\n",
    "\"\"\"\n",
    "\n",
    "print(todos)"
   ]
  },
  {
   "cell_type": "code",
   "execution_count": 3,
   "metadata": {},
   "outputs": [],
   "source": [
    "import json\n",
    "\n",
    "def save_json(todos):\n",
    "    datas = {\"todos\" : todos} # kita buat strukturnya menjadi dictionary dengan key todos dan values list of todos\n",
    "    with open(\"todos.json\", \"w\") as file:\n",
    "        json.dump(datas, file)\n",
    "\n",
    "save_json(todos)"
   ]
  },
  {
   "cell_type": "markdown",
   "metadata": {},
   "source": [
    "# Review (lagi)\n",
    "\n",
    "Diatas kita berhasil melakukan implementasi aplikasi to do list kita dengan ada fitur menyimpan data kita ke json, setelah dipikir2 lagi, kita bisa menambahkan fitur lagi dimana kita bisa meload todo list kita dan bisa menambahkan data kita dari data yang sudah diload"
   ]
  },
  {
   "cell_type": "code",
   "execution_count": 4,
   "metadata": {},
   "outputs": [
    {
     "data": {
      "text/plain": [
       "{'todos': ['Makan', 'Nasi', 'Bakso']}"
      ]
     },
     "execution_count": 4,
     "metadata": {},
     "output_type": "execute_result"
    }
   ],
   "source": [
    "# Fitur load todos\n",
    "def load_todos():\n",
    "    with open(\"todos.json\", \"r\") as file:\n",
    "        data = json.load(file)\n",
    "    return data\n",
    "\n",
    "load_todos()"
   ]
  },
  {
   "cell_type": "code",
   "execution_count": 14,
   "metadata": {},
   "outputs": [
    {
     "name": "stdout",
     "output_type": "stream",
     "text": [
      "{'todos': ['Makan', 'Nasi', 'Bakso', 'makan', 'nasi']}\n",
      "Welcome to the Todo list app\n",
      "your todos : \n",
      "1. Makan\n",
      "2. Nasi\n",
      "3. Bakso\n",
      "4. makan\n",
      "5. nasi\n"
     ]
    }
   ],
   "source": [
    "#Implementasi fullnya (pythonic way)\n",
    "import json\n",
    "def load_todos():\n",
    "    with open(\"todos.json\", \"r\") as file:\n",
    "        data = json.load(file)\n",
    "    return data\n",
    "\n",
    "def insert_todo():\n",
    "    todo = input(\"input your todo here, press 0 to quit inputting the todo : \")\n",
    "    return todo\n",
    "\n",
    "def save_json(todos):\n",
    "    datas = {\"todos\" : todos} # kita buat strukturnya menjadi dictionary dengan key todos dan values list of todos\n",
    "    with open(\"todos.json\", \"w\") as file:\n",
    "        json.dump(datas, file)\n",
    "        \n",
    "\n",
    "        \n",
    "if __name__ == \"__main__\":\n",
    "    todos = load_todos()\n",
    "    print(todos) # untuk debug, notice nilai keluarnya adalah dictionary dengan key todos dan value list of todos, kita bisa ambil saja todos nya demi kemudahan\n",
    "    todos = todos[\"todos\"]\n",
    "    print(\"Welcome to the Todo list app\")\n",
    "    print(\"your todos : \")\n",
    "    for i,t in enumerate(todos, start=1): #kita access key \"todos\" untuk mengeluarkan value list \"todos\"\n",
    "        print(f\"{i}. {t}\")\n",
    "    while True:\n",
    "        todo = insert_todo()\n",
    "        if todo == \"0\":\n",
    "            break\n",
    "        todos.append(todo)\n",
    "    save_json(todos)"
   ]
  },
  {
   "cell_type": "markdown",
   "metadata": {},
   "source": [
    "# Review (lagi)\n",
    "\n",
    "Diatas kita berhasil melakukan implementasi aplikasi to do list kita dengan ada fitur menyimpan dan meload data kita ke json, dari sini kita bisa mulai implementasi fitur dimana kita bisa menambahkan (fitur default), mengubah, dan menghapus todo list kita\n",
    "\n",
    "pseudocodes\n",
    "1. when running the app, the app will ask the user what feature / what will they do with the app\n",
    "2. if user input 1, then do add feature\n",
    "3. if user input 2, then do modify todo feature\n",
    "4. if user input 3, then do delete todo feature\n",
    "5. if user input 0, then do save todos and exit the app\n",
    "\n",
    "kita coba take on 1 persatu\n"
   ]
  },
  {
   "cell_type": "code",
   "execution_count": 26,
   "metadata": {},
   "outputs": [
    {
     "name": "stdout",
     "output_type": "stream",
     "text": [
      "{'todos': []}\n",
      "Welcome to the Todo list app\n",
      "your todos : \n"
     ]
    }
   ],
   "source": [
    "#Implementasi fullnya (pythonic way)\n",
    "import json\n",
    "from os import access\n",
    "def load_todos():\n",
    "    with open(\"todos.json\", \"r\") as file:\n",
    "        data = json.load(file)\n",
    "    return data\n",
    "\n",
    "\n",
    "def save_json(todos):\n",
    "    datas = {\"todos\" : todos} # kita buat strukturnya menjadi dictionary dengan key todos dan values list of todos\n",
    "    with open(\"todos.json\", \"w\") as file:\n",
    "        json.dump(datas, file)\n",
    "\n",
    "#kita rubah fitur add banyak todos menjadi fungsi\n",
    "def insert_todos(todos : list):\n",
    "    while True:\n",
    "        todo = input(\"input your todo here, press 0 to quit inputting the todo : \")\n",
    "        if todo == \"0\":\n",
    "            break\n",
    "        todos.append(todo)\n",
    "    return todos\n",
    "\n",
    "def modify_todos(todos : list):\n",
    "    while True:\n",
    "        todo_index = int(input(\"insert what number of the todos you want to modify\"))\n",
    "        if todo_index == 0:\n",
    "            break\n",
    "        todos[todo_index-1] = input(\"what is the todo you want to put in here?\")\n",
    "        print(todos)\n",
    "    return todos\n",
    "\n",
    "def show_todos(todos:list):\n",
    "    for i,t in enumerate(todos, start=1):\n",
    "        print(f\"{i}. {t}\")\n",
    "\n",
    "\n",
    "\n",
    "def delete_todo(todos:list):\n",
    "    while True:\n",
    "        todo_index = int(input(\"insert what number of the todos you want to delete\"))\n",
    "        if todo_index == 0:\n",
    "            break\n",
    "        todos.pop(todo_index - 1) #indexing starts from zero...\n",
    "    return todos\n",
    "\n",
    "def clear_todos(todos : list):\n",
    "    sure = input(\"are you sure you want to clear all the todos? type yes to execute, else to no\")\n",
    "    if sure == \"yes\":\n",
    "        todos.clear()\n",
    "        return todos\n",
    "    else:\n",
    "        print(\"exiting menu\")\n",
    "        return todos\n",
    "\n",
    "if __name__ == \"__main__\":\n",
    "    todos = load_todos()\n",
    "    print(todos) # untuk debug, notice nilai keluarnya adalah dictionary dengan key todos dan value list of todos, kita bisa ambil saja todos nya demi kemudahan\n",
    "    todos = todos[\"todos\"]  #kita access key \"todos\" untuk mengeluarkan value list \"todos\"\n",
    "    print(\"Welcome to the Todo list app\")\n",
    "    print(\"your todos : \")\n",
    "    show_todos(todos)\n",
    "    access_feature = input(\"press 1 to add todo(s), 2 to modify todos, 3 to show todos, 4 to delete todos, 5 to save todos\")\n",
    "    while True:\n",
    "        if access_feature == \"1\":\n",
    "            todos = insert_todos(todos)\n",
    "        elif access_feature == \"2\":\n",
    "            todos = modify_todos(todos)\n",
    "        elif access_feature == \"3\":\n",
    "            show_todos(todos)\n",
    "        elif access_feature == \"4\":\n",
    "            todos = delete_todo(todos)\n",
    "        elif access_feature == \"5\":\n",
    "            save_json(todos)\n",
    "        elif access_feature == \"6\":\n",
    "            todos = clear_todos(todos)\n",
    "        elif access_feature == \"7\":\n",
    "            save_json(todos)\n",
    "            break\n",
    "        else:\n",
    "            print(\"invalid input\")"
   ]
  },
  {
   "cell_type": "markdown",
   "metadata": {},
   "source": [
    "# Review (lagi)\n",
    "\n",
    "di kode diatas, kita sudah melakukan implementasi secara full mengenai aplikasi to do list kita, apakah masih bisa diimprove? tentu saja bisa, kita lihat kita melanggar konsep DRY (Dont repeat yourself) dimana kita melakukan pengecekan statement if elif variable access feature secara berulang2. disini, kita bisa mengurangi DRY kita dengan menggantikan pengecekan if elif else statement dengan match-case ."
   ]
  },
  {
   "cell_type": "code",
   "execution_count": 2,
   "metadata": {},
   "outputs": [
    {
     "name": "stdout",
     "output_type": "stream",
     "text": [
      "{'todos': ['olahragag', 'tidur']}\n",
      "Welcome to the Todo list app\n",
      "your todos : \n",
      "1. olahragag\n",
      "2. tidur\n",
      "invalid input, try again.\n",
      "invalid input, try again.\n",
      "invalid input, try again.\n",
      "invalid input, try again.\n"
     ]
    }
   ],
   "source": [
    "#Implementasi fullnya (pythonic way)\n",
    "import json\n",
    "def load_todos():\n",
    "    with open(\"todos.json\", \"r\") as file:\n",
    "        data = json.load(file)\n",
    "    return data\n",
    "\n",
    "\n",
    "def save_json(todos):\n",
    "    datas = {\"todos\" : todos} # kita buat strukturnya menjadi dictionary dengan key todos dan values list of todos\n",
    "    with open(\"todos.json\", \"w\") as file:\n",
    "        json.dump(datas, file)\n",
    "\n",
    "#kita rubah fitur add banyak todos menjadi fungsi\n",
    "def insert_todos(todos : list):\n",
    "    while True:\n",
    "        todo = input(\"input your todo here, press 0 to quit inputting the todo : \")\n",
    "        if todo == \"0\":\n",
    "            break\n",
    "        todos.append(todo)\n",
    "    return todos\n",
    "\n",
    "def modify_todos(todos : list):\n",
    "    while True:\n",
    "        todo_index = int(input(\"insert what number of the todos you want to modify\"))\n",
    "        if todo_index == 0:\n",
    "            break\n",
    "        todos[todo_index-1] = input(\"what is the todo you want to put in here?\")\n",
    "        print(todos)\n",
    "    return todos\n",
    "\n",
    "def show_todos(todos:list):\n",
    "    for i,t in enumerate(todos, start=1):\n",
    "        print(f\"{i}. {t}\")\n",
    "\n",
    "\n",
    "\n",
    "def delete_todo(todos:list):\n",
    "    while True:\n",
    "        todo_index = int(input(\"insert what number of the todos you want to delete\"))\n",
    "        if todo_index == 0:\n",
    "            break\n",
    "        todos.pop(todo_index - 1) #indexing starts from zero...\n",
    "    return todos\n",
    "\n",
    "def clear_todos(todos : list):\n",
    "    sure = input(\"are you sure you want to clear all the todos? type yes to execute, else to no\")\n",
    "    if sure == \"yes\":\n",
    "        todos.clear()\n",
    "        return todos\n",
    "    else:\n",
    "        print(\"exiting menu\")\n",
    "        return todos\n",
    "\n",
    "if __name__ == \"__main__\":\n",
    "    todos = load_todos()\n",
    "    print(todos) # untuk debug, notice nilai keluarnya adalah dictionary dengan key todos dan value list of todos, kita bisa ambil saja todos nya demi kemudahan\n",
    "    todos = todos[\"todos\"]  #kita access key \"todos\" untuk mengeluarkan value list \"todos\"\n",
    "    print(\"Welcome to the Todo list app\")\n",
    "    print(\"your todos : \")\n",
    "    show_todos(todos)\n",
    "    while True:\n",
    "        access_feature = input(\"press 1 to add todo(s), 2 to modify todos, 3 to show todos, 4 to delete todos, 5 to save todos\")\n",
    "        match access_feature:\n",
    "            case \"1\":\n",
    "                todos = insert_todos(todos)\n",
    "            case \"2\":\n",
    "                todos = modify_todos(todos)\n",
    "            case \"3\":\n",
    "                show_todos(todos)\n",
    "            case \"4\":\n",
    "                todos = delete_todo(todos)\n",
    "            case \"5\":\n",
    "                save_json(todos)\n",
    "            case \"6\":\n",
    "                todos = clear_todos(todos)\n",
    "            case \"7\":\n",
    "                save_json(todos)\n",
    "                break\n",
    "            case _:\n",
    "                print(\"invalid input, try again.\")"
   ]
  },
  {
   "cell_type": "markdown",
   "metadata": {},
   "source": [
    "# QA test time\n",
    "\n",
    "setelah aplikasi kita anggap telah berjalan lurus, tahap yg dilakukan berikutnya adalah QA testing (quality assurance), intinya di tahap ini kita harus mencoba cara mencari biar programnya error, misal kita bisa masukan input yg salah, apa yang akan terjadi, dst nya.\n",
    "\n",
    "list testing\n",
    "1. coba apa yg terjadi jika kita tidak memiliki file `todos.json`?\n",
    "2. apa yg terjadi ketika modify todo kita, kita memasukkan nilai integer negatif? atau bahkan input bukan integer?"
   ]
  },
  {
   "cell_type": "code",
   "execution_count": 4,
   "metadata": {},
   "outputs": [
    {
     "name": "stdout",
     "output_type": "stream",
     "text": [
      "{'todos': ['olahragag', 'tidur']}\n",
      "Welcome to the Todo list app\n",
      "your todos : \n",
      "1. olahragag\n",
      "2. tidur\n",
      "['Makan', 'tidur']\n"
     ]
    }
   ],
   "source": [
    "\"\"\" FULL CODE \"\"\"\n",
    "\n",
    "#Implementasi fullnya (pythonic way)\n",
    "import json\n",
    "def load_todos():\n",
    "    with open(\"todos.json\", \"r\") as file:\n",
    "        data = json.load(file)\n",
    "    return data\n",
    "\n",
    "\n",
    "def save_json(todos):\n",
    "    datas = {\"todos\" : todos} # kita buat strukturnya menjadi dictionary dengan key todos dan values list of todos\n",
    "    with open(\"todos.json\", \"w\") as file:\n",
    "        json.dump(datas, file)\n",
    "\n",
    "#kita rubah fitur add banyak todos menjadi fungsi\n",
    "def insert_todos(todos : list):\n",
    "    while True:\n",
    "        todo = input(\"input your todo here, press 0 to quit inputting the todo : \")\n",
    "        if todo == \"0\":\n",
    "            break\n",
    "        todos.append(todo)\n",
    "    return todos\n",
    "\n",
    "def modify_todos(todos : list):\n",
    "    while True:\n",
    "        todo_index = int(input(\"insert what number of the todos you want to modify\"))\n",
    "        if todo_index == 0:\n",
    "            break\n",
    "        todos[todo_index-1] = input(\"what is the todo you want to put in here?\")\n",
    "        print(todos)\n",
    "    return todos\n",
    "\n",
    "def show_todos(todos:list):\n",
    "    for i,t in enumerate(todos, start=1):\n",
    "        print(f\"{i}. {t}\")\n",
    "\n",
    "\n",
    "\n",
    "def delete_todo(todos:list):\n",
    "    while True:\n",
    "        todo_index = int(input(\"insert what number of the todos you want to delete\"))\n",
    "        if todo_index == 0:\n",
    "            break\n",
    "        todos.pop(todo_index - 1) #indexing starts from zero...\n",
    "    return todos\n",
    "\n",
    "def clear_todos(todos : list):\n",
    "    sure = input(\"are you sure you want to clear all the todos? type yes to execute, else to no\")\n",
    "    if sure == \"yes\":\n",
    "        todos.clear()\n",
    "        return todos\n",
    "    else:\n",
    "        print(\"exiting menu\")\n",
    "        return todos\n",
    "\n",
    "if __name__ == \"__main__\":\n",
    "    todos = load_todos()\n",
    "    print(todos) # untuk debug, notice nilai keluarnya adalah dictionary dengan key todos dan value list of todos, kita bisa ambil saja todos nya demi kemudahan\n",
    "    todos = todos[\"todos\"]  #kita access key \"todos\" untuk mengeluarkan value list \"todos\"\n",
    "    print(\"Welcome to the Todo list app\")\n",
    "    print(\"your todos : \")\n",
    "    show_todos(todos)\n",
    "    while True:\n",
    "        access_feature = input(\"press 1 to add todo(s), 2 to modify todos, 3 to show todos, 4 to delete todos, 5 to save todos\")\n",
    "        match access_feature:\n",
    "            case \"1\":\n",
    "                todos = insert_todos(todos)\n",
    "            case \"2\":\n",
    "                todos = modify_todos(todos)\n",
    "            case \"3\":\n",
    "                show_todos(todos)\n",
    "            case \"4\":\n",
    "                todos = delete_todo(todos)\n",
    "            case \"5\":\n",
    "                save_json(todos)\n",
    "            case \"6\":\n",
    "                todos = clear_todos(todos)\n",
    "            case \"7\":\n",
    "                save_json(todos)\n",
    "                break\n",
    "            case _:\n",
    "                print(\"invalid input, try again.\")"
   ]
  },
  {
   "cell_type": "markdown",
   "metadata": {},
   "source": [
    "# QA test 1 : apa yg terjadi jika kita tidak memiliki file todos.json?\n",
    "\n",
    "file todos.json adlaah file yg digunakan untuk menyimpan dan meload data, tapi apa yg terjadi jika kita tidak ada file todos.jsonnya dari awal? maka kita bisa coba dengan hapus file todos.json kita dulu lalu kita coba tes fungsi load_todos()\n",
    "\n",
    "note : silahkan hapus file todo.json untuk mengetesnya"
   ]
  },
  {
   "cell_type": "code",
   "execution_count": 1,
   "metadata": {},
   "outputs": [
    {
     "ename": "FileNotFoundError",
     "evalue": "[Errno 2] No such file or directory: 'todos.json'",
     "output_type": "error",
     "traceback": [
      "\u001b[1;31m---------------------------------------------------------------------------\u001b[0m",
      "\u001b[1;31mFileNotFoundError\u001b[0m                         Traceback (most recent call last)",
      "Cell \u001b[1;32mIn[1], line 9\u001b[0m\n\u001b[0;32m      6\u001b[0m         data \u001b[38;5;241m=\u001b[39m json\u001b[38;5;241m.\u001b[39mload(file)\n\u001b[0;32m      7\u001b[0m     \u001b[38;5;28;01mreturn\u001b[39;00m data\n\u001b[1;32m----> 9\u001b[0m \u001b[43mload_todos\u001b[49m\u001b[43m(\u001b[49m\u001b[43m)\u001b[49m\n",
      "Cell \u001b[1;32mIn[1], line 5\u001b[0m, in \u001b[0;36mload_todos\u001b[1;34m()\u001b[0m\n\u001b[0;32m      4\u001b[0m \u001b[38;5;28;01mdef\u001b[39;00m \u001b[38;5;21mload_todos\u001b[39m():\n\u001b[1;32m----> 5\u001b[0m     \u001b[38;5;28;01mwith\u001b[39;00m \u001b[38;5;28;43mopen\u001b[39;49m\u001b[43m(\u001b[49m\u001b[38;5;124;43m\"\u001b[39;49m\u001b[38;5;124;43mtodos.json\u001b[39;49m\u001b[38;5;124;43m\"\u001b[39;49m\u001b[43m,\u001b[49m\u001b[43m \u001b[49m\u001b[38;5;124;43m\"\u001b[39;49m\u001b[38;5;124;43mr\u001b[39;49m\u001b[38;5;124;43m\"\u001b[39;49m\u001b[43m)\u001b[49m \u001b[38;5;28;01mas\u001b[39;00m file:\n\u001b[0;32m      6\u001b[0m         data \u001b[38;5;241m=\u001b[39m json\u001b[38;5;241m.\u001b[39mload(file)\n\u001b[0;32m      7\u001b[0m     \u001b[38;5;28;01mreturn\u001b[39;00m data\n",
      "File \u001b[1;32mc:\\Users\\ADVAN\\AppData\\Local\\Programs\\Python\\Python312\\Lib\\site-packages\\IPython\\core\\interactiveshell.py:310\u001b[0m, in \u001b[0;36m_modified_open\u001b[1;34m(file, *args, **kwargs)\u001b[0m\n\u001b[0;32m    303\u001b[0m \u001b[38;5;28;01mif\u001b[39;00m file \u001b[38;5;129;01min\u001b[39;00m {\u001b[38;5;241m0\u001b[39m, \u001b[38;5;241m1\u001b[39m, \u001b[38;5;241m2\u001b[39m}:\n\u001b[0;32m    304\u001b[0m     \u001b[38;5;28;01mraise\u001b[39;00m \u001b[38;5;167;01mValueError\u001b[39;00m(\n\u001b[0;32m    305\u001b[0m         \u001b[38;5;124mf\u001b[39m\u001b[38;5;124m\"\u001b[39m\u001b[38;5;124mIPython won\u001b[39m\u001b[38;5;124m'\u001b[39m\u001b[38;5;124mt let you open fd=\u001b[39m\u001b[38;5;132;01m{\u001b[39;00mfile\u001b[38;5;132;01m}\u001b[39;00m\u001b[38;5;124m by default \u001b[39m\u001b[38;5;124m\"\u001b[39m\n\u001b[0;32m    306\u001b[0m         \u001b[38;5;124m\"\u001b[39m\u001b[38;5;124mas it is likely to crash IPython. If you know what you are doing, \u001b[39m\u001b[38;5;124m\"\u001b[39m\n\u001b[0;32m    307\u001b[0m         \u001b[38;5;124m\"\u001b[39m\u001b[38;5;124myou can use builtins\u001b[39m\u001b[38;5;124m'\u001b[39m\u001b[38;5;124m open.\u001b[39m\u001b[38;5;124m\"\u001b[39m\n\u001b[0;32m    308\u001b[0m     )\n\u001b[1;32m--> 310\u001b[0m \u001b[38;5;28;01mreturn\u001b[39;00m \u001b[43mio_open\u001b[49m\u001b[43m(\u001b[49m\u001b[43mfile\u001b[49m\u001b[43m,\u001b[49m\u001b[43m \u001b[49m\u001b[38;5;241;43m*\u001b[39;49m\u001b[43margs\u001b[49m\u001b[43m,\u001b[49m\u001b[43m \u001b[49m\u001b[38;5;241;43m*\u001b[39;49m\u001b[38;5;241;43m*\u001b[39;49m\u001b[43mkwargs\u001b[49m\u001b[43m)\u001b[49m\n",
      "\u001b[1;31mFileNotFoundError\u001b[0m: [Errno 2] No such file or directory: 'todos.json'"
     ]
    }
   ],
   "source": [
    "\"\"\" testing \"\"\"\n",
    "\n",
    "import json\n",
    "def load_todos():\n",
    "    with open(\"todos.json\", \"r\") as file:\n",
    "        data = json.load(file)\n",
    "    return data\n",
    "\n",
    "load_todos()"
   ]
  },
  {
   "cell_type": "markdown",
   "metadata": {},
   "source": [
    "error diatas menununjukan jenis error `FileNotFoundError` dan detailnya adalah bahwa file todos.json tidak ada. disini kita bisa menggunakan implementasi dengan try except dimana except kode kita akan mereturn value dictionary yg mirip dengan json kita, tetapi dengan isi todo yg list kosong"
   ]
  },
  {
   "cell_type": "code",
   "execution_count": 2,
   "metadata": {},
   "outputs": [
    {
     "name": "stdout",
     "output_type": "stream",
     "text": [
      "{'todos': []}\n"
     ]
    }
   ],
   "source": [
    "import json\n",
    "def load_todos():\n",
    "    try:\n",
    "        with open(\"todos.json\", \"r\") as file:\n",
    "            data = json.load(file)\n",
    "        return data\n",
    "    except FileNotFoundError:\n",
    "        return {\"todos\" : []}\n",
    "    \n",
    "todos = load_todos()\n",
    "print(todos)"
   ]
  },
  {
   "cell_type": "markdown",
   "metadata": {},
   "source": [
    "# QA test 2: apa yg terjadi ketika modify todo kita, kita memasukkan nilai integer negatif? atau bahkan input bukan integer?\n",
    "\n",
    "sesuai judul, yaitu di dalam fungsi modify_todos(todos : list)"
   ]
  },
  {
   "cell_type": "code",
   "execution_count": 6,
   "metadata": {},
   "outputs": [
    {
     "name": "stdout",
     "output_type": "stream",
     "text": [
      "nilai todo_index adalah -1\n",
      "['makan', 'membaca', 'berenang']\n",
      "nilai todo_index adalah 0\n"
     ]
    },
    {
     "data": {
      "text/plain": [
       "['makan', 'membaca', 'berenang']"
      ]
     },
     "execution_count": 6,
     "metadata": {},
     "output_type": "execute_result"
    }
   ],
   "source": [
    "# kita bisa mengakali/mengisi parameter todos dengan list asalan kita saja, \n",
    "# dan kita coba masukan nilai input todo_index nya adalah -1\n",
    "\n",
    "def modify_todos(todos : list):\n",
    "    while True:\n",
    "        todo_index = int(input(\"insert what number of the todos you want to modify\"))\n",
    "        print(f\"nilai todo_index adalah {todo_index}\") # untuk testing\n",
    "        if todo_index == 0:\n",
    "            break\n",
    "        todos[todo_index-1] = input(\"what is the todo you want to put in here?\")\n",
    "        print(todos)\n",
    "    return todos\n",
    "\n",
    "modify_todos([\"makan\",\"tidur\",\"berenang\"])\n",
    "\n",
    "\"\"\" \n",
    "\n",
    "\"\"\""
   ]
  },
  {
   "cell_type": "markdown",
   "metadata": {},
   "source": [
    "## Notice \n",
    "\n",
    "di terminal saya memasukan -1 dan program tetap berjalan lancar, karena list indexing dimulai dari 0 dan bisa melakukan\n",
    "negasi ke negatif (dari akhir ke awal), tetapi nilai yg berubah di terminal adalah tidur -> membaca, karena terdapat\n",
    "`todos[todo_index - 1]`. tapi poin yg penting adalah hal ini tetap dianggap bug karena **user harusnya wajib memasukan nilai lebih dari 0**\n",
    "untuk bisa mengubah nilai todos. kkita bisa mengembangkan programnya dengan mengecek menggunakan elif statement"
   ]
  },
  {
   "cell_type": "code",
   "execution_count": 7,
   "metadata": {},
   "outputs": [
    {
     "name": "stdout",
     "output_type": "stream",
     "text": [
      "nilai todo_index adalah -1\n",
      "nilai todo_index adalah -2\n",
      "nilai todo_index adalah -3\n",
      "nilai todo_index adalah 0\n"
     ]
    },
    {
     "data": {
      "text/plain": [
       "['makan', 'tidur', 'berenang']"
      ]
     },
     "execution_count": 7,
     "metadata": {},
     "output_type": "execute_result"
    }
   ],
   "source": [
    "def modify_todos(todos : list):\n",
    "    while True:\n",
    "        todo_index = int(input(\"insert what number of the todos you want to modify\"))\n",
    "        print(f\"nilai todo_index adalah {todo_index}\") # untuk testing\n",
    "        if todo_index == 0:\n",
    "            break\n",
    "        elif todo_index > 0:\n",
    "            todos[todo_index-1] = input(\"what is the todo you want to put in here?\")\n",
    "    return todos\n",
    "\n",
    "\"kita tes apa yg tetap terjadi jika kita tetap masukan input dibawah 0\"\n",
    "\n",
    "modify_todos([\"makan\",\"tidur\",\"berenang\"])\n"
   ]
  },
  {
   "cell_type": "markdown",
   "metadata": {},
   "source": [
    "# Notice \n",
    "\n",
    "code diatas, kita kita tetap masukan input dibawah 0, maka yg terjadi user akan terjebak di endless loop karena tidak ada if statement yg digunakan untuk memenuhi kasus input value dibawah 0, kita bisa perbaiki lagi menggunakan else statement untuk memberikan warning ke terminal bahwa input yang digunakan harus lebih dari 0"
   ]
  },
  {
   "cell_type": "code",
   "execution_count": 8,
   "metadata": {},
   "outputs": [
    {
     "name": "stdout",
     "output_type": "stream",
     "text": [
      "nilai todo_index adalah -1\n",
      "Invalid input, please input value greater than 0\n",
      "nilai todo_index adalah -2\n",
      "Invalid input, please input value greater than 0\n",
      "nilai todo_index adalah 0\n"
     ]
    },
    {
     "data": {
      "text/plain": [
       "['makan', 'tidur', 'berenang']"
      ]
     },
     "execution_count": 8,
     "metadata": {},
     "output_type": "execute_result"
    }
   ],
   "source": [
    "def modify_todos(todos : list):\n",
    "    while True:\n",
    "        todo_index = int(input(\"insert what number of the todos you want to modify\"))\n",
    "        print(f\"nilai todo_index adalah {todo_index}\") # untuk testing\n",
    "        if todo_index == 0:\n",
    "            break\n",
    "        elif todo_index > 0:\n",
    "            todos[todo_index-1] = input(\"what is the todo you want to put in here?\")\n",
    "        else:\n",
    "            print(\"Invalid input, please input value greater than 0\")\n",
    "    return todos\n",
    "\n",
    "\"kita tes apa yg tetap terjadi jika kita tetap masukan input dibawah 0\"\n",
    "\n",
    "modify_todos([\"makan\",\"tidur\",\"berenang\"]) \n",
    "\"seems good, selanjutnya\""
   ]
  },
  {
   "cell_type": "markdown",
   "metadata": {},
   "source": [
    "# QA test 2: apa yg terjadi ketika modify todo kita, kita memasukkan input bukan integer?\n",
    "\n",
    "\n"
   ]
  },
  {
   "cell_type": "code",
   "execution_count": 9,
   "metadata": {},
   "outputs": [
    {
     "ename": "ValueError",
     "evalue": "invalid literal for int() with base 10: 'asd'",
     "output_type": "error",
     "traceback": [
      "\u001b[1;31m---------------------------------------------------------------------------\u001b[0m",
      "\u001b[1;31mValueError\u001b[0m                                Traceback (most recent call last)",
      "Cell \u001b[1;32mIn[9], line 13\u001b[0m\n\u001b[0;32m     10\u001b[0m             \u001b[38;5;28mprint\u001b[39m(\u001b[38;5;124m\"\u001b[39m\u001b[38;5;124mInvalid input, please input value greater than 0\u001b[39m\u001b[38;5;124m\"\u001b[39m)\n\u001b[0;32m     11\u001b[0m     \u001b[38;5;28;01mreturn\u001b[39;00m todos\n\u001b[1;32m---> 13\u001b[0m \u001b[43mmodify_todos\u001b[49m\u001b[43m(\u001b[49m\u001b[43m[\u001b[49m\u001b[38;5;124;43m\"\u001b[39;49m\u001b[38;5;124;43mberenang\u001b[39;49m\u001b[38;5;124;43m\"\u001b[39;49m\u001b[43m]\u001b[49m\u001b[43m)\u001b[49m\n",
      "Cell \u001b[1;32mIn[9], line 3\u001b[0m, in \u001b[0;36mmodify_todos\u001b[1;34m(todos)\u001b[0m\n\u001b[0;32m      1\u001b[0m \u001b[38;5;28;01mdef\u001b[39;00m \u001b[38;5;21mmodify_todos\u001b[39m(todos : \u001b[38;5;28mlist\u001b[39m):\n\u001b[0;32m      2\u001b[0m     \u001b[38;5;28;01mwhile\u001b[39;00m \u001b[38;5;28;01mTrue\u001b[39;00m:\n\u001b[1;32m----> 3\u001b[0m         todo_index \u001b[38;5;241m=\u001b[39m \u001b[38;5;28;43mint\u001b[39;49m\u001b[43m(\u001b[49m\u001b[38;5;28;43minput\u001b[39;49m\u001b[43m(\u001b[49m\u001b[38;5;124;43m\"\u001b[39;49m\u001b[38;5;124;43minsert what number of the todos you want to modify\u001b[39;49m\u001b[38;5;124;43m\"\u001b[39;49m\u001b[43m)\u001b[49m\u001b[43m)\u001b[49m\n\u001b[0;32m      4\u001b[0m         \u001b[38;5;28mprint\u001b[39m(\u001b[38;5;124mf\u001b[39m\u001b[38;5;124m\"\u001b[39m\u001b[38;5;124mnilai todo_index adalah \u001b[39m\u001b[38;5;132;01m{\u001b[39;00mtodo_index\u001b[38;5;132;01m}\u001b[39;00m\u001b[38;5;124m\"\u001b[39m) \u001b[38;5;66;03m# untuk testing\u001b[39;00m\n\u001b[0;32m      5\u001b[0m         \u001b[38;5;28;01mif\u001b[39;00m todo_index \u001b[38;5;241m==\u001b[39m \u001b[38;5;241m0\u001b[39m:\n",
      "\u001b[1;31mValueError\u001b[0m: invalid literal for int() with base 10: 'asd'"
     ]
    }
   ],
   "source": [
    "def modify_todos(todos : list):\n",
    "    while True:\n",
    "        todo_index = int(input(\"insert what number of the todos you want to modify\"))\n",
    "        print(f\"nilai todo_index adalah {todo_index}\") # untuk testing\n",
    "        if todo_index == 0:\n",
    "            break\n",
    "        elif todo_index > 0:\n",
    "            todos[todo_index-1] = input(\"what is the todo you want to put in here?\")\n",
    "        else:\n",
    "            print(\"Invalid input, please input value greater than 0\")\n",
    "    return todos\n",
    "\n",
    "modify_todos([\"berenang\"])"
   ]
  },
  {
   "cell_type": "code",
   "execution_count": null,
   "metadata": {},
   "outputs": [],
   "source": []
  },
  {
   "cell_type": "markdown",
   "metadata": {},
   "source": [
    "error diatas terjadi karena kita memasukan nilai bukan integer like didalam \n",
    "`todo_index = int(input(\"insert what number of the todos you want to modify\"))`\n",
    "\n",
    "untuk memfixnya, bisa menggunakan try except valueerror"
   ]
  },
  {
   "cell_type": "code",
   "execution_count": 12,
   "metadata": {},
   "outputs": [
    {
     "name": "stdout",
     "output_type": "stream",
     "text": [
      "please insert integer value and greater than or equal to 0\n",
      "please insert integer value and greater than or equal to 0\n",
      "please insert integer value and greater than or equal to 0\n",
      "please insert integer value and greater than or equal to 0\n",
      "nilai todo_index adalah 0\n"
     ]
    },
    {
     "data": {
      "text/plain": [
       "['berenang']"
      ]
     },
     "execution_count": 12,
     "metadata": {},
     "output_type": "execute_result"
    }
   ],
   "source": [
    "def modify_todos(todos : list):\n",
    "    while True:\n",
    "        try:\n",
    "            todo_index = int(input(\"insert what number of the todos you want to modify, 0 to break\"))\n",
    "            print(f\"nilai todo_index adalah {todo_index}\") # untuk testing\n",
    "            if todo_index == 0:\n",
    "                break\n",
    "            elif todo_index > 0:\n",
    "                todos[todo_index-1] = input(\"what is the todo you want to put in here?\")\n",
    "            else:\n",
    "                print(\"Invalid input, please input value greater than 0\")\n",
    "        except ValueError:\n",
    "            print(\"please insert integer value and greater than or equal to 0\")\n",
    "    return todos\n",
    "\n",
    "modify_todos([\"berenang\"])"
   ]
  },
  {
   "cell_type": "markdown",
   "metadata": {},
   "source": [
    "# QA Test 3 : apa yang terjadi jika kita memanggil fungsi `show_todos` tetapi jika todos kita kosong?\n",
    "\n"
   ]
  },
  {
   "cell_type": "code",
   "execution_count": 4,
   "metadata": {},
   "outputs": [],
   "source": [
    "def show_todos(todos:list):\n",
    "    for i,t in enumerate(todos, start=1):\n",
    "        print(f\"{i}. {t}\")\n",
    "\n",
    "show_todos([])\n",
    "\"\"\" \n",
    "maka tidak akan terjadi apa2, karena jika sebuah panjang list itu 0, kita tidak bisa meloop didalam list menggunakan for loop. untuk\n",
    "\n",
    "untuk memberikan pengalaman lebih baik, kita bisa menggunakan if statement untuk mengecek panjang list terlebih dahulu, \n",
    "jadi jika panjang list lebih dari 1 = ada todos = print todos, kalau tidak, berarti todos 0 dan kita bisa print perintah seperti\n",
    "\"todo list kosong\" \n",
    "\"\"\""
   ]
  },
  {
   "cell_type": "code",
   "execution_count": 5,
   "metadata": {},
   "outputs": [
    {
     "name": "stdout",
     "output_type": "stream",
     "text": [
      "Todo list is empty\n"
     ]
    }
   ],
   "source": [
    "def show_todos(todos:list):\n",
    "    if len(todos) > 0:\n",
    "         for i,t in enumerate(todos, start=1):\n",
    "             print(f\"{i}. {t}\")\n",
    "    else:\n",
    "        print(\"Todo list is empty\")\n",
    "\n",
    "show_todos([])"
   ]
  },
  {
   "cell_type": "markdown",
   "metadata": {},
   "source": [
    "# Full Implementation\n"
   ]
  },
  {
   "cell_type": "code",
   "execution_count": null,
   "metadata": {},
   "outputs": [],
   "source": [
    "\"\"\" FULL CODE \"\"\"\n",
    "\n",
    "#Implementasi fullnya (pythonic way)\n",
    "import json\n",
    "def load_todos():\n",
    "    try:\n",
    "        with open(\"todos.json\", \"r\") as file:\n",
    "            data = json.load(file)\n",
    "        return data\n",
    "    except FileNotFoundError:\n",
    "        return {\"todos\" : []}\n",
    "\n",
    "\n",
    "def save_json(todos):\n",
    "    datas = {\"todos\" : todos} # kita buat strukturnya menjadi dictionary dengan key todos dan values list of todos\n",
    "    with open(\"todos.json\", \"w\") as file:\n",
    "        json.dump(datas, file)\n",
    "\n",
    "#kita rubah fitur add banyak todos menjadi fungsi\n",
    "def insert_todos(todos : list):\n",
    "    while True:\n",
    "        todo = input(\"input your todo here, press 0 to quit inputting the todo : \")\n",
    "        if todo == \"0\":\n",
    "            break\n",
    "        todos.append(todo)\n",
    "    return todos\n",
    "\n",
    "def modify_todos(todos : list):\n",
    "    while True:\n",
    "        try:\n",
    "            todo_index = int(input(\"insert what number of the todos you want to modify, 0 to break\"))\n",
    "            print(f\"nilai todo_index adalah {todo_index}\") # untuk testing\n",
    "            if todo_index == 0:\n",
    "                break\n",
    "            elif todo_index > 0:\n",
    "                todos[todo_index-1] = input(\"what is the todo you want to put in here?\")\n",
    "            else:\n",
    "                print(\"Invalid input, please input value greater than 0\")\n",
    "        except ValueError:\n",
    "            print(\"please insert integer value and greater than or equal to 0\")\n",
    "    return todos\n",
    "\n",
    "def show_todos(todos:list):\n",
    "    if len(todos) > 0:\n",
    "         for i,t in enumerate(todos, start=1):\n",
    "             print(f\"{i}. {t}\")\n",
    "    else:\n",
    "        print(\"Todo list is empty\")\n",
    "\n",
    "\n",
    "\n",
    "def delete_todo(todos:list):\n",
    "    while True:\n",
    "        todo_index = int(input(\"insert what number of the todos you want to delete\"))\n",
    "        if todo_index == 0:\n",
    "            break\n",
    "        todos.pop(todo_index - 1) #indexing starts from zero...\n",
    "    return todos\n",
    "\n",
    "def clear_todos(todos : list):\n",
    "    sure = input(\"are you sure you want to clear all the todos? type 'yes' to execute, else to no\")\n",
    "    if sure == \"yes\":\n",
    "        todos.clear()\n",
    "        print(\"clearing todos\")\n",
    "        return todos\n",
    "    else:\n",
    "        print(\"exiting menu\")\n",
    "        return todos\n",
    "\n",
    "if __name__ == \"__main__\":\n",
    "    todos = load_todos()\n",
    "    print(todos) # untuk debug, notice nilai keluarnya adalah dictionary dengan key todos dan value list of todos, kita bisa ambil saja todos nya demi kemudahan\n",
    "    todos = todos[\"todos\"]  #kita access key \"todos\" untuk mengeluarkan value list \"todos\"\n",
    "    print(\"Welcome to the Todo list app\")\n",
    "    print(\"your todos : \")\n",
    "    show_todos(todos)\n",
    "    while True:\n",
    "        access_feature = input(\"press 1 to add todo(s), 2 to modify todos, 3 to show todos, 4 to delete todos, 5 to save todos\")\n",
    "        match access_feature:\n",
    "            case \"1\":\n",
    "                todos = insert_todos(todos)\n",
    "            case \"2\":\n",
    "                todos = modify_todos(todos)\n",
    "            case \"3\":\n",
    "                show_todos(todos)\n",
    "            case \"4\":\n",
    "                todos = delete_todo(todos)\n",
    "            case \"5\":\n",
    "                save_json(todos)\n",
    "            case \"6\":\n",
    "                todos = clear_todos(todos)\n",
    "            case \"7\":\n",
    "                save_json(todos)\n",
    "                break\n",
    "            case _:\n",
    "                print(\"invalid input, try again.\")"
   ]
  }
 ],
 "metadata": {
  "kernelspec": {
   "display_name": "Python 3",
   "language": "python",
   "name": "python3"
  },
  "language_info": {
   "codemirror_mode": {
    "name": "ipython",
    "version": 3
   },
   "file_extension": ".py",
   "mimetype": "text/x-python",
   "name": "python",
   "nbconvert_exporter": "python",
   "pygments_lexer": "ipython3",
   "version": "3.12.1"
  }
 },
 "nbformat": 4,
 "nbformat_minor": 2
}
