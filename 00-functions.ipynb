{
 "cells": [
  {
   "cell_type": "markdown",
   "metadata": {},
   "source": [
    "# Functions\n",
    "\n",
    "\n",
    "Fungsi dalam Python adalah sebuah blok kode yang dapat dieksekusi berulang kali untuk melakukan tugas tertentu. \n",
    "\n",
    "Fungsi dapat menerima input (disebut parameter atau argumen), melakukan beberapa operasi berdasarkan input tersebut, dan mengembalikan output (disebut return value) setelah operasi selesai dieksekusi.\n",
    "\n",
    "\n",
    "Fungsi biasanya digunakan untuk mengorganisir dan memecah kode menjadi bagian-bagian yang lebih kecil dan lebih mudah dikelola. Ini membuat kode lebih mudah dibaca, dimengerti, dan dipelihara. Selain itu, fungsi memungkinkan untuk menghindari pengulangan kode yang sama di beberapa bagian program.\n",
    "\n"
   ]
  },
  {
   "cell_type": "code",
   "execution_count": 2,
   "metadata": {},
   "outputs": [
    {
     "data": {
      "text/plain": [
       "'Hello world'"
      ]
     },
     "execution_count": 2,
     "metadata": {},
     "output_type": "execute_result"
    }
   ],
   "source": [
    "\n",
    "# membuat fungsi, perhatikan kata kunci def\n",
    "def salam_kenal():\n",
    "    return \"Hello world\"\n",
    "#memanggil/menggunakan fungsi \n",
    "hi = salam_kenal()\n",
    "hi"
   ]
  },
  {
   "cell_type": "code",
   "execution_count": 3,
   "metadata": {},
   "outputs": [
    {
     "data": {
      "text/plain": [
       "['ini parameter1', 'ini parameter2', 'ini parameter3']"
      ]
     },
     "execution_count": 3,
     "metadata": {},
     "output_type": "execute_result"
    }
   ],
   "source": [
    "# fungsi di python bisa diisi dengan argumen atau parameter value, parameter di fungsi tidak terbatas secara teknis\n",
    "\n",
    "def nama_fungsi(parameter1,parameter2,parameter3):\n",
    "    return [parameter1,parameter2,parameter3]\n",
    "\n",
    "f = nama_fungsi(\"ini parameter1\", \"ini parameter2\", \"ini parameter3\") #pengisian parameter berurutan dari kiri ke kanan\n",
    "\n",
    "f"
   ]
  },
  {
   "cell_type": "code",
   "execution_count": 4,
   "metadata": {},
   "outputs": [
    {
     "data": {
      "text/plain": [
       "['ini parameter1', 'ini parameter2', 'ini parameter3']"
      ]
     },
     "execution_count": 4,
     "metadata": {},
     "output_type": "execute_result"
    }
   ],
   "source": [
    "# nilai parameter fungsi juga bisa diisi secara explisit, atau dikenal mengisi parameter menggunakan keyword arguments\n",
    "\n",
    "f = nama_fungsi(parameter1=\"ini parameter1\", parameter2=\"ini parameter2\", parameter3=\"ini parameter3\")\n",
    "f"
   ]
  },
  {
   "cell_type": "code",
   "execution_count": 6,
   "metadata": {},
   "outputs": [
    {
     "name": "stdout",
     "output_type": "stream",
     "text": [
      "Hi, nama saya Joko\n",
      "Hi, nama saya Jona\n",
      "Hi, nama saya Joni\n"
     ]
    }
   ],
   "source": [
    "def salam_kenal(nama):\n",
    "    return f\"Hi, nama saya {nama}\"\n",
    "\n",
    "salken = salam_kenal(\"Joko\")\n",
    "salken2 = salam_kenal(\"Jona\")\n",
    "salken3 = salam_kenal(\"Joni\")\n",
    "print(salken)\n",
    "print(salken2) \n",
    "print(salken3) \n",
    " "
   ]
  },
  {
   "cell_type": "markdown",
   "metadata": {},
   "source": [
    "## Default values\n",
    "\n",
    "\n",
    "Default values dalam fungsi Python adalah nilai-nilai yang ditetapkan untuk parameter fungsi, yang akan digunakan jika pemanggilan fungsi tidak menyediakan nilai untuk parameter tersebut. Dengan menggunakan default values, Anda dapat membuat parameter-parameter opsional dalam fungsi."
   ]
  },
  {
   "cell_type": "code",
   "execution_count": 7,
   "metadata": {},
   "outputs": [
    {
     "data": {
      "text/plain": [
       "'hobinya adalah berenang, dan biasanya melakukannya 2 jam sehari'"
      ]
     },
     "execution_count": 7,
     "metadata": {},
     "output_type": "execute_result"
    }
   ],
   "source": [
    "def hobi(name, time=2):\n",
    "    return f\"hobinya adalah {name}, dan biasanya melakukannya {time} jam sehari\"\n",
    "\n",
    "hobi1 = hobi(\"berenang\")\n",
    "hobi1"
   ]
  },
  {
   "cell_type": "code",
   "execution_count": 9,
   "metadata": {},
   "outputs": [
    {
     "data": {
      "text/plain": [
       "'hobinya adalah membaca, dan biasanya melakukannya 1 jam sehari'"
      ]
     },
     "execution_count": 9,
     "metadata": {},
     "output_type": "execute_result"
    }
   ],
   "source": [
    "hobi2 = hobi(\"membaca\", 1)\n",
    "hobi2"
   ]
  },
  {
   "cell_type": "markdown",
   "metadata": {},
   "source": [
    "## Memasukan banyak parameter/argumen\n",
    "\n",
    "jika ingin membuat fungsi dimana kita tidak tahu sebanyak berapa argumen yang ingin ditempelkan kita bisa menggunakan `*args` dan `**kwargs` untuk menangani berbagai kasus banyak argumen\n",
    "\n",
    "1. `*args` digunakan untuk mengumpulkan argumen posisi (positional arguments) ke dalam sebuah tuple.\n",
    "2. `**kwargs` digunakan untuk mengumpulkan argumen kata kunci (keyword arguments) ke dalam sebuah dictionary.\n",
    "\n"
   ]
  },
  {
   "cell_type": "code",
   "execution_count": 1,
   "metadata": {},
   "outputs": [
    {
     "name": "stdout",
     "output_type": "stream",
     "text": [
      "pesan martabak ukuran large\n",
      "kombinasi rasa : \n",
      "<class 'tuple'>\n",
      "1. coklat\n",
      "2. kacang\n",
      "3. keju\n"
     ]
    }
   ],
   "source": [
    "#aplikasi membuat pizza dengan pilihan topping tidak terbatas menggunakan *args\n",
    "\n",
    "def pesan_martabak_manis(ukuran, *rasa):\n",
    "    print(f\"pesan martabak ukuran {ukuran}\")\n",
    "    print(\"kombinasi rasa : \")\n",
    "    print(type(rasa))\n",
    "    for i,r in enumerate(rasa):\n",
    "        print(f\"{i+1}. {r}\")\n",
    "        \n",
    "martabak1 = pesan_martabak_manis(\"large\", \"coklat\", \"kacang\", \"keju\")\n",
    "#WIP KWARGS\n"
   ]
  },
  {
   "cell_type": "markdown",
   "metadata": {},
   "source": [
    "## Untuk chapter berikutnya materi ini akan dijelaskan menggunakan fungsi, dikenal dengan istilah function oriented programming https://www.geeksforgeeks.org/functional-programming-paradigm/\n",
    "\n",
    "Alasan:\n",
    "1. membuat kode mudah dibaca\n",
    "2. struktur kode yang lebih jelas\n",
    "3. dan membuat kita lebih profesional nantinya"
   ]
  },
  {
   "cell_type": "code",
   "execution_count": 2,
   "metadata": {},
   "outputs": [
    {
     "name": "stdout",
     "output_type": "stream",
     "text": [
      "30.5\n"
     ]
    }
   ],
   "source": [
    "def hasil_jumlah(x,y,z): # hasil jumlah antara integer/float \n",
    "    hasil = x + y + z\n",
    "    return hasil\n",
    "\n",
    "h1 = hasil_jumlah(5,10,15.5) \n",
    "print(h1)"
   ]
  },
  {
   "cell_type": "code",
   "execution_count": 4,
   "metadata": {},
   "outputs": [
    {
     "ename": "TypeError",
     "evalue": "can only concatenate str (not \"int\") to str",
     "output_type": "error",
     "traceback": [
      "\u001b[1;31m---------------------------------------------------------------------------\u001b[0m",
      "\u001b[1;31mTypeError\u001b[0m                                 Traceback (most recent call last)",
      "Cell \u001b[1;32mIn[4], line 1\u001b[0m\n\u001b[1;32m----> 1\u001b[0m h2 \u001b[38;5;241m=\u001b[39m \u001b[43mhasil_jumlah\u001b[49m\u001b[43m(\u001b[49m\u001b[38;5;124;43m\"\u001b[39;49m\u001b[38;5;124;43m10\u001b[39;49m\u001b[38;5;124;43m\"\u001b[39;49m\u001b[43m,\u001b[49m\u001b[38;5;124;43m\"\u001b[39;49m\u001b[38;5;124;43m15\u001b[39;49m\u001b[38;5;124;43m\"\u001b[39;49m\u001b[43m,\u001b[49m\u001b[38;5;241;43m20\u001b[39;49m\u001b[43m)\u001b[49m\n\u001b[0;32m      2\u001b[0m h2\n",
      "Cell \u001b[1;32mIn[2], line 2\u001b[0m, in \u001b[0;36mhasil_jumlah\u001b[1;34m(x, y, z)\u001b[0m\n\u001b[0;32m      1\u001b[0m \u001b[38;5;28;01mdef\u001b[39;00m \u001b[38;5;21mhasil_jumlah\u001b[39m(x,y,z): \u001b[38;5;66;03m# hasil jumlah antara integer/float \u001b[39;00m\n\u001b[1;32m----> 2\u001b[0m     hasil \u001b[38;5;241m=\u001b[39m \u001b[43mx\u001b[49m\u001b[43m \u001b[49m\u001b[38;5;241;43m+\u001b[39;49m\u001b[43m \u001b[49m\u001b[43my\u001b[49m\u001b[43m \u001b[49m\u001b[38;5;241;43m+\u001b[39;49m\u001b[43m \u001b[49m\u001b[43mz\u001b[49m\n\u001b[0;32m      3\u001b[0m     \u001b[38;5;28;01mreturn\u001b[39;00m hasil\n",
      "\u001b[1;31mTypeError\u001b[0m: can only concatenate str (not \"int\") to str"
     ]
    }
   ],
   "source": [
    "h2 = hasil_jumlah(\"10\",\"15\",20)\n",
    "h2\n",
    "\n",
    "\n"
   ]
  },
  {
   "cell_type": "code",
   "execution_count": null,
   "metadata": {},
   "outputs": [],
   "source": []
  }
 ],
 "metadata": {
  "kernelspec": {
   "display_name": "Python 3",
   "language": "python",
   "name": "python3"
  },
  "language_info": {
   "codemirror_mode": {
    "name": "ipython",
    "version": 3
   },
   "file_extension": ".py",
   "mimetype": "text/x-python",
   "name": "python",
   "nbconvert_exporter": "python",
   "pygments_lexer": "ipython3",
   "version": "3.12.1"
  }
 },
 "nbformat": 4,
 "nbformat_minor": 2
}
