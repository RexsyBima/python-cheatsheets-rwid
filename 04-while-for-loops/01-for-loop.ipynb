{
 "cells": [
  {
   "cell_type": "markdown",
   "metadata": {},
   "source": [
    "# for loop di Python\n",
    "\n",
    "For loop adalah jenis loop dalam Python yang digunakan untuk melakukan iterasi atau perulangan melalui sebuah sequence seperti list, tuple, string, atau range. For loop memungkinkan Anda untuk mengeksekusi blok kode tertentu untuk setiap elemen dalam sequence tersebut."
   ]
  },
  {
   "cell_type": "code",
   "execution_count": null,
   "metadata": {},
   "outputs": [],
   "source": [
    "\"\"\" \n",
    "sintaks dasar\n",
    "\n",
    "for item in sequence:\n",
    "     blokkode1\n",
    "     blokkode2\n",
    "     blokkode3\n",
    "     dst\n",
    "     \n",
    "\"\"\""
   ]
  },
  {
   "cell_type": "markdown",
   "metadata": {},
   "source": [
    "breakdown\n",
    "\n",
    "1. item adalah variabel yang digunakan untuk menyimpan nilai dari setiap elemen dalam sequence pada setiap iterasi.\n",
    "2. sequence adalah sequence dari elemen yang akan diiterasi. Ini bisa berupa list, tuple, string, atau range.\n",
    "3. statement1, statement2, dan seterusnya adalah pernyataan-pernyataan yang akan dijalankan dalam setiap iterasi."
   ]
  },
  {
   "cell_type": "markdown",
   "metadata": {},
   "source": [
    "dasar basicnya sequence yang sering dipakai untuk for loop adalah list, diikuti range, lalu string (meskipun string jarang dipakai)"
   ]
  },
  {
   "cell_type": "code",
   "execution_count": 1,
   "metadata": {},
   "outputs": [
    {
     "name": "stdout",
     "output_type": "stream",
     "text": [
      "1\n",
      "2\n",
      "3\n",
      "4\n",
      "5\n"
     ]
    }
   ],
   "source": [
    "# Iterasi melalui list:\n",
    "\n",
    "my_list = [1, 2, 3, 4, 5]\n",
    "for num in my_list:\n",
    "    print(num)\n",
    "    \n",
    "# Dalam contoh di atas, for loop akan mengeksekusi blok kode untuk setiap elemen dalam my_list, mencetak nilai dari setiap elemen."
   ]
  },
  {
   "cell_type": "code",
   "execution_count": 2,
   "metadata": {},
   "outputs": [
    {
     "name": "stdout",
     "output_type": "stream",
     "text": [
      "H\n",
      "e\n",
      "l\n",
      "l\n",
      "o\n"
     ]
    }
   ],
   "source": [
    "# Iterasi melalui string:\n",
    "my_string = \"Hello\"\n",
    "for char in my_string:\n",
    "    print(char)\n",
    "# Dalam contoh ini, for loop akan mengeksekusi blok kode untuk setiap karakter dalam my_string,\n",
    "# mencetak setiap karakter secara terpisah."
   ]
  },
  {
   "cell_type": "code",
   "execution_count": 3,
   "metadata": {},
   "outputs": [
    {
     "name": "stdout",
     "output_type": "stream",
     "text": [
      "0\n",
      "1\n",
      "2\n",
      "3\n",
      "4\n"
     ]
    }
   ],
   "source": [
    "# Iterasi menggunakan range:\n",
    "for i in range(5):\n",
    "    print(i)\n",
    "# Dalam contoh di atas, range(5) akan menghasilkan sequence angka dari 0 hingga 4, \n",
    "# dan for loop akan mengeksekusi blok kode untuk setiap nilai dalam sequence tersebut, mencetak nilai tersebut."
   ]
  },
  {
   "cell_type": "code",
   "execution_count": null,
   "metadata": {},
   "outputs": [],
   "source": []
  }
 ],
 "metadata": {
  "kernelspec": {
   "display_name": "Python 3",
   "language": "python",
   "name": "python3"
  },
  "language_info": {
   "codemirror_mode": {
    "name": "ipython",
    "version": 3
   },
   "file_extension": ".py",
   "mimetype": "text/x-python",
   "name": "python",
   "nbconvert_exporter": "python",
   "pygments_lexer": "ipython3",
   "version": "3.12.1"
  }
 },
 "nbformat": 4,
 "nbformat_minor": 2
}
