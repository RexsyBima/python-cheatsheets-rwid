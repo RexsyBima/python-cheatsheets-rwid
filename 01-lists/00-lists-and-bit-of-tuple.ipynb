{
 "cells": [
  {
   "cell_type": "markdown",
   "metadata": {},
   "source": [
    "# Tipe data LIST\n",
    "\n",
    "Tipe data list menyimpan serangkaian item dalam urutan tertentu.\n",
    "List memungkinkan Anda menyimpan kumpulan informasi dalam satu tempat, baik Anda hanya memiliki beberapa item atau jutaan item.\n",
    "List merupakan salah satu fitur paling kuat dalam Python yang mudah diakses oleh pemrogram pemula, dan mereka mengikat banyak konsep penting dalam pemrograman.\n"
   ]
  },
  {
   "cell_type": "markdown",
   "metadata": {},
   "source": [
    "### Contoh list"
   ]
  },
  {
   "cell_type": "code",
   "execution_count": 1,
   "metadata": {},
   "outputs": [],
   "source": [
    "siswa = [\"Joko\", \"Budi\", \"Anwar\"]\n",
    "\n",
    "numbers = [10,32,42,51,32,67,89,100,]\n",
    "\n",
    "\n"
   ]
  },
  {
   "cell_type": "markdown",
   "metadata": {},
   "source": [
    "### Mengakses Elemen dalam list\n",
    "\n",
    "\n",
    "Anda dapat mengakses elemen dalam daftar Python menggunakan indeks. Indeks dimulai dari 0 untuk elemen pertama dalam daftar, 1 untuk elemen kedua, dan seterusnya. Anda dapat menggunakan indeks positif untuk mengakses elemen dari awal daftar dan indeks negatif untuk mengakses elemen dari akhir daftar"
   ]
  },
  {
   "cell_type": "code",
   "execution_count": 2,
   "metadata": {},
   "outputs": [
    {
     "data": {
      "text/plain": [
       "['Joko', 'Budi', 'Anwar']"
      ]
     },
     "execution_count": 2,
     "metadata": {},
     "output_type": "execute_result"
    }
   ],
   "source": [
    "siswa"
   ]
  },
  {
   "cell_type": "code",
   "execution_count": 3,
   "metadata": {},
   "outputs": [
    {
     "name": "stdout",
     "output_type": "stream",
     "text": [
      "Joko Budi Anwar\n"
     ]
    }
   ],
   "source": [
    "siswa1 = siswa[0]\n",
    "siswa2 = siswa[1]\n",
    "siswa3 = siswa[2]\n",
    "\n",
    "print(siswa1,siswa2,siswa3)"
   ]
  },
  {
   "cell_type": "code",
   "execution_count": 5,
   "metadata": {},
   "outputs": [
    {
     "data": {
      "text/plain": [
       "'Anwar'"
      ]
     },
     "execution_count": 5,
     "metadata": {},
     "output_type": "execute_result"
    }
   ],
   "source": [
    "#anda bisa mengakses indexing terakhir dimulai dari -1\n",
    "\n",
    "siswa_terakhir = siswa[-1]\n",
    "siswa_kedua_dari_terakhir = siswa[-2]\n",
    "siswa_ketiga_dari_terakhir = siswa[-3]\n",
    "\n",
    "siswa_terakhir"
   ]
  },
  {
   "cell_type": "markdown",
   "metadata": {},
   "source": [
    "### Modifikikasi nilai elemen dalam list\n",
    "\n",
    "\n",
    "Anda dapat memodifikasi nilai dalam elemen list dengan menetapkan nilai baru ke indeks yang sesuai. Berikut adalah contoh bagaimana Anda dapat melakukannya:\n"
   ]
  },
  {
   "cell_type": "code",
   "execution_count": 6,
   "metadata": {},
   "outputs": [
    {
     "name": "stdout",
     "output_type": "stream",
     "text": [
      "['Joko', 'Budi', 'Anwar']\n"
     ]
    }
   ],
   "source": [
    "print(siswa)"
   ]
  },
  {
   "cell_type": "code",
   "execution_count": 8,
   "metadata": {},
   "outputs": [
    {
     "name": "stdout",
     "output_type": "stream",
     "text": [
      "['Afi', 'Jaka', 'Raya']\n"
     ]
    }
   ],
   "source": [
    "siswa[0] = \"Afi\"\n",
    "siswa[1] = \"Jaka\"\n",
    "siswa[2] = \"Raya\"\n",
    "\n",
    "print(siswa)"
   ]
  },
  {
   "cell_type": "markdown",
   "metadata": {},
   "source": [
    "### Menambah elemen kedalam list\n",
    "\n",
    "terdapat dua method yg dipakai untuk menambahkan elemen / (tipe) data baru kedalam list, yaitu append dan insert\n",
    "\n",
    "append -> menambahkan elemen baru di list terakhir\n",
    ".\n",
    "insert -> menambahkan elemen baru di indexing tertentu didalam list\n",
    "\n",
    "secara personal, lebih sering muncul kasus dimana kita harus menggunakan append dibandingkan list"
   ]
  },
  {
   "cell_type": "code",
   "execution_count": 9,
   "metadata": {},
   "outputs": [
    {
     "name": "stdout",
     "output_type": "stream",
     "text": [
      "['Apel', 'Pisang']\n"
     ]
    }
   ],
   "source": [
    "buah = []\n",
    "buah.append(\"Apel\")\n",
    "buah.append(\"Pisang\")\n",
    "\n",
    "print(buah)"
   ]
  },
  {
   "cell_type": "code",
   "execution_count": 13,
   "metadata": {},
   "outputs": [
    {
     "data": {
      "text/plain": [
       "['motor', 'Mobil', 'Kapal', 'Taxi', 'Pesawat']"
      ]
     },
     "execution_count": 13,
     "metadata": {},
     "output_type": "execute_result"
    }
   ],
   "source": [
    "kendaraan = [\"Mobil\", \"Kapal\", \"Pesawat\"]\n",
    "kendaraan.insert(0, \"motor\")\n",
    "kendaraan.insert(3,\"Taxi\")\n",
    "\n",
    "kendaraan\n"
   ]
  },
  {
   "cell_type": "markdown",
   "metadata": {},
   "source": [
    "### Menghapus elemen didalam list\n",
    "\n",
    "Ada dua cara menghapus sebuah elemen dalam list, yaitu method remove dan kata kunci 'del'\n",
    "\n",
    "dalam methode remove, kita menghapus sebuah elemen dengan melemparkan nama value elemen\n",
    "dalam kata kunci del, kita menghapus sebuah elemen dengan melemparkan indexingnya "
   ]
  },
  {
   "cell_type": "code",
   "execution_count": 19,
   "metadata": {},
   "outputs": [
    {
     "name": "stdout",
     "output_type": "stream",
     "text": [
      "['Mobil', 'Kapal', 'Pesawat']\n"
     ]
    }
   ],
   "source": [
    "kendaraan = [\"Mobil\", \"Kapal\", \"Pesawat\"]\n",
    "print(kendaraan)\n"
   ]
  },
  {
   "cell_type": "code",
   "execution_count": 20,
   "metadata": {},
   "outputs": [
    {
     "data": {
      "text/plain": [
       "['Kapal', 'Pesawat']"
      ]
     },
     "execution_count": 20,
     "metadata": {},
     "output_type": "execute_result"
    }
   ],
   "source": [
    "kendaraan = [\"Mobil\", \"Kapal\", \"Pesawat\"]\n",
    "del kendaraan[0]\n",
    "kendaraan"
   ]
  },
  {
   "cell_type": "code",
   "execution_count": 21,
   "metadata": {},
   "outputs": [
    {
     "data": {
      "text/plain": [
       "['Kapal', 'Pesawat']"
      ]
     },
     "execution_count": 21,
     "metadata": {},
     "output_type": "execute_result"
    }
   ],
   "source": [
    "kendaraan = [\"Mobil\", \"Kapal\", \"Pesawat\"]\n",
    "kendaraan.remove(\"Mobil\")\n",
    "\n",
    "kendaraan"
   ]
  },
  {
   "cell_type": "markdown",
   "metadata": {},
   "source": [
    "### Popping elemen didalam list\n",
    "\n",
    "Metode pop() dalam Python digunakan untuk menghapus elemen dari list berdasarkan indeks yang diberikan dan mengembalikan nilai dari elemen yang dihapus. Jika tidak ada indeks yang diberikan, pop() akan menghapus dan mengembalikan elemen terakhir dari list.\n"
   ]
  },
  {
   "cell_type": "code",
   "execution_count": 24,
   "metadata": {},
   "outputs": [
    {
     "name": "stdout",
     "output_type": "stream",
     "text": [
      "['Mobil', 'Kapal']\n",
      "Pesawat\n"
     ]
    }
   ],
   "source": [
    "kendaraan = [\"Mobil\", \"Kapal\", \"Pesawat\"]\n",
    "kendaraan_terakhir = kendaraan.pop(2)\n",
    "\n",
    "print(kendaraan)\n",
    "print(kendaraan_terakhir)"
   ]
  },
  {
   "cell_type": "code",
   "execution_count": 26,
   "metadata": {},
   "outputs": [
    {
     "name": "stdout",
     "output_type": "stream",
     "text": [
      "['Mobil', 'Kapal']\n"
     ]
    }
   ],
   "source": [
    "kendaraan = [\"Mobil\", \"Kapal\", \"Pesawat\"]\n",
    "kendaraan.pop() #mengambil list index terakhir,\n",
    "print(kendaraan)"
   ]
  },
  {
   "cell_type": "markdown",
   "metadata": {},
   "source": [
    "### Mengecek panjang sebuah list\n",
    "\n",
    "untuk mengecek panjang sebuah list/ berapa banyak elemen didalam list, kita bisa menggunakan built-in function len"
   ]
  },
  {
   "cell_type": "code",
   "execution_count": 28,
   "metadata": {},
   "outputs": [
    {
     "name": "stdout",
     "output_type": "stream",
     "text": [
      "list kendaraan memiliki banyak 3 item, dan tipe data dari variabel banyak kendaraan adalah <class 'int'>\n"
     ]
    }
   ],
   "source": [
    "kendaraan = [\"Mobil\", \"Kapal\", \"Pesawat\"]\n",
    "banyak_kendaraan = len(kendaraan) #3 integer\n",
    "\n",
    "print(f\"list kendaraan memiliki banyak {banyak_kendaraan} item, dan tipe data dari variabel banyak kendaraan adalah {type(banyak_kendaraan)}\")"
   ]
  },
  {
   "cell_type": "markdown",
   "metadata": {},
   "source": [
    "### Mengurutkan (sorting) list\n",
    "\n",
    "Python memiliki method sort() dan built-in function sorted() untuk mengurutkan sebuah list.\n",
    "\n",
    "method sort() mengurutkan list secara permanent.\n",
    "fungsi sorted() mencopy list yang diurutkan tanpa mempengaruhi list asli ke variabel baru. \n",
    "\n",
    "sorting list dilakukan sesuai urutan alphabet dan bisa di reverse. huruf kecil dan besar memengaruhi urutan sorting list di Python"
   ]
  },
  {
   "cell_type": "code",
   "execution_count": 37,
   "metadata": {},
   "outputs": [
    {
     "data": {
      "text/plain": [
       "['Ahmad',\n",
       " 'Budi',\n",
       " 'Citra',\n",
       " 'Dewi',\n",
       " 'Eko',\n",
       " 'Fandi',\n",
       " 'Gita',\n",
       " 'Hadi',\n",
       " 'Joko',\n",
       " 'Kartika',\n",
       " 'Lina',\n",
       " 'Mega',\n",
       " 'Nanda',\n",
       " 'Oscar',\n",
       " 'Putri',\n",
       " 'Qori',\n",
       " 'Rudi',\n",
       " 'Sari',\n",
       " 'Tono',\n",
       " 'Umar',\n",
       " 'Vina',\n",
       " 'Wati',\n",
       " 'Xavier',\n",
       " 'Yuni',\n",
       " 'Zain']"
      ]
     },
     "execution_count": 37,
     "metadata": {},
     "output_type": "execute_result"
    }
   ],
   "source": [
    "nama_orang = ['Rudi','Sari','Umar','Lina','Mega','Vina','Gita','Yuni','Oscar',\n",
    "              'Kartika','Xavier','Nanda','Hadi','Zain','Eko','Joko','Tono',\n",
    "              'Dewi','Qori','Fandi','Budi','Wati','Putri','Ahmad','Citra']\n",
    "\n",
    "nama_orang.sort()\n",
    "nama_orang"
   ]
  },
  {
   "cell_type": "code",
   "execution_count": 39,
   "metadata": {},
   "outputs": [
    {
     "data": {
      "text/plain": [
       "['Ahmad',\n",
       " 'Budi',\n",
       " 'Citra',\n",
       " 'Dewi',\n",
       " 'Eko',\n",
       " 'Fandi',\n",
       " 'Gita',\n",
       " 'Hadi',\n",
       " 'Joko',\n",
       " 'Kartika',\n",
       " 'Lina',\n",
       " 'Mega',\n",
       " 'Nanda',\n",
       " 'Oscar',\n",
       " 'Putri',\n",
       " 'Qori',\n",
       " 'Rudi',\n",
       " 'Sari',\n",
       " 'Tono',\n",
       " 'Umar',\n",
       " 'Vina',\n",
       " 'Wati',\n",
       " 'Xavier',\n",
       " 'Yuni',\n",
       " 'Zain']"
      ]
     },
     "execution_count": 39,
     "metadata": {},
     "output_type": "execute_result"
    }
   ],
   "source": [
    "nama_orang = ['Rudi','Sari','Umar','Lina','Mega','Vina','Gita','Yuni','Oscar',\n",
    "              'Kartika','Xavier','Nanda','Hadi','Zain','Eko','Joko','Tono',\n",
    "              'Dewi','Qori','Fandi','Budi','Wati','Putri','Ahmad','Citra']\n",
    "\n",
    "kopi_nama_orang_terurut = sorted(nama_orang)\n",
    "kopi_nama_orang_terurut"
   ]
  },
  {
   "cell_type": "markdown",
   "metadata": {},
   "source": [
    "# Looping elemen didalam list\n",
    "Untuk melooping didalam list, lebih populer (dan lebih mudah) menggunakan for loop dibandingkan while loop"
   ]
  },
  {
   "cell_type": "code",
   "execution_count": 2,
   "metadata": {},
   "outputs": [
    {
     "name": "stdout",
     "output_type": "stream",
     "text": [
      "Rudi\n",
      "Sari\n",
      "Umar\n",
      "Lina\n"
     ]
    }
   ],
   "source": [
    "#looping while loop\n",
    "nama_orang = ['Rudi','Sari','Umar','Lina']\n",
    "for nama in nama_orang:\n",
    "    print(nama)"
   ]
  },
  {
   "cell_type": "code",
   "execution_count": 5,
   "metadata": {},
   "outputs": [
    {
     "name": "stdout",
     "output_type": "stream",
     "text": [
      "Rudi\n",
      "Sari\n",
      "Umar\n",
      "Lina\n"
     ]
    }
   ],
   "source": [
    "#looping list dengan while loop (NOT RECOMMENDED)\n",
    "\n",
    "i = 0\n",
    "while i < len(nama_orang):\n",
    "    print(nama_orang[i])\n",
    "    i += 1"
   ]
  },
  {
   "cell_type": "markdown",
   "metadata": {},
   "source": [
    "# Range function \n",
    "\n",
    "\n",
    "Fungsi range() adalah fungsi bawaan Python yang digunakan untuk menghasilkan urutan angka. Fungsi ini dapat digunakan dengan berbagai cara untuk membuat objek urutan angka berdasarkan parameter yang diberikan. Umumnya, range() digunakan dalam loop untuk mengulang sejumlah iterasi tertentu.\n",
    "\n",
    "Fungsi range() dapat menerima satu, dua, atau tiga argumen:\n",
    "\n",
    "1. Jika hanya satu argumen diberikan, range(stop), fungsi akan menghasilkan urutan angka dari 0 hingga stop-1.\n",
    "2. Jika dua argumen diberikan, range(start, stop), fungsi akan menghasilkan urutan angka dari start hingga stop-1.\n",
    "3. Jika tiga argumen diberikan, range(start, stop, step), fungsi akan menghasilkan urutan angka dari start hingga stop-1 dengan selisih step antara setiap angka.\n",
    "\n"
   ]
  },
  {
   "cell_type": "code",
   "execution_count": 6,
   "metadata": {},
   "outputs": [
    {
     "name": "stdout",
     "output_type": "stream",
     "text": [
      "0\n",
      "1\n",
      "2\n",
      "3\n",
      "4\n"
     ]
    }
   ],
   "source": [
    "# Menghasilkan urutan angka dari 0 hingga 4\n",
    "for i in range(5):\n",
    "    print(i)  "
   ]
  },
  {
   "cell_type": "code",
   "execution_count": 7,
   "metadata": {},
   "outputs": [
    {
     "name": "stdout",
     "output_type": "stream",
     "text": [
      "2\n",
      "3\n",
      "4\n",
      "5\n",
      "6\n"
     ]
    }
   ],
   "source": [
    "# Menghasilkan urutan angka dari 2 HINGGA SEBELUM 7 (berarti 6)\n",
    "for i in range(2, 7):\n",
    "    print(i) "
   ]
  },
  {
   "cell_type": "code",
   "execution_count": 8,
   "metadata": {},
   "outputs": [
    {
     "name": "stdout",
     "output_type": "stream",
     "text": [
      "0\n",
      "2\n",
      "4\n",
      "6\n",
      "8\n",
      "10\n"
     ]
    }
   ],
   "source": [
    "# Menghasilkan urutan angka dari 0 hingga 10 dengan selisih/kelipatan 2 antara setiap angka\n",
    "for i in range(0, 11, 2):\n",
    "    print(i)  "
   ]
  },
  {
   "cell_type": "code",
   "execution_count": 9,
   "metadata": {},
   "outputs": [
    {
     "name": "stdout",
     "output_type": "stream",
     "text": [
      "Rudi\n",
      "Sari\n",
      "Umar\n",
      "Lina\n"
     ]
    }
   ],
   "source": [
    "#range bisa digunakan untuk meloop sebuah list, tetapi kembali lagi, tidak direkomendasikan\n",
    "nama_orang = ['Rudi','Sari','Umar','Lina']\n",
    "for i in range(0, len(nama_orang)):\n",
    "    print(nama_orang[i])"
   ]
  },
  {
   "cell_type": "markdown",
   "metadata": {},
   "source": [
    "# Rumus mencari bilangan terbesar,terkecil, dan hasil jumlah didalam list\n",
    "\n",
    "Python memiliki built in function max,min, dan sum untuk mencari nilai maximum, minimum, dan hasil jumlah sebuah list of integers/floats\n"
   ]
  },
  {
   "cell_type": "code",
   "execution_count": 10,
   "metadata": {},
   "outputs": [
    {
     "data": {
      "text/plain": [
       "1"
      ]
     },
     "execution_count": 10,
     "metadata": {},
     "output_type": "execute_result"
    }
   ],
   "source": [
    "numbers = [1, 2, 3, 4, 5, 6, 7, 8, 9, 10]\n",
    "min(numbers)"
   ]
  },
  {
   "cell_type": "code",
   "execution_count": 11,
   "metadata": {},
   "outputs": [
    {
     "data": {
      "text/plain": [
       "10"
      ]
     },
     "execution_count": 11,
     "metadata": {},
     "output_type": "execute_result"
    }
   ],
   "source": [
    "max(numbers)"
   ]
  },
  {
   "cell_type": "code",
   "execution_count": 12,
   "metadata": {},
   "outputs": [
    {
     "data": {
      "text/plain": [
       "55"
      ]
     },
     "execution_count": 12,
     "metadata": {},
     "output_type": "execute_result"
    }
   ],
   "source": [
    "sum(numbers)"
   ]
  },
  {
   "cell_type": "markdown",
   "metadata": {},
   "source": [
    "### Mencari bilangan terbesar, terkecil, hasil jumlah secara manual (berguna untuk problem solving/ mengetahui gambaran behind of the scene dari built in function)"
   ]
  },
  {
   "cell_type": "code",
   "execution_count": 14,
   "metadata": {},
   "outputs": [
    {
     "data": {
      "text/plain": [
       "1"
      ]
     },
     "execution_count": 14,
     "metadata": {},
     "output_type": "execute_result"
    }
   ],
   "source": [
    "#Mencari bilangan terkecil\n",
    "numbers = [5, 6, 7, 8, 9, 10, 1, 2, 3, 4,]\n",
    "def min_numbers(numbers:list):\n",
    "    min_value = numbers[0] #mengambil input nilai paling awal, untuk bisa memasukan initialisasi variabel\n",
    "    for n in numbers: #iterasi elemen setiap list\n",
    "        if n < min_value: #mengecek jika iterasi elemen lebih kecil dari min_value\n",
    "            min_value = n #assign/override/overwrite/ganti nilai min_value dengan n\n",
    "    return min_value #mengembalikan min_value di akhir fungsi\n",
    "\n",
    "min_numbers(numbers)\n"
   ]
  },
  {
   "cell_type": "code",
   "execution_count": 16,
   "metadata": {},
   "outputs": [
    {
     "data": {
      "text/plain": [
       "10"
      ]
     },
     "execution_count": 16,
     "metadata": {},
     "output_type": "execute_result"
    }
   ],
   "source": [
    "# mencari bilangan terbesar\n",
    "numbers = [5, 6, 7, 8, 9, 10, 1, 2, 3, 4,]\n",
    "def max_numbers(numbers:list):\n",
    "    max_value = numbers[0] #mengambil input nilai paling awal, untuk bisa memasukan initialisasi variabel\n",
    "    for n in numbers: #iterasi elemen setiap list\n",
    "        if n > max_value: #mengecek jika iterasi elemen lebih besar dari min_value\n",
    "            max_value = n #assign/override/overwrite/ganti nilai min_value dengan n\n",
    "    return max_value #mengembalikan min_value di akhir fungsi\n",
    "\n",
    "max_numbers(numbers)"
   ]
  },
  {
   "cell_type": "code",
   "execution_count": 20,
   "metadata": {},
   "outputs": [
    {
     "data": {
      "text/plain": [
       "55"
      ]
     },
     "execution_count": 20,
     "metadata": {},
     "output_type": "execute_result"
    }
   ],
   "source": [
    "# Mencari hasil jumlah dari sebuah list\n",
    "\n",
    "def sum_numbers(numbers:list):\n",
    "    val = 0\n",
    "    for n in numbers:\n",
    "        val += n\n",
    "    return val\n",
    "\n",
    "sum_numbers(numbers)"
   ]
  },
  {
   "cell_type": "markdown",
   "metadata": {},
   "source": [
    "### Slicing\n",
    "Slicing adalah teknik yang digunakan untuk mengambil sebagian dari list. Dalam Python, Anda dapat menggunakan operator slicing [start:stop:step] untuk mengambil sebagian dari list. Di bawah ini adalah beberapa contoh penggunaan slicing dalam list:"
   ]
  },
  {
   "cell_type": "code",
   "execution_count": 22,
   "metadata": {},
   "outputs": [
    {
     "name": "stdout",
     "output_type": "stream",
     "text": [
      "[3, 4, 5]\n"
     ]
    }
   ],
   "source": [
    "my_list = [1, 2, 3, 4, 5, 6, 7, 8, 9, 10]\n",
    "\n",
    "# Mengambil elemen dari indeks ke-2 hingga indeks sebelum 5 (berarti 4)\n",
    "sliced_list = my_list[2:5]\n",
    "print(sliced_list)  # Output: [3, 4, 5]\n"
   ]
  },
  {
   "cell_type": "code",
   "execution_count": 24,
   "metadata": {},
   "outputs": [
    {
     "name": "stdout",
     "output_type": "stream",
     "text": [
      "[2, 4, 6, 8]\n"
     ]
    }
   ],
   "source": [
    "my_list = [1, 2, 3, 4, 5, 6, 7, 8, 9, 10]\n",
    "\n",
    "# Mengambil elemen dengan langkah 2, mulai dari indeks ke-1 hingga sebelum 8\n",
    "sliced_list = my_list[1:8:2]\n",
    "print(sliced_list)  # Output: [2, 4, 6, 8]\n"
   ]
  },
  {
   "cell_type": "markdown",
   "metadata": {},
   "source": [
    "### List comprehension "
   ]
  },
  {
   "cell_type": "markdown",
   "metadata": {},
   "source": [
    "\n",
    "List comprehension adalah cara yang ringkas dan ekspresif untuk membuat list dalam Python. Ini memungkinkan Anda untuk membuat list baru dengan melakukan iterasi melalui iterable (seperti list, tuple, atau range) dan menerapkan ekspresi pada setiap elemen, kemudian menyimpan hasilnya dalam list baru. List comprehension memiliki sintaksis yang sederhana dan mudah dipahami."
   ]
  },
  {
   "cell_type": "code",
   "execution_count": 25,
   "metadata": {},
   "outputs": [
    {
     "data": {
      "text/plain": [
       "[1, 4, 9, 16, 25, 36, 49, 64, 81, 100]"
      ]
     },
     "execution_count": 25,
     "metadata": {},
     "output_type": "execute_result"
    }
   ],
   "source": [
    "nilai_pangkat = [i**2 for i in range(1,11)]\n",
    "nilai_pangkat"
   ]
  },
  {
   "cell_type": "code",
   "execution_count": 26,
   "metadata": {},
   "outputs": [
    {
     "data": {
      "text/plain": [
       "['APEL', 'DURIAN', 'JERUK']"
      ]
     },
     "execution_count": 26,
     "metadata": {},
     "output_type": "execute_result"
    }
   ],
   "source": [
    "#mengubah list of string menjadi uppercase of string\n",
    "\n",
    "buah = [\"apel\",\"durian\", \"jeruk\"]\n",
    "buah = [b.upper() for b in buah]\n",
    "buah"
   ]
  },
  {
   "cell_type": "markdown",
   "metadata": {},
   "source": [
    "### Tuple\n",
    "\n",
    "\n",
    "Dalam Python, tuple adalah struktur data yang mirip dengan list, tetapi dengan perbedaan utama bahwa tuple bersifat tidak berubah (immutable). Ini berarti setelah tuple dibuat, elemen-elemennya tidak dapat diubah, ditambahkan, atau dihapus. Tuple sering digunakan untuk menyimpan sekumpulan nilai yang terkait, tetapi tidak dapat diubah.\n",
    "\n",
    "Tuple dituliskan dengan menggunakan tanda kurung () dan elemen-elemennya dipisahkan oleh koma. Berikut adalah contoh tuple sederhana:"
   ]
  },
  {
   "cell_type": "code",
   "execution_count": 1,
   "metadata": {},
   "outputs": [
    {
     "name": "stdout",
     "output_type": "stream",
     "text": [
      "<class 'tuple'>\n"
     ]
    }
   ],
   "source": [
    "buah = (\"apel\", \"jeruk\", \"pisang\")\n",
    "print(type(buah))"
   ]
  },
  {
   "cell_type": "code",
   "execution_count": 3,
   "metadata": {},
   "outputs": [
    {
     "name": "stdout",
     "output_type": "stream",
     "text": [
      "apel\n",
      "jeruk\n",
      "pisang\n"
     ]
    }
   ],
   "source": [
    "# looping tuple dgn for loop\n",
    "for b in buah:\n",
    "    print(b)\n",
    "    \n"
   ]
  },
  {
   "cell_type": "markdown",
   "metadata": {},
   "source": [
    "method didalam tuple sangatlah terbatas, hanya ada 2, yaitu .count() dan .index()\n",
    "\n",
    ".count(arg) digunakan untuk menghitung berapa kali nilai tertentu muncul dalam tuple. Ini mengembalikan jumlah kemunculan nilai yang diberikan.\n",
    "\n",
    ".index(arg) digunakan untuk mencari indeks dari nilai tertentu dalam tuple. Jika nilai tersebut ditemukan, metode ini mengembalikan indeks pertama di mana nilai tersebut muncul dalam tuple.Contoh penggunaan: "
   ]
  },
  {
   "cell_type": "code",
   "execution_count": 11,
   "metadata": {},
   "outputs": [
    {
     "data": {
      "text/plain": [
       "2"
      ]
     },
     "execution_count": 11,
     "metadata": {},
     "output_type": "execute_result"
    }
   ],
   "source": [
    "buah = (\"apel\", \"jeruk\", \"pisang\", \"apel\")\n",
    "buah.count(\"apel\")\n"
   ]
  },
  {
   "cell_type": "code",
   "execution_count": 12,
   "metadata": {},
   "outputs": [
    {
     "data": {
      "text/plain": [
       "0"
      ]
     },
     "execution_count": 12,
     "metadata": {},
     "output_type": "execute_result"
    }
   ],
   "source": [
    "# Jika sebuah value tidak ada dalam tuple ketika menggunakan method count, maka hasilnya 0\n",
    "\n",
    "buah.count(\"semangka\")"
   ]
  },
  {
   "cell_type": "code",
   "execution_count": 14,
   "metadata": {},
   "outputs": [
    {
     "data": {
      "text/plain": [
       "1"
      ]
     },
     "execution_count": 14,
     "metadata": {},
     "output_type": "execute_result"
    }
   ],
   "source": [
    "buah.index(\"jeruk\")"
   ]
  },
  {
   "cell_type": "code",
   "execution_count": 15,
   "metadata": {},
   "outputs": [
    {
     "ename": "ValueError",
     "evalue": "tuple.index(x): x not in tuple",
     "output_type": "error",
     "traceback": [
      "\u001b[1;31m---------------------------------------------------------------------------\u001b[0m",
      "\u001b[1;31mValueError\u001b[0m                                Traceback (most recent call last)",
      "Cell \u001b[1;32mIn[15], line 2\u001b[0m\n\u001b[0;32m      1\u001b[0m \u001b[38;5;66;03m# Jika sebuah value tidak ada dalam tuple ketika menggunakan method index, maka akan mengeluarkan error\u001b[39;00m\n\u001b[1;32m----> 2\u001b[0m \u001b[43mbuah\u001b[49m\u001b[38;5;241;43m.\u001b[39;49m\u001b[43mindex\u001b[49m\u001b[43m(\u001b[49m\u001b[38;5;124;43m\"\u001b[39;49m\u001b[38;5;124;43msemangka\u001b[39;49m\u001b[38;5;124;43m\"\u001b[39;49m\u001b[43m)\u001b[49m\n",
      "\u001b[1;31mValueError\u001b[0m: tuple.index(x): x not in tuple"
     ]
    }
   ],
   "source": [
    "# Jika sebuah value tidak ada dalam tuple ketika menggunakan method index, maka akan mengeluarkan error ValueError\n",
    "buah.index(\"semangka\") \n"
   ]
  },
  {
   "cell_type": "code",
   "execution_count": 6,
   "metadata": {},
   "outputs": [
    {
     "name": "stdout",
     "output_type": "stream",
     "text": [
      "[82, 83, 30, 85, 86, 87, 88, 89, 90, 100]\n"
     ]
    }
   ],
   "source": [
    "nilai = [82,83,84,85,86,87,88,89,90,100]\n",
    "    \n",
    "nilai[2] = 30\n",
    "print(nilai)"
   ]
  },
  {
   "cell_type": "code",
   "execution_count": 8,
   "metadata": {},
   "outputs": [
    {
     "name": "stdout",
     "output_type": "stream",
     "text": [
      "84\n"
     ]
    }
   ],
   "source": [
    "nilai = [82,83,84,85,86,87,88,89,90,100]\n",
    "\n",
    "variabel_baru = nilai[2]\n",
    "print(variabel_baru)"
   ]
  },
  {
   "cell_type": "code",
   "execution_count": 9,
   "metadata": {},
   "outputs": [
    {
     "name": "stdout",
     "output_type": "stream",
     "text": [
      "Latihan 3 - Hasil array setelah penyimpanan nilai-nilai: [50, 75, 90]\n",
      "Latihan 5 - Hasil array setelah penyimpanan nilai-nilai: [0, 1, 2, 3, 4, 5, 6]\n",
      "Latihan 6 - Hasil array setelah penyimpanan bergantian: [10, 20, 30, 40]\n"
     ]
    }
   ],
   "source": [
    "# Latihan 1: Penyimpanan Nilai\n",
    "array1 = [5, 10, 15, 20, 25]\n",
    "array1[2] = 100\n",
    "#berapa nilai array1?\n",
    "\n",
    "\n",
    "# Latihan 2: Pengambilan Nilai\n",
    "array1 = [5, 10, 15, 20, 25]\n",
    "value2 = array1[3]\n",
    "#berapa nilai value2?\n",
    "\n",
    "# Latihan 3: Penyimpanan Nilai Berulang\n",
    "array3 = [0,0,0]\n",
    "array3[0] = 50\n",
    "array3[1] = 75\n",
    "array3[2] = 90\n",
    "#berapa nilai array 3\n",
    "\n",
    "array1 = [5, 10, 15, 20, 25]\n",
    "array1[5] = 100\n",
    "#apa yang terjadi?\n"
   ]
  },
  {
   "cell_type": "code",
   "execution_count": 9,
   "metadata": {},
   "outputs": [
    {
     "name": "stdout",
     "output_type": "stream",
     "text": [
      "False\n"
     ]
    }
   ],
   "source": [
    "stack = [3,4,5,2,3,1,9,0,1,8]\n",
    "\n",
    "#kode something2\n",
    "\n",
    "def isitEmpty(stack_):\n",
    "    banyak_stack = len(stack_)\n",
    "    if banyak_stack == 0:\n",
    "        return True\n",
    "    else:\n",
    "        return False\n",
    "    \n",
    "isStackEmpty = isitEmpty(stack)\n",
    "print(isStackEmpty)"
   ]
  },
  {
   "cell_type": "code",
   "execution_count": 8,
   "metadata": {},
   "outputs": [
    {
     "name": "stdout",
     "output_type": "stream",
     "text": [
      "False\n"
     ]
    }
   ],
   "source": [
    "stack = [3,4,5,2,3,1,9,0,1,8]\n",
    "\n",
    "banyakstack = len(stack)\n",
    "if banyakstack == 0:\n",
    "    isEmpty = True\n",
    "else:\n",
    "    isEmpty = False\n",
    "    \n",
    "print(isEmpty)"
   ]
  },
  {
   "cell_type": "code",
   "execution_count": 12,
   "metadata": {},
   "outputs": [
    {
     "name": "stdout",
     "output_type": "stream",
     "text": [
      "['Setiawan', 'Joko']\n"
     ]
    }
   ],
   "source": [
    "#soal 3\n",
    "\n",
    "queue = []\n",
    "queue.append(\"Joni\")\n",
    "queue.append(\"Budi\")\n",
    "queue.append(\"Setiawan\")\n",
    "queue.pop(0)\n",
    "queue.append(\"Joko\")\n",
    "queue.pop(0)\n",
    "\n",
    "print(queue)"
   ]
  },
  {
   "cell_type": "code",
   "execution_count": null,
   "metadata": {},
   "outputs": [],
   "source": []
  }
 ],
 "metadata": {
  "kernelspec": {
   "display_name": "Python 3",
   "language": "python",
   "name": "python3"
  },
  "language_info": {
   "codemirror_mode": {
    "name": "ipython",
    "version": 3
   },
   "file_extension": ".py",
   "mimetype": "text/x-python",
   "name": "python",
   "nbconvert_exporter": "python",
   "pygments_lexer": "ipython3",
   "version": "3.12.1"
  }
 },
 "nbformat": 4,
 "nbformat_minor": 2
}
