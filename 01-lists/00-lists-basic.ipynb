{
 "cells": [
  {
   "cell_type": "markdown",
   "metadata": {},
   "source": [
    "# Tipe data LIST\n",
    "\n",
    "Tipe data list menyimpan serangkaian item dalam urutan tertentu.\n",
    "List memungkinkan Anda menyimpan kumpulan informasi dalam satu tempat, baik Anda hanya memiliki beberapa item atau jutaan item.\n",
    "List merupakan salah satu fitur paling kuat dalam Python yang mudah diakses oleh pemrogram pemula, dan mereka mengikat banyak konsep penting dalam pemrograman.\n"
   ]
  },
  {
   "cell_type": "markdown",
   "metadata": {},
   "source": [
    "### Contoh list"
   ]
  },
  {
   "cell_type": "code",
   "execution_count": 1,
   "metadata": {},
   "outputs": [],
   "source": [
    "siswa = [\"Joko\", \"Budi\", \"Anwar\"]"
   ]
  },
  {
   "cell_type": "markdown",
   "metadata": {},
   "source": [
    "### Mengakses Elemen dalam list\n",
    "\n",
    "\n",
    "Anda dapat mengakses elemen dalam daftar Python menggunakan indeks. Indeks dimulai dari 0 untuk elemen pertama dalam daftar, 1 untuk elemen kedua, dan seterusnya. Anda dapat menggunakan indeks positif untuk mengakses elemen dari awal daftar dan indeks negatif untuk mengakses elemen dari akhir daftar"
   ]
  },
  {
   "cell_type": "code",
   "execution_count": 2,
   "metadata": {},
   "outputs": [
    {
     "data": {
      "text/plain": [
       "['Joko', 'Budi', 'Anwar']"
      ]
     },
     "execution_count": 2,
     "metadata": {},
     "output_type": "execute_result"
    }
   ],
   "source": [
    "siswa"
   ]
  },
  {
   "cell_type": "code",
   "execution_count": 3,
   "metadata": {},
   "outputs": [
    {
     "name": "stdout",
     "output_type": "stream",
     "text": [
      "Joko Budi Anwar\n"
     ]
    }
   ],
   "source": [
    "siswa1 = siswa[0]\n",
    "siswa2 = siswa[1]\n",
    "siswa3 = siswa[2]\n",
    "\n",
    "print(siswa1,siswa2,siswa3)"
   ]
  },
  {
   "cell_type": "code",
   "execution_count": 5,
   "metadata": {},
   "outputs": [
    {
     "data": {
      "text/plain": [
       "'Anwar'"
      ]
     },
     "execution_count": 5,
     "metadata": {},
     "output_type": "execute_result"
    }
   ],
   "source": [
    "#anda bisa mengakses indexing terakhir dimulai dari -1\n",
    "\n",
    "siswa_terakhir = siswa[-1]\n",
    "siswa_kedua_dari_terakhir = siswa[-2]\n",
    "siswa_ketiga_dari_terakhir = siswa[-3]\n",
    "\n",
    "siswa_terakhir"
   ]
  },
  {
   "cell_type": "markdown",
   "metadata": {},
   "source": [
    "### Modifikikasi nilai elemen dalam list\n",
    "\n",
    "\n",
    "Anda dapat memodifikasi nilai dalam elemen list dengan menetapkan nilai baru ke indeks yang sesuai. Berikut adalah contoh bagaimana Anda dapat melakukannya:\n"
   ]
  },
  {
   "cell_type": "code",
   "execution_count": 6,
   "metadata": {},
   "outputs": [
    {
     "name": "stdout",
     "output_type": "stream",
     "text": [
      "['Joko', 'Budi', 'Anwar']\n"
     ]
    }
   ],
   "source": [
    "print(siswa)"
   ]
  },
  {
   "cell_type": "code",
   "execution_count": 8,
   "metadata": {},
   "outputs": [
    {
     "name": "stdout",
     "output_type": "stream",
     "text": [
      "['Afi', 'Jaka', 'Raya']\n"
     ]
    }
   ],
   "source": [
    "siswa[0] = \"Afi\"\n",
    "siswa[1] = \"Jaka\"\n",
    "siswa[2] = \"Raya\"\n",
    "\n",
    "print(siswa)"
   ]
  },
  {
   "cell_type": "markdown",
   "metadata": {},
   "source": [
    "### Menambah elemen kedalam list\n",
    "\n",
    "terdapat dua method yg dipakai untuk menambahkan elemen / (tipe) data baru kedalam list, yaitu append dan insert\n",
    "\n",
    "append -> menambahkan elemen baru di list terakhir\n",
    ".\n",
    "insert -> menambahkan elemen baru di indexing tertentu didalam list\n",
    "\n",
    "secara personal, lebih sering muncul kasus dimana kita harus menggunakan append dibandingkan list"
   ]
  },
  {
   "cell_type": "code",
   "execution_count": 9,
   "metadata": {},
   "outputs": [
    {
     "name": "stdout",
     "output_type": "stream",
     "text": [
      "['Apel', 'Pisang']\n"
     ]
    }
   ],
   "source": [
    "buah = []\n",
    "buah.append(\"Apel\")\n",
    "buah.append(\"Pisang\")\n",
    "\n",
    "print(buah)"
   ]
  },
  {
   "cell_type": "code",
   "execution_count": 13,
   "metadata": {},
   "outputs": [
    {
     "data": {
      "text/plain": [
       "['motor', 'Mobil', 'Kapal', 'Taxi', 'Pesawat']"
      ]
     },
     "execution_count": 13,
     "metadata": {},
     "output_type": "execute_result"
    }
   ],
   "source": [
    "kendaraan = [\"Mobil\", \"Kapal\", \"Pesawat\"]\n",
    "kendaraan.insert(0, \"motor\")\n",
    "kendaraan.insert(3,\"Taxi\")\n",
    "\n",
    "kendaraan\n"
   ]
  },
  {
   "cell_type": "markdown",
   "metadata": {},
   "source": [
    "### Menghapus elemen didalam list\n",
    "\n",
    "Ada dua cara menghapus sebuah elemen dalam list, yaitu method remove dan kata kunci 'del'\n",
    "\n",
    "dalam methode remove, kita menghapus sebuah elemen dengan melemparkan nama value elemen\n",
    "dalam kata kunci del, kita menghapus sebuah elemen dengan melemparkan indexingnya "
   ]
  },
  {
   "cell_type": "code",
   "execution_count": 19,
   "metadata": {},
   "outputs": [
    {
     "name": "stdout",
     "output_type": "stream",
     "text": [
      "['Mobil', 'Kapal', 'Pesawat']\n"
     ]
    }
   ],
   "source": [
    "kendaraan = [\"Mobil\", \"Kapal\", \"Pesawat\"]\n",
    "print(kendaraan)\n"
   ]
  },
  {
   "cell_type": "code",
   "execution_count": 20,
   "metadata": {},
   "outputs": [
    {
     "data": {
      "text/plain": [
       "['Kapal', 'Pesawat']"
      ]
     },
     "execution_count": 20,
     "metadata": {},
     "output_type": "execute_result"
    }
   ],
   "source": [
    "kendaraan = [\"Mobil\", \"Kapal\", \"Pesawat\"]\n",
    "del kendaraan[0]\n",
    "kendaraan"
   ]
  },
  {
   "cell_type": "code",
   "execution_count": 21,
   "metadata": {},
   "outputs": [
    {
     "data": {
      "text/plain": [
       "['Kapal', 'Pesawat']"
      ]
     },
     "execution_count": 21,
     "metadata": {},
     "output_type": "execute_result"
    }
   ],
   "source": [
    "kendaraan = [\"Mobil\", \"Kapal\", \"Pesawat\"]\n",
    "kendaraan.remove(\"Mobil\")\n",
    "\n",
    "kendaraan"
   ]
  },
  {
   "cell_type": "markdown",
   "metadata": {},
   "source": [
    "### Popping elemen didalam list\n",
    "\n",
    "Metode pop() dalam Python digunakan untuk menghapus elemen dari list berdasarkan indeks yang diberikan dan mengembalikan nilai dari elemen yang dihapus. Jika tidak ada indeks yang diberikan, pop() akan menghapus dan mengembalikan elemen terakhir dari list.\n"
   ]
  },
  {
   "cell_type": "code",
   "execution_count": 24,
   "metadata": {},
   "outputs": [
    {
     "name": "stdout",
     "output_type": "stream",
     "text": [
      "['Mobil', 'Kapal']\n",
      "Pesawat\n"
     ]
    }
   ],
   "source": [
    "kendaraan = [\"Mobil\", \"Kapal\", \"Pesawat\"]\n",
    "kendaraan_terakhir = kendaraan.pop(2)\n",
    "\n",
    "print(kendaraan)\n",
    "print(kendaraan_terakhir)"
   ]
  },
  {
   "cell_type": "code",
   "execution_count": 26,
   "metadata": {},
   "outputs": [
    {
     "name": "stdout",
     "output_type": "stream",
     "text": [
      "['Mobil', 'Kapal']\n"
     ]
    }
   ],
   "source": [
    "kendaraan = [\"Mobil\", \"Kapal\", \"Pesawat\"]\n",
    "kendaraan.pop() #mengambil list index terakhir,\n",
    "print(kendaraan)"
   ]
  },
  {
   "cell_type": "markdown",
   "metadata": {},
   "source": [
    "### Mengecek panjang sebuah list\n",
    "\n",
    "untuk mengecek panjang sebuah list/ berapa banyak elemen didalam list, kita bisa menggunakan built-in function len"
   ]
  },
  {
   "cell_type": "code",
   "execution_count": 28,
   "metadata": {},
   "outputs": [
    {
     "name": "stdout",
     "output_type": "stream",
     "text": [
      "list kendaraan memiliki banyak 3 item, dan tipe data dari variabel banyak kendaraan adalah <class 'int'>\n"
     ]
    }
   ],
   "source": [
    "kendaraan = [\"Mobil\", \"Kapal\", \"Pesawat\"]\n",
    "banyak_kendaraan = len(kendaraan) #3 integer\n",
    "\n",
    "print(f\"list kendaraan memiliki banyak {banyak_kendaraan} item, dan tipe data dari variabel banyak kendaraan adalah {type(banyak_kendaraan)}\")"
   ]
  },
  {
   "cell_type": "markdown",
   "metadata": {},
   "source": [
    "### Mengurutkan (sorting) list\n",
    "\n",
    "Python memiliki method sort() dan built-in function sorted() untuk mengurutkan sebuah list.\n",
    "\n",
    "method sort() mengurutkan list secara permanent.\n",
    "fungsi sorted() mencopy list yang diurutkan tanpa mempengaruhi list asli ke variabel baru. \n",
    "\n",
    "sorting list dilakukan sesuai urutan alphabet dan bisa di reverse. huruf kecil dan besar memengaruhi urutan sorting list di Python"
   ]
  },
  {
   "cell_type": "code",
   "execution_count": 37,
   "metadata": {},
   "outputs": [
    {
     "data": {
      "text/plain": [
       "['Ahmad',\n",
       " 'Budi',\n",
       " 'Citra',\n",
       " 'Dewi',\n",
       " 'Eko',\n",
       " 'Fandi',\n",
       " 'Gita',\n",
       " 'Hadi',\n",
       " 'Joko',\n",
       " 'Kartika',\n",
       " 'Lina',\n",
       " 'Mega',\n",
       " 'Nanda',\n",
       " 'Oscar',\n",
       " 'Putri',\n",
       " 'Qori',\n",
       " 'Rudi',\n",
       " 'Sari',\n",
       " 'Tono',\n",
       " 'Umar',\n",
       " 'Vina',\n",
       " 'Wati',\n",
       " 'Xavier',\n",
       " 'Yuni',\n",
       " 'Zain']"
      ]
     },
     "execution_count": 37,
     "metadata": {},
     "output_type": "execute_result"
    }
   ],
   "source": [
    "nama_orang = ['Rudi','Sari','Umar','Lina','Mega','Vina','Gita','Yuni','Oscar',\n",
    "              'Kartika','Xavier','Nanda','Hadi','Zain','Eko','Joko','Tono',\n",
    "              'Dewi','Qori','Fandi','Budi','Wati','Putri','Ahmad','Citra']\n",
    "\n",
    "nama_orang.sort()\n",
    "nama_orang"
   ]
  },
  {
   "cell_type": "code",
   "execution_count": 39,
   "metadata": {},
   "outputs": [
    {
     "data": {
      "text/plain": [
       "['Ahmad',\n",
       " 'Budi',\n",
       " 'Citra',\n",
       " 'Dewi',\n",
       " 'Eko',\n",
       " 'Fandi',\n",
       " 'Gita',\n",
       " 'Hadi',\n",
       " 'Joko',\n",
       " 'Kartika',\n",
       " 'Lina',\n",
       " 'Mega',\n",
       " 'Nanda',\n",
       " 'Oscar',\n",
       " 'Putri',\n",
       " 'Qori',\n",
       " 'Rudi',\n",
       " 'Sari',\n",
       " 'Tono',\n",
       " 'Umar',\n",
       " 'Vina',\n",
       " 'Wati',\n",
       " 'Xavier',\n",
       " 'Yuni',\n",
       " 'Zain']"
      ]
     },
     "execution_count": 39,
     "metadata": {},
     "output_type": "execute_result"
    }
   ],
   "source": [
    "nama_orang = ['Rudi','Sari','Umar','Lina','Mega','Vina','Gita','Yuni','Oscar',\n",
    "              'Kartika','Xavier','Nanda','Hadi','Zain','Eko','Joko','Tono',\n",
    "              'Dewi','Qori','Fandi','Budi','Wati','Putri','Ahmad','Citra']\n",
    "\n",
    "kopi_nama_orang_terurut = sorted(nama_orang)\n",
    "kopi_nama_orang_terurut"
   ]
  },
  {
   "cell_type": "code",
   "execution_count": null,
   "metadata": {},
   "outputs": [],
   "source": []
  }
 ],
 "metadata": {
  "kernelspec": {
   "display_name": "Python 3",
   "language": "python",
   "name": "python3"
  },
  "language_info": {
   "codemirror_mode": {
    "name": "ipython",
    "version": 3
   },
   "file_extension": ".py",
   "mimetype": "text/x-python",
   "name": "python",
   "nbconvert_exporter": "python",
   "pygments_lexer": "ipython3",
   "version": "3.12.1"
  }
 },
 "nbformat": 4,
 "nbformat_minor": 2
}
