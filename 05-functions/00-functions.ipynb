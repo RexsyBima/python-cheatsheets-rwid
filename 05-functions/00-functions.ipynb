{
 "cells": [
  {
   "cell_type": "markdown",
   "metadata": {},
   "source": [
    "# Functions\n",
    "\n",
    "\n",
    "Fungsi dalam Python adalah sebuah blok kode yang dapat dieksekusi berulang kali untuk melakukan tugas tertentu. \n",
    "\n",
    "Fungsi dapat menerima input (disebut parameter atau argumen), melakukan beberapa operasi berdasarkan input tersebut, dan mengembalikan output (disebut return value) setelah operasi selesai dieksekusi.\n",
    "\n",
    "\n",
    "Fungsi biasanya digunakan untuk mengorganisir dan memecah kode menjadi bagian-bagian yang lebih kecil dan lebih mudah dikelola. Ini membuat kode lebih mudah dibaca, dimengerti, dan dipelihara. Selain itu, fungsi memungkinkan untuk menghindari pengulangan kode yang sama di beberapa bagian program.\n",
    "\n"
   ]
  },
  {
   "cell_type": "code",
   "execution_count": 2,
   "metadata": {},
   "outputs": [
    {
     "data": {
      "text/plain": [
       "'Hello world'"
      ]
     },
     "execution_count": 2,
     "metadata": {},
     "output_type": "execute_result"
    }
   ],
   "source": [
    "\n",
    "# membuat fungsi, perhatikan kata kunci def\n",
    "def salam_kenal():\n",
    "    return \"Hello world\"\n",
    "#memanggil/menggunakan fungsi \n",
    "hi = salam_kenal()\n",
    "hi"
   ]
  },
  {
   "cell_type": "code",
   "execution_count": 3,
   "metadata": {},
   "outputs": [
    {
     "data": {
      "text/plain": [
       "['ini parameter1', 'ini parameter2', 'ini parameter3']"
      ]
     },
     "execution_count": 3,
     "metadata": {},
     "output_type": "execute_result"
    }
   ],
   "source": [
    "# fungsi di python bisa diisi dengan argumen atau parameter value, parameter di fungsi tidak terbatas secara teknis\n",
    "\n",
    "def nama_fungsi(parameter1,parameter2,parameter3):\n",
    "    return [parameter1,parameter2,parameter3]\n",
    "\n",
    "f = nama_fungsi(\"ini parameter1\", \"ini parameter2\", \"ini parameter3\") #pengisian parameter berurutan dari kiri ke kanan\n",
    "\n",
    "f"
   ]
  },
  {
   "cell_type": "code",
   "execution_count": 4,
   "metadata": {},
   "outputs": [
    {
     "data": {
      "text/plain": [
       "['ini parameter1', 'ini parameter2', 'ini parameter3']"
      ]
     },
     "execution_count": 4,
     "metadata": {},
     "output_type": "execute_result"
    }
   ],
   "source": [
    "# nilai parameter fungsi juga bisa diisi secara explisit, atau dikenal mengisi parameter menggunakan keyword arguments\n",
    "\n",
    "f = nama_fungsi(parameter1=\"ini parameter1\", parameter2=\"ini parameter2\", parameter3=\"ini parameter3\")\n",
    "f"
   ]
  },
  {
   "cell_type": "code",
   "execution_count": 6,
   "metadata": {},
   "outputs": [
    {
     "name": "stdout",
     "output_type": "stream",
     "text": [
      "Hi, nama saya Joko\n",
      "Hi, nama saya Jona\n",
      "Hi, nama saya Joni\n"
     ]
    }
   ],
   "source": [
    "def salam_kenal(nama):\n",
    "    return f\"Hi, nama saya {nama}\"\n",
    "\n",
    "salken = salam_kenal(\"Joko\")\n",
    "salken2 = salam_kenal(\"Jona\")\n",
    "salken3 = salam_kenal(\"Joni\")\n",
    "print(salken)\n",
    "print(salken2) \n",
    "print(salken3) \n",
    " "
   ]
  },
  {
   "cell_type": "markdown",
   "metadata": {},
   "source": [
    "## Default values\n",
    "\n",
    "\n",
    "Default values dalam fungsi Python adalah nilai-nilai yang ditetapkan untuk parameter fungsi, yang akan digunakan jika pemanggilan fungsi tidak menyediakan nilai untuk parameter tersebut. Dengan menggunakan default values, Anda dapat membuat parameter-parameter opsional dalam fungsi."
   ]
  },
  {
   "cell_type": "code",
   "execution_count": 7,
   "metadata": {},
   "outputs": [
    {
     "data": {
      "text/plain": [
       "'hobinya adalah berenang, dan biasanya melakukannya 2 jam sehari'"
      ]
     },
     "execution_count": 7,
     "metadata": {},
     "output_type": "execute_result"
    }
   ],
   "source": [
    "def hobi(name, time=2):\n",
    "    return f\"hobinya adalah {name}, dan biasanya melakukannya {time} jam sehari\"\n",
    "\n",
    "hobi1 = hobi(\"berenang\")\n",
    "hobi1"
   ]
  },
  {
   "cell_type": "code",
   "execution_count": 9,
   "metadata": {},
   "outputs": [
    {
     "data": {
      "text/plain": [
       "'hobinya adalah membaca, dan biasanya melakukannya 1 jam sehari'"
      ]
     },
     "execution_count": 9,
     "metadata": {},
     "output_type": "execute_result"
    }
   ],
   "source": [
    "hobi2 = hobi(\"membaca\", 1)\n",
    "hobi2"
   ]
  },
  {
   "cell_type": "markdown",
   "metadata": {},
   "source": [
    "## Memasukan banyak parameter/argumen\n",
    "\n",
    "jika ingin membuat fungsi dimana kita tidak tahu sebanyak berapa argumen yang ingin ditempelkan kita bisa menggunakan `*args` dan `**kwargs` untuk menangani berbagai kasus banyak argumen\n",
    "\n",
    "1. `*args` digunakan untuk mengumpulkan argumen posisi (positional arguments) ke dalam sebuah tuple.\n",
    "2. `**kwargs` digunakan untuk mengumpulkan argumen kata kunci (keyword arguments) ke dalam sebuah dictionary.\n",
    "\n"
   ]
  },
  {
   "cell_type": "code",
   "execution_count": 1,
   "metadata": {},
   "outputs": [
    {
     "name": "stdout",
     "output_type": "stream",
     "text": [
      "pesan martabak ukuran large\n",
      "kombinasi rasa : \n",
      "<class 'tuple'>\n",
      "1. coklat\n",
      "2. kacang\n",
      "3. keju\n"
     ]
    }
   ],
   "source": [
    "#aplikasi membuat pizza dengan pilihan topping tidak terbatas menggunakan *args\n",
    "\n",
    "def pesan_martabak_manis(ukuran, *rasa):\n",
    "    print(f\"pesan martabak ukuran {ukuran}\")\n",
    "    print(\"kombinasi rasa : \")\n",
    "    print(type(rasa))\n",
    "    for i,r in enumerate(rasa):\n",
    "        print(f\"{i+1}. {r}\")\n",
    "        \n",
    "martabak1 = pesan_martabak_manis(\"large\", \"coklat\", \"kacang\", \"keju\")\n",
    "#WIP KWARGS\n"
   ]
  },
  {
   "cell_type": "markdown",
   "metadata": {},
   "source": [
    "# Real case scenario\n",
    "\n",
    "disini kita akan coba menggunakan real case scenario dimana kita harus\n",
    "1. membuat fungsi konversi suhu, dari celcius ke fahrenheit\n",
    "2. membuat fungsi dimana semua satuan value dari input sebuah list of integer di pangkatkan 5\n",
    "3. membuat fungsi dimana kita bisa mengambil bilangan terbesar dari list of integers\n",
    "4. membuat fungsi filterasi dimana kita bisa membuat tipe data selain integer didalam list of random datas"
   ]
  },
  {
   "cell_type": "code",
   "execution_count": 4,
   "metadata": {},
   "outputs": [
    {
     "name": "stdout",
     "output_type": "stream",
     "text": [
      "32.0\n"
     ]
    }
   ],
   "source": [
    "#membuat konversi suhu, celcius to fahrenheit\n",
    "\n",
    "def celcius_to_fahrenheit(temp : int):\n",
    "    \"\"\" formula = (0°C × 9/5) + 32 = 32°F \"\"\"\n",
    "    fahrenheit = temp * 9/5 + 32\n",
    "    return fahrenheit\n",
    "    \n",
    "suhu1 = celcius_to_fahrenheit(0)\n",
    "print(suhu1)"
   ]
  },
  {
   "cell_type": "code",
   "execution_count": 10,
   "metadata": {},
   "outputs": [
    {
     "name": "stdout",
     "output_type": "stream",
     "text": [
      "[1, 32, 243, 1024, 3125, 7776, 16807, 32768, 59049, 100000]\n",
      "[1, 32, 243, 1024, 3125, 7776, 16807, 32768, 59049, 100000]\n"
     ]
    }
   ],
   "source": [
    "\"\"\" membuat fungsi dimana semua satuan value dari input sebuah list of integer di pangkatkan 5 \n",
    "akan ada 2 fungsi.\n",
    "1. fungsi dengan cara manual\n",
    "2. fungsi dengan list comprehension\n",
    "\"\"\"\n",
    "def power_five1(list_ : list):\n",
    "    \"\"\" cara manual \"\"\"\n",
    "    output = []\n",
    "    for i in list_:\n",
    "        o = i ** 5\n",
    "        output.append(o)\n",
    "    return output\n",
    "\n",
    "def power_five2(list_ : list):\n",
    "    list_ = [i ** 5 for i in list_]\n",
    "    return list_\n",
    "\n",
    "list_of_int = [1,2,3,4,5,6,7,8,9,10]\n",
    "output1 = power_five1(list_of_int)\n",
    "output2 = power_five2(list_of_int)\n",
    "print(output1)\n",
    "print(output2)\n",
    "\n"
   ]
  },
  {
   "cell_type": "code",
   "execution_count": 11,
   "metadata": {},
   "outputs": [
    {
     "name": "stdout",
     "output_type": "stream",
     "text": [
      "82\n"
     ]
    }
   ],
   "source": [
    "\"\"\" membuat fungsi dimana kita bisa mengambil bilangan terbesar dari list of integers \"\"\"\n",
    "\n",
    "def find_biggest(list_ : list):\n",
    "    n = list_[0]\n",
    "    for i in list_:\n",
    "        if i > n:\n",
    "            n = i\n",
    "    return n\n",
    "\n",
    "print(find_biggest([3,0,9,82,31]))"
   ]
  },
  {
   "cell_type": "code",
   "execution_count": 14,
   "metadata": {},
   "outputs": [
    {
     "data": {
      "text/plain": [
       "[1, 2, 3]"
      ]
     },
     "execution_count": 14,
     "metadata": {},
     "output_type": "execute_result"
    }
   ],
   "source": [
    "\"\"\" 4. membuat fungsi filterasi dimana kita bisa membuat tipe data selain integer didalam list of random datas\"\"\"\n",
    "\n",
    "def filter_list1(list_ : list):\n",
    "    output = []\n",
    "    for i in list_:\n",
    "        if type(i) == int:\n",
    "            output.append(i)\n",
    "    return output\n",
    "\n",
    "def filter_list2(list_:list):\n",
    "    list_ = [i for i in list_ if type(i) == int]\n",
    "    return list_\n",
    "\n",
    "filter_list2([1,2,3,\"4\"])"
   ]
  },
  {
   "cell_type": "markdown",
   "metadata": {},
   "source": [
    "## Untuk chapter berikutnya materi ini akan dijelaskan menggunakan fungsi, dikenal dengan istilah function oriented programming https://www.geeksforgeeks.org/functional-programming-paradigm/\n",
    "\n",
    "Alasan:\n",
    "1. membuat kode mudah dibaca\n",
    "2. struktur kode yang lebih jelas\n",
    "3. dan membuat kita lebih profesional nantinya"
   ]
  },
  {
   "cell_type": "markdown",
   "metadata": {},
   "source": []
  }
 ],
 "metadata": {
  "kernelspec": {
   "display_name": "Python 3",
   "language": "python",
   "name": "python3"
  },
  "language_info": {
   "codemirror_mode": {
    "name": "ipython",
    "version": 3
   },
   "file_extension": ".py",
   "mimetype": "text/x-python",
   "name": "python",
   "nbconvert_exporter": "python",
   "pygments_lexer": "ipython3",
   "version": "3.12.1"
  }
 },
 "nbformat": 4,
 "nbformat_minor": 2
}
