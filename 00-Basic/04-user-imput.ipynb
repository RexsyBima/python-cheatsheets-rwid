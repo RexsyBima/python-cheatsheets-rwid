{
 "cells": [
  {
   "cell_type": "markdown",
   "metadata": {},
   "source": [
    "\n",
    "### user input digunakan untuk meminta user memasukan input kedalam program,\n",
    "### input yang dimasukan akan selalu berbentuk **string**                        \n",
    "### (tetapi tetap bisa dikonversi menjadi tipe data lain, selagi memenuhi)  \n"
   ]
  },
  {
   "cell_type": "markdown",
   "metadata": {},
   "source": []
  },
  {
   "cell_type": "code",
   "execution_count": 2,
   "metadata": {},
   "outputs": [
    {
     "name": "stdout",
     "output_type": "stream",
     "text": [
      "Hobi yang kamu sukai adalah makan\n",
      "tipe data variabel hobi adalah <class 'str'>\n"
     ]
    }
   ],
   "source": [
    "\n",
    "hobi = input(\"apa hobi yang anda sukai kali ini?\")\n",
    "\n",
    "print(f\"Hobi yang kamu sukai adalah {hobi}\")\n",
    "print(f\"tipe data variabel hobi adalah {type(hobi)}\")"
   ]
  },
  {
   "cell_type": "code",
   "execution_count": 3,
   "metadata": {},
   "outputs": [
    {
     "name": "stdout",
     "output_type": "stream",
     "text": [
      "umur anda adalah 23, dan tipedata umur adalah <class 'int'>\n"
     ]
    }
   ],
   "source": [
    "#merubah user input ke integer\n",
    "umur = input(\"masukan umur anda\")\n",
    "umur = int(umur) #konversi umur str menjadi int\n",
    "\n",
    "print(f\"umur anda adalah {umur}, dan tipedata umur adalah {type(umur)}\")"
   ]
  },
  {
   "cell_type": "code",
   "execution_count": null,
   "metadata": {},
   "outputs": [],
   "source": []
  }
 ],
 "metadata": {
  "kernelspec": {
   "display_name": "Python 3",
   "language": "python",
   "name": "python3"
  },
  "language_info": {
   "codemirror_mode": {
    "name": "ipython",
    "version": 3
   },
   "file_extension": ".py",
   "mimetype": "text/x-python",
   "name": "python",
   "nbconvert_exporter": "python",
   "pygments_lexer": "ipython3",
   "version": "3.12.1"
  }
 },
 "nbformat": 4,
 "nbformat_minor": 2
}
