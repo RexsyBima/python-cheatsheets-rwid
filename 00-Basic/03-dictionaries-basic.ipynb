{
 "cells": [
  {
   "cell_type": "markdown",
   "metadata": {},
   "source": [
    "# Dictionary menyimpan data berupa key:value pair/pasangan\n"
   ]
  },
  {
   "cell_type": "code",
   "execution_count": 1,
   "metadata": {},
   "outputs": [
    {
     "data": {
      "text/plain": [
       "{'nama': 'Eko'}"
      ]
     },
     "execution_count": 1,
     "metadata": {},
     "output_type": "execute_result"
    }
   ],
   "source": [
    "contoh = {\"nama\" : \"Eko\"}\n",
    "        #  KEY     VALUE\n",
    "contoh\n"
   ]
  },
  {
   "cell_type": "markdown",
   "metadata": {},
   "source": [
    "# akses sebuah value\n",
    "\n",
    "untuk mengakses value didictionary kita bisa menggunakan teknik\n",
    "\n",
    "variabel_dictionary[\"namakey\"]\n"
   ]
  },
  {
   "cell_type": "code",
   "execution_count": 4,
   "metadata": {},
   "outputs": [
    {
     "name": "stdout",
     "output_type": "stream",
     "text": [
      "Eko\n",
      "Eko\n"
     ]
    }
   ],
   "source": [
    "contoh = {\"nama\" : \"Eko\"}\n",
    "\n",
    "print(contoh[\"nama\"]) # Eko\n",
    "#     dict    key\n",
    "nama = contoh[\"nama\"]\n",
    "print(nama) # Eko\n",
    "\n"
   ]
  },
  {
   "cell_type": "markdown",
   "metadata": {},
   "source": [
    "## menambahkan key:value ke dictionary\n",
    "\n",
    "untuk menambahkan value baru kita menggunakan rumus yang sama diatas dengan catatan bahwa key yang akan kita masukan belum ada sebelumnya\n"
   ]
  },
  {
   "cell_type": "code",
   "execution_count": 5,
   "metadata": {},
   "outputs": [
    {
     "name": "stdout",
     "output_type": "stream",
     "text": [
      "{'nama': 'Eko', 'umur': 18}\n"
     ]
    }
   ],
   "source": [
    "contoh[\"umur\"] = 18\n",
    "print(contoh) #{'nama': 'Eko', 'umur': 18}\n"
   ]
  },
  {
   "cell_type": "markdown",
   "metadata": {},
   "source": [
    "mengubah key:value pair menjadi set-like data"
   ]
  },
  {
   "cell_type": "code",
   "execution_count": 6,
   "metadata": {},
   "outputs": [
    {
     "name": "stdout",
     "output_type": "stream",
     "text": [
      "('nama', 'Budi')\n",
      "('umur', 35)\n"
     ]
    }
   ],
   "source": [
    "data = {\"nama\" : \"Budi\", \"umur\" : 35}\n",
    "#mengubah key:value pair menjadi set like data\n",
    "for i in data.items():\n",
    "    print(i)\n",
    "    #('nama', 'Budi')\n",
    "    #('umur', 35)\n"
   ]
  },
  {
   "cell_type": "markdown",
   "metadata": {},
   "source": [
    "## meloop key dalam dictionary\n"
   ]
  },
  {
   "cell_type": "code",
   "execution_count": 7,
   "metadata": {},
   "outputs": [
    {
     "name": "stdout",
     "output_type": "stream",
     "text": [
      "nama\n",
      "umur\n"
     ]
    }
   ],
   "source": [
    "#meloop key saja dalam dictionary\n",
    "for key in data:\n",
    "    print(key)\n",
    "    # nama\n",
    "    # umur\n"
   ]
  },
  {
   "cell_type": "markdown",
   "metadata": {},
   "source": [
    "meloop value dalam dictionary"
   ]
  },
  {
   "cell_type": "code",
   "execution_count": 8,
   "metadata": {},
   "outputs": [
    {
     "name": "stdout",
     "output_type": "stream",
     "text": [
      "Budi\n",
      "35\n",
      "Budi\n",
      "35\n"
     ]
    }
   ],
   "source": [
    "#cara 1\n",
    "for key in data:\n",
    "    print(data[key])\n",
    "    #budi\n",
    "    #35\n",
    "    \n",
    "#cara 2\n",
    "for value in data.values():\n",
    "    print(value)\n",
    "    #budi\n",
    "    #35"
   ]
  },
  {
   "cell_type": "code",
   "execution_count": null,
   "metadata": {},
   "outputs": [],
   "source": []
  }
 ],
 "metadata": {
  "kernelspec": {
   "display_name": "Python 3",
   "language": "python",
   "name": "python3"
  },
  "language_info": {
   "codemirror_mode": {
    "name": "ipython",
    "version": 3
   },
   "file_extension": ".py",
   "mimetype": "text/x-python",
   "name": "python",
   "nbconvert_exporter": "python",
   "pygments_lexer": "ipython3",
   "version": "3.12.1"
  }
 },
 "nbformat": 4,
 "nbformat_minor": 2
}
