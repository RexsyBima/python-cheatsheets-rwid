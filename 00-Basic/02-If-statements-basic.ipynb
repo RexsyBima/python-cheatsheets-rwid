{
 "cells": [
  {
   "cell_type": "markdown",
   "metadata": {},
   "source": [
    "# If statements\n",
    "\n",
    "kode didalam if statement hanya akan berjalan jika sifat if statement bersifat True\n",
    "\n"
   ]
  },
  {
   "cell_type": "markdown",
   "metadata": {},
   "source": [
    "# Ekspresi kondisional"
   ]
  },
  {
   "cell_type": "code",
   "execution_count": 1,
   "metadata": {},
   "outputs": [
    {
     "name": "stdout",
     "output_type": "stream",
     "text": [
      "True\n",
      "False\n",
      "False\n",
      "True\n",
      "True\n",
      "False\n"
     ]
    }
   ],
   "source": [
    "number = 69\n",
    "\n",
    "print(number == 69) # == -> samadengan            / equal | out -> True\n",
    "print(number >  69) # >  -> lebihdari             / greater than | out -> False\n",
    "print(number <  69) # <  -> kurangdari            / lesser than | out -> False\n",
    "print(number >= 69) # >= -> lebihdari samadengan  / greater than or equal to | out -> True\n",
    "print(number <= 69) # <= -> kurangdari samadengan / lesser than or equal to | out -> True\n",
    "print(number != 69) # != -> tidak samadengan      / not equal to | out -> False"
   ]
  },
  {
   "cell_type": "markdown",
   "metadata": {},
   "source": [
    "# rumus if kondisi"
   ]
  },
  {
   "cell_type": "code",
   "execution_count": 1,
   "metadata": {},
   "outputs": [
    {
     "name": "stdout",
     "output_type": "stream",
     "text": [
      "Hello, this code is executed because if condition is True\n"
     ]
    }
   ],
   "source": [
    "if True:\n",
    "    \"\"\" \n",
    "    akan mengeksekusi kode dibawah\n",
    "    \"\"\"\n",
    "    print(\"Hello, this code is executed because if condition is True\")\n"
   ]
  },
  {
   "cell_type": "code",
   "execution_count": 2,
   "metadata": {},
   "outputs": [
    {
     "name": "stdout",
     "output_type": "stream",
     "text": [
      "Pengguna berhak mendapatkan sim\n"
     ]
    }
   ],
   "source": [
    "umur = 21\n",
    "\n",
    "if umur >= 18:\n",
    "    print(\"Pengguna berhak mendapatkan sim\")\n"
   ]
  },
  {
   "cell_type": "code",
   "execution_count": 4,
   "metadata": {},
   "outputs": [
    {
     "name": "stdout",
     "output_type": "stream",
     "text": [
      "anda seorang dewasa\n"
     ]
    }
   ],
   "source": [
    "#if-elif-else statements\n",
    "if umur < 8:\n",
    "    print(\"anda seorang anak\")\n",
    "elif 8 < umur < 18:\n",
    "    print(\"anda seorang remaja\")\n",
    "else:\n",
    "    print(\"anda seorang dewasa\")\n"
   ]
  }
 ],
 "metadata": {
  "kernelspec": {
   "display_name": "Python 3",
   "language": "python",
   "name": "python3"
  },
  "language_info": {
   "codemirror_mode": {
    "name": "ipython",
    "version": 3
   },
   "file_extension": ".py",
   "mimetype": "text/x-python",
   "name": "python",
   "nbconvert_exporter": "python",
   "pygments_lexer": "ipython3",
   "version": "3.12.1"
  }
 },
 "nbformat": 4,
 "nbformat_minor": 2
}
