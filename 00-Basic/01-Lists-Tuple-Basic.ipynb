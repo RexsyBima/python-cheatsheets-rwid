{
 "cells": [
  {
   "cell_type": "markdown",
   "metadata": {},
   "source": [
    "# Lists\n",
    "\n",
    "Sebuah tipe data untuk menyimpan serangkaian item dalam urutan tertentu. \n",
    "\n",
    "Anda mengakses item menggunakan indeks, atau dalam sebuah perulangan. menggunakan [item1,item2,...,item n] \n",
    "\n",
    "\n",
    "bersifat mutable atau isi data bisa dirubah dirubah\n"
   ]
  },
  {
   "cell_type": "markdown",
   "metadata": {},
   "source": [
    "## cara membuat list"
   ]
  },
  {
   "cell_type": "code",
   "execution_count": 1,
   "metadata": {},
   "outputs": [],
   "source": [
    "buah = [\"apple\", \"grape\", \"durian\"]"
   ]
  },
  {
   "cell_type": "markdown",
   "metadata": {},
   "source": [
    "## mendapatkan item pertama apel"
   ]
  },
  {
   "cell_type": "code",
   "execution_count": 3,
   "metadata": {},
   "outputs": [
    {
     "name": "stdout",
     "output_type": "stream",
     "text": [
      "apple grape\n"
     ]
    }
   ],
   "source": [
    "#mendapatkan item pertama apel\n",
    "buah_1 = buah[0] #apple\n",
    "buah_2 = buah[1]\n",
    "print(buah_1, buah_2)\n"
   ]
  },
  {
   "cell_type": "markdown",
   "metadata": {},
   "source": [
    "## mendapatkan item terakhir menggunakan indeks negatif"
   ]
  },
  {
   "cell_type": "code",
   "execution_count": 5,
   "metadata": {},
   "outputs": [
    {
     "name": "stdout",
     "output_type": "stream",
     "text": [
      "durian\n"
     ]
    }
   ],
   "source": [
    "\n",
    "buah_terakhir = buah[-1] #durian\n",
    "print(buah_terakhir)"
   ]
  },
  {
   "cell_type": "markdown",
   "metadata": {},
   "source": [
    "## meloop didalam list dengan for loop"
   ]
  },
  {
   "cell_type": "code",
   "execution_count": 7,
   "metadata": {},
   "outputs": [
    {
     "name": "stdout",
     "output_type": "stream",
     "text": [
      "apple\n",
      "grape\n",
      "durian\n"
     ]
    }
   ],
   "source": [
    "#meloop didalam list dengan for loop\n",
    "for b in buah:\n",
    "    print(b)\n",
    "    # apple\n",
    "    # grape\n",
    "    # durian"
   ]
  },
  {
   "cell_type": "markdown",
   "metadata": {},
   "source": [
    "## meloop didalam list dengan while loop.\n",
    "\n",
    " Bersifat redundant, lebih baik menggunakan for loop saja\n"
   ]
  },
  {
   "cell_type": "code",
   "execution_count": 9,
   "metadata": {},
   "outputs": [
    {
     "name": "stdout",
     "output_type": "stream",
     "text": [
      "apple\n",
      "grape\n",
      "durian\n"
     ]
    }
   ],
   "source": [
    "#meloop didalam list dengan while loop\n",
    "count = 0\n",
    "while count < len(buah):\n",
    "    print(buah[count])\n",
    "    count+=1\n",
    "    \n"
   ]
  },
  {
   "cell_type": "markdown",
   "metadata": {},
   "source": [
    "## menambahkan item kedalam list\n",
    "\n",
    "dengan menggunakan method .append(nilai)"
   ]
  },
  {
   "cell_type": "code",
   "execution_count": 10,
   "metadata": {},
   "outputs": [
    {
     "name": "stdout",
     "output_type": "stream",
     "text": [
      "['Remote', 'Worker', 'Indonesia']\n"
     ]
    }
   ],
   "source": [
    "nama = []\n",
    "nama.append(\"Remote\")\n",
    "nama.append(\"Worker\")\n",
    "nama.append(\"Indonesia\") \n",
    "print(nama)  #['Remote', 'Worker', 'Indonesia']"
   ]
  },
  {
   "cell_type": "code",
   "execution_count": 13,
   "metadata": {},
   "outputs": [
    {
     "name": "stdout",
     "output_type": "stream",
     "text": [
      "['RW', 'ID']\n"
     ]
    }
   ],
   "source": [
    "nama_awal = \"RW\"\n",
    "nama_akhir = \"ID\"\n",
    "\n",
    "nama_lengkap = []\n",
    "nama_lengkap.append(nama_awal)\n",
    "nama_lengkap.append(nama_akhir)\n",
    "print(nama_lengkap)"
   ]
  },
  {
   "cell_type": "markdown",
   "metadata": {},
   "source": [
    "# slicing\n",
    "\n",
    "mengambil item dari indeks x sampai SEBELUM indeks y / y-1\n",
    "\n",
    "list[x:y]"
   ]
  },
  {
   "cell_type": "code",
   "execution_count": 14,
   "metadata": {},
   "outputs": [
    {
     "name": "stdout",
     "output_type": "stream",
     "text": [
      "['Anisa', 'Budi', 'Citra']\n",
      "['Citra', 'Dewi']\n",
      "['Anisa', 'Budi', 'Citra']\n",
      "['Citra', 'Dewi', 'Edo']\n"
     ]
    }
   ],
   "source": [
    "nama = [\"Anisa\", \"Budi\", \"Citra\", \"Dewi\", \"Edo\"]\n",
    "print(nama[0:3]) #['Anisa', 'Budi', 'Citra'], BUKAN #['Anisa', 'Budi', 'Citra', \"Edo\"]\n",
    "print(nama[2:4]) #['Citra', 'Dewi']\n",
    "print(nama[:3]) #['Anisa', 'Budi', 'Citra']\n",
    "print(nama[2:]) #['Citra', 'Dewi', 'Edo']"
   ]
  },
  {
   "cell_type": "markdown",
   "metadata": {},
   "source": [
    "# tuple\n",
    "\n",
    "Tuple, mirip seperti list, perbedaannya hanya bahwa sifatnya immutable (isi data tidak bisa dirubah)\n",
    "\n",
    "Note : Lists lebih sering dipakai dibanding Tuple\n"
   ]
  },
  {
   "cell_type": "code",
   "execution_count": 15,
   "metadata": {},
   "outputs": [
    {
     "name": "stdout",
     "output_type": "stream",
     "text": [
      "('Apel', 'Semangka', 'Durian')\n",
      "Semangka\n"
     ]
    }
   ],
   "source": [
    "buah = (\"Apel\", \"Semangka\", \"Durian\")\n",
    "\n",
    "print(buah) #('Apel', 'Semangka', 'Durian')\n",
    "print(buah[1]) #Semangka"
   ]
  },
  {
   "cell_type": "code",
   "execution_count": null,
   "metadata": {},
   "outputs": [],
   "source": []
  }
 ],
 "metadata": {
  "kernelspec": {
   "display_name": "Python 3",
   "language": "python",
   "name": "python3"
  },
  "language_info": {
   "codemirror_mode": {
    "name": "ipython",
    "version": 3
   },
   "file_extension": ".py",
   "mimetype": "text/x-python",
   "name": "python",
   "nbconvert_exporter": "python",
   "pygments_lexer": "ipython3",
   "version": "3.12.1"
  }
 },
 "nbformat": 4,
 "nbformat_minor": 2
}
