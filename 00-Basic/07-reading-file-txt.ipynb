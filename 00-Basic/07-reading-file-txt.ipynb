{
 "cells": [
  {
   "cell_type": "code",
   "execution_count": 2,
   "metadata": {},
   "outputs": [
    {
     "name": "stdout",
     "output_type": "stream",
     "text": [
      "teks ini berasal dari halo.txt\n"
     ]
    }
   ],
   "source": [
    "#python bisa membuka file berbagai jenis text, contoh, txt dan json.\n",
    "\n",
    "#membaca file txt\n",
    "#rumus = with open(\"nama file.txt\", \"modebaca\") as f:\n",
    "#ada banyak jenis mode baca, tapi yang sering dipakai adalah \"r\" dan \"w\", berdiri sebagai mode read dan write \n",
    "with open(\"halo.txt\", \"r\") as file:\n",
    "    text = file.read()\n",
    "    \n",
    "print(text) #teks ini berasal dari halo.txt\n",
    "\n",
    "with open(\"tes.txt\", \"w\") as file:\n",
    "    file.writelines(\"text ini muncul karena python\")"
   ]
  },
  {
   "cell_type": "code",
   "execution_count": null,
   "metadata": {},
   "outputs": [],
   "source": []
  }
 ],
 "metadata": {
  "kernelspec": {
   "display_name": "Python 3",
   "language": "python",
   "name": "python3"
  },
  "language_info": {
   "codemirror_mode": {
    "name": "ipython",
    "version": 3
   },
   "file_extension": ".py",
   "mimetype": "text/x-python",
   "name": "python",
   "nbconvert_exporter": "python",
   "pygments_lexer": "ipython3",
   "version": "3.12.1"
  }
 },
 "nbformat": 4,
 "nbformat_minor": 2
}
