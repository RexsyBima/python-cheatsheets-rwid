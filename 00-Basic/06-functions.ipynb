{
 "cells": [
  {
   "cell_type": "markdown",
   "metadata": {},
   "source": [
    "# Functions / Fungsi\n",
    "\n",
    "Fungsi adalah blok kode yang dapat dipanggil untuk melakukan tugas tertentu dengan input dan output yang bisa diatur\n"
   ]
  },
  {
   "cell_type": "markdown",
   "metadata": {},
   "source": [
    "# Membuat Fungsi"
   ]
  },
  {
   "cell_type": "code",
   "execution_count": 2,
   "metadata": {},
   "outputs": [],
   "source": [
    "def nama_fungsi():\n",
    "    print(\"Ini print dari nama fungsi\")\n",
    "    #taruh kode disini"
   ]
  },
  {
   "cell_type": "markdown",
   "metadata": {},
   "source": [
    "## Untuk menjalanakan/menggunakan/memanggil fungsi, tinggal panggil nama fungsi\n"
   ]
  },
  {
   "cell_type": "code",
   "execution_count": 3,
   "metadata": {},
   "outputs": [
    {
     "name": "stdout",
     "output_type": "stream",
     "text": [
      "Ini print dari nama fungsi\n"
     ]
    }
   ],
   "source": [
    "nama_fungsi()"
   ]
  },
  {
   "cell_type": "markdown",
   "metadata": {},
   "source": [
    "Didalam fungsi, kita mengenal istilah argumen value/parameter value. mereka adalah nilai nilai yg akan dipassing kedalam rumus fungsi nanti"
   ]
  },
  {
   "cell_type": "code",
   "execution_count": 4,
   "metadata": {},
   "outputs": [
    {
     "name": "stdout",
     "output_type": "stream",
     "text": [
      "15\n"
     ]
    }
   ],
   "source": [
    "def addition(x,y):\n",
    "    #        ^ ^ -> parameter value/argumen value, sebuah fungsi bisa memiliki banyak argumen sekaligus atau tanpa argumen sama sekali\n",
    "    result = x + y\n",
    "    print(result)\n",
    "    \n",
    "addition(10,5)"
   ]
  },
  {
   "cell_type": "markdown",
   "metadata": {},
   "source": [
    "Penjelasan mendalam Fungsi akan lebih mendalam di pembahasan-pembahasan berikutnya\n"
   ]
  },
  {
   "cell_type": "markdown",
   "metadata": {},
   "source": [
    "# OPINI\n",
    "Menurut saya, pemahaman fungsi merupakan salah satu fundamental yang benar-benar wajib dipahami\n",
    "\n",
    "ingat, wajib dipahami, bukan untuk wajib dikuasai. karena banyak coding di python menggunakan Functional Programming dan Object Oriented Programming (OOP). Jangan khawatir apa itu OOP. akan dibahas di chapter2 berikutnya"
   ]
  },
  {
   "cell_type": "markdown",
   "metadata": {},
   "source": []
  }
 ],
 "metadata": {
  "kernelspec": {
   "display_name": "Python 3",
   "language": "python",
   "name": "python3"
  },
  "language_info": {
   "codemirror_mode": {
    "name": "ipython",
    "version": 3
   },
   "file_extension": ".py",
   "mimetype": "text/x-python",
   "name": "python",
   "nbconvert_exporter": "python",
   "pygments_lexer": "ipython3",
   "version": "3.12.1"
  }
 },
 "nbformat": 4,
 "nbformat_minor": 2
}
