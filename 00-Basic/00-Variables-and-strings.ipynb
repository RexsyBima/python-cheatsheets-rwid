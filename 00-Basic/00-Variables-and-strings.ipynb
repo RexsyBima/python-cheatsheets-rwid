{
 "cells": [
  {
   "cell_type": "markdown",
   "metadata": {},
   "source": [
    "\n",
    "# Variabel dan String\n",
    "\n",
    "Variabel digunakan untuk memberi label pada nilai-nilai. Sebuah string adalah\n",
    "serangkaian karakter, dikelilingi oleh tanda kutip tunggal atau ganda.\n",
    "\n",
    "F-string pada Python memungkinkan Anda untuk menggunakan variabel di dalam string untuk\n",
    "membangun pesan-pesan dinamis.\n"
   ]
  },
  {
   "cell_type": "code",
   "execution_count": 1,
   "metadata": {},
   "outputs": [
    {
     "name": "stdout",
     "output_type": "stream",
     "text": [
      "Hello World!\n"
     ]
    }
   ],
   "source": [
    "#Hello world sederhana\n",
    "print(\"Hello World!\") #\"Hello World\""
   ]
  },
  {
   "cell_type": "code",
   "execution_count": 2,
   "metadata": {},
   "outputs": [
    {
     "name": "stdout",
     "output_type": "stream",
     "text": [
      "Hello World!\n"
     ]
    }
   ],
   "source": [
    "#Helloworld tapi dengan variabel\n",
    "pesan = \"Hello World!\"\n",
    "print(pesan) #\"Hello World!\""
   ]
  },
  {
   "cell_type": "code",
   "execution_count": 5,
   "metadata": {},
   "outputs": [
    {
     "name": "stdout",
     "output_type": "stream",
     "text": [
      "Remote W. Indonesia\n"
     ]
    }
   ],
   "source": [
    "#f-strings (lempar variabel ke dalam string)\n",
    "nama_depan = \"Remote W.\"\n",
    "nama_belakang = \"Indonesia\"\n",
    "nama_lengkap = f\"{nama_depan} {nama_belakang}\"\n",
    "print(nama_lengkap) #\"Remote W. Indonesia\"\n",
    "\n",
    "#NOTE : Perhatikan curly braces didalam F string\n",
    "\n"
   ]
  },
  {
   "cell_type": "code",
   "execution_count": 6,
   "metadata": {},
   "outputs": [
    {
     "name": "stdout",
     "output_type": "stream",
     "text": [
      "saya Eko, berumur 18 <class 'str'>\n"
     ]
    }
   ],
   "source": [
    "umur = 18\n",
    "nama = \"Eko\"\n",
    "intro = f\"saya {nama}, berumur {umur}\"\n",
    "print(intro, type(intro))  #saya Eko, berumur 18 <class 'str'>"
   ]
  },
  {
   "cell_type": "code",
   "execution_count": 7,
   "metadata": {},
   "outputs": [],
   "source": [
    "integer = 16\n",
    "float_num = 3.14\n",
    "string = \"hello world\"\n",
    "datalist = [1,2,3,4,5] # list of integer\n",
    "datalist2 = [\"hello world\", 3.12, integer] # list \n",
    "dictionary = {\"nama\" : \"Remote W. Indonesia\", \"TTL\" : \"Jogja\", \"isMarried\" : True}\n",
    "tuple1 = (1,2,3,4,5)\n",
    "set_ = {1,2,3,3}\n",
    "boolean = True\n",
    "boolean = False"
   ]
  },
  {
   "cell_type": "code",
   "execution_count": 21,
   "metadata": {},
   "outputs": [
    {
     "data": {
      "text/plain": [
       "tuple"
      ]
     },
     "execution_count": 21,
     "metadata": {},
     "output_type": "execute_result"
    }
   ],
   "source": [
    "type(tuple1)"
   ]
  },
  {
   "cell_type": "code",
   "execution_count": 6,
   "metadata": {},
   "outputs": [
    {
     "ename": "TypeError",
     "evalue": "'tuple' object does not support item assignment",
     "output_type": "error",
     "traceback": [
      "\u001b[1;31m---------------------------------------------------------------------------\u001b[0m",
      "\u001b[1;31mTypeError\u001b[0m                                 Traceback (most recent call last)",
      "Cell \u001b[1;32mIn[6], line 1\u001b[0m\n\u001b[1;32m----> 1\u001b[0m \u001b[43mtuple1\u001b[49m\u001b[43m[\u001b[49m\u001b[38;5;241;43m0\u001b[39;49m\u001b[43m]\u001b[49m \u001b[38;5;241m=\u001b[39m \u001b[38;5;124m\"\u001b[39m\u001b[38;5;124mHello World\u001b[39m\u001b[38;5;124m\"\u001b[39m\n\u001b[0;32m      2\u001b[0m tuple1\n",
      "\u001b[1;31mTypeError\u001b[0m: 'tuple' object does not support item assignment"
     ]
    }
   ],
   "source": []
  },
  {
   "cell_type": "code",
   "execution_count": null,
   "metadata": {},
   "outputs": [],
   "source": []
  }
 ],
 "metadata": {
  "kernelspec": {
   "display_name": "Python 3",
   "language": "python",
   "name": "python3"
  },
  "language_info": {
   "codemirror_mode": {
    "name": "ipython",
    "version": 3
   },
   "file_extension": ".py",
   "mimetype": "text/x-python",
   "name": "python",
   "nbconvert_exporter": "python",
   "pygments_lexer": "ipython3",
   "version": "3.12.1"
  }
 },
 "nbformat": 4,
 "nbformat_minor": 2
}
