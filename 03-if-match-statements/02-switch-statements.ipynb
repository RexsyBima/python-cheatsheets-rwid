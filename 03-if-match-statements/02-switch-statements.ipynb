{
 "cells": [
  {
   "cell_type": "markdown",
   "metadata": {},
   "source": [
    "## Match case (statements) \n",
    "\n",
    "adalah fitur yang diperkenalkan dalam Python 3.10 untuk menulis kode yang lebih bersih dan ekspresif dalam penggunaan percabangan. Match case mirip dengan switch case yang ada dalam bahasa pemrograman lain dan memiliki potensi untuk menggantikan if elif statement yang bercabang banyak.\n",
    "\n",
    "Dalam konteks Python, match case digunakan untuk mencocokkan nilai suatu ekspresi dengan berbagai kondisi dan menjalankan blok kode yang sesuai dengan kondisi yang cocok. Fitur ini memungkinkan Anda untuk menulis kode yang lebih terstruktur dan mudah dipahami, terutama saat Anda memiliki banyak kondisi untuk diproses."
   ]
  },
  {
   "cell_type": "code",
   "execution_count": 8,
   "metadata": {},
   "outputs": [
    {
     "data": {
      "text/plain": [
       "'Senin'"
      ]
     },
     "execution_count": 8,
     "metadata": {},
     "output_type": "execute_result"
    }
   ],
   "source": [
    "def get(day):\n",
    "    match day:\n",
    "        case 1:\n",
    "            return \"Senin\"\n",
    "        case 2:\n",
    "            return \"Selasa\"\n",
    "        case 3:\n",
    "            return \"Rabu\"\n",
    "        case 4:\n",
    "            return \"Kamis\"\n",
    "        case 5:\n",
    "            return \"Jumat\"\n",
    "        case 6:\n",
    "            return \"Sabtu\"\n",
    "        case 7:\n",
    "            return \"Minggu\"\n",
    "        case _:\n",
    "            return \"Invalid day\"\n",
    "\n",
    "#untuk membacanya adalah match day = cocokan day dan case 1 berarti jika day = 1 dst\n",
    "        \n",
    "hari = get(1)\n",
    "\n",
    "\n",
    "\"\"\" \n",
    "\"\"\"\n",
    "\n",
    "hari\n"
   ]
  },
  {
   "cell_type": "markdown",
   "metadata": {},
   "source": [
    "## Match case hanya bisa digunakan di operasi persamaan (equality), tidak support operasi lebih dari, kurang dari dll\n",
    "\n",
    "penggunaan _ dalam match case mirip dengan penggunaannya dalam pemrograman lain,\n",
    "yaitu sebagai penanda untuk menangani nilai yang tidak cocok dengan kondisi apa pun yang didefinisikan sebelumnya.\n",
    "\n",
    "kata lainnya adalah yaitu sebagai bentuk else statement jika di dalam if statement\n"
   ]
  },
  {
   "cell_type": "code",
   "execution_count": 7,
   "metadata": {},
   "outputs": [
    {
     "ename": "SyntaxError",
     "evalue": "invalid syntax (2871691517.py, line 3)",
     "output_type": "error",
     "traceback": [
      "\u001b[1;36m  Cell \u001b[1;32mIn[7], line 3\u001b[1;36m\u001b[0m\n\u001b[1;33m    case > 20: #tidak bisa menggunakan operasi selain equality\u001b[0m\n\u001b[1;37m         ^\u001b[0m\n\u001b[1;31mSyntaxError\u001b[0m\u001b[1;31m:\u001b[0m invalid syntax\n"
     ]
    }
   ],
   "source": [
    "umur = 20\n",
    "match umur:\n",
    "    case > 20: #tidak bisa menggunakan operasi selain equality\n",
    "        print(\"anda berhak membuat sim\")"
   ]
  }
 ],
 "metadata": {
  "kernelspec": {
   "display_name": "Python 3",
   "language": "python",
   "name": "python3"
  },
  "language_info": {
   "codemirror_mode": {
    "name": "ipython",
    "version": 3
   },
   "file_extension": ".py",
   "mimetype": "text/x-python",
   "name": "python",
   "nbconvert_exporter": "python",
   "pygments_lexer": "ipython3",
   "version": "3.12.1"
  }
 },
 "nbformat": 4,
 "nbformat_minor": 2
}
