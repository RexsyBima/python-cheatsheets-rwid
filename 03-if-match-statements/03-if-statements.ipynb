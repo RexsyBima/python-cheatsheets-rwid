{
 "cells": [
  {
   "cell_type": "markdown",
   "metadata": {},
   "source": [
    "# if statements\n",
    "\n",
    "if statements di Python adalah konstruksi kontrol alur yang digunakan untuk mengatur aliran program berdasarkan suatu kondisi. Dengan menggunakan if statements, Anda dapat menjalankan blok kode tertentu hanya jika kondisi yang ditentukan terpenuhi (bernilai `True`).\n",
    "\n",
    "contoh\n",
    "\n"
   ]
  },
  {
   "cell_type": "code",
   "execution_count": 1,
   "metadata": {},
   "outputs": [
    {
     "name": "stdout",
     "output_type": "stream",
     "text": [
      "hello worlld\n",
      "kode ini tereksekusi karena if condition diatas bersifat True\n"
     ]
    }
   ],
   "source": [
    "# if condition:\n",
    "#     # Blok kode yang akan dijalankan jika kondisi terpenuhi\n",
    "#     statement1\n",
    "#     statement2\n",
    "#     ...\n",
    "\n",
    "if True:\n",
    "    print(\"hello worlld\")\n",
    "    print(\"kode ini tereksekusi karena if condition diatas bersifat True\")\n",
    "    \n",
    "if False:\n",
    "    print(\"hi\")\n",
    "    \n",
    "#Notice di if False condition, terminal tidak memunculkan `hi` karena nilai if tidak memenuhi (bernilai False)\n"
   ]
  },
  {
   "cell_type": "markdown",
   "metadata": {},
   "source": [
    "## Boolean values\n",
    "\n",
    "\n",
    "Boolean values adalah tipe data dalam Python yang mewakili kebenaran atau ketidakbenaran suatu pernyataan. Tipe data boolean hanya memiliki dua nilai: True dan False. Boolean values sering digunakan dalam ekspresi logika, pengambilan keputusan, dan kontrol alur program."
   ]
  },
  {
   "cell_type": "code",
   "execution_count": 15,
   "metadata": {},
   "outputs": [],
   "source": [
    "isOldEnough = True\n",
    "isEligibleToVote = False"
   ]
  },
  {
   "cell_type": "markdown",
   "metadata": {},
   "source": [
    "## Conditional tests akan berperan besar di if Statements\n",
    "\n",
    "\n",
    "Conditional tests di Python adalah ekspresi yang dievaluasi menjadi nilai kebenaran (True atau False) berdasarkan suatu kondisi yang ditentukan. Mereka digunakan dalam konstruksi kontrol alur seperti if statements, while loops, dan dalam logika pengambilan keputusan.\n",
    "\n",
    "ada 8 konditional tests yg tersedia di python\n",
    "1. equality `==` : Memeriksa apakah dua nilai sama.\n",
    "2. inequality `!=` : Memeriksa apakah dua nilai tidak sama.\n",
    "3. greater than `>` : Memeriksa apakah nilai kiri lebih besar dari nilai kanan.\n",
    "4. less than `<` :  Memeriksa apakah nilai kiri lebih kecil dari nilai kanan.\n",
    "5. greater than or equal to `>=` : Memeriksa apakah nilai kiri lebih besar dari atau sama dengan nilai kanan.\n",
    "6. less than or equal to `<=` : Memeriksa apakah nilai kiri lebih kecil dari atau sama dengan nilai kanan.\n",
    "7. membership in `in` : Memeriksa apakah sebuah nilai ada dalam sebuah sequence (seperti list, tuple, atau string).\n",
    "8. not membership `not in` : Memeriksa apakah sebuah nilai tidak ada dalam sebuah sequence."
   ]
  },
  {
   "cell_type": "code",
   "execution_count": 13,
   "metadata": {},
   "outputs": [
    {
     "name": "stdout",
     "output_type": "stream",
     "text": [
      "True\n",
      "False\n",
      "True\n"
     ]
    }
   ],
   "source": [
    "x = 5\n",
    "y = 10\n",
    "\n",
    "print(x == 5) #True\n",
    "print(x == 1) #False\n",
    "print(x != 3) # True"
   ]
  },
  {
   "cell_type": "code",
   "execution_count": 7,
   "metadata": {},
   "outputs": [
    {
     "name": "stdout",
     "output_type": "stream",
     "text": [
      "True\n",
      "False\n"
     ]
    }
   ],
   "source": [
    "print(y > x) #True\n",
    "print(y > 13)#False"
   ]
  },
  {
   "cell_type": "code",
   "execution_count": 14,
   "metadata": {},
   "outputs": [
    {
     "name": "stdout",
     "output_type": "stream",
     "text": [
      "False\n",
      "True\n"
     ]
    }
   ],
   "source": [
    "print(x >= 10)  # False\n",
    "print(y >= 10) # True"
   ]
  },
  {
   "cell_type": "code",
   "execution_count": 15,
   "metadata": {},
   "outputs": [
    {
     "name": "stdout",
     "output_type": "stream",
     "text": [
      "True\n",
      "True\n"
     ]
    }
   ],
   "source": [
    "x = 5\n",
    "print(x <= 10)  # Output: True\n",
    "print(y <= 10) # True"
   ]
  },
  {
   "cell_type": "code",
   "execution_count": 11,
   "metadata": {},
   "outputs": [
    {
     "name": "stdout",
     "output_type": "stream",
     "text": [
      "True\n",
      "True\n"
     ]
    }
   ],
   "source": [
    "\n",
    "my_list = [1, 2, 3, 4, 5]\n",
    "print(3 in my_list)  # Output: True\n",
    "print(6 not in my_list)  # Output: True\n"
   ]
  },
  {
   "cell_type": "code",
   "execution_count": 14,
   "metadata": {},
   "outputs": [
    {
     "name": "stdout",
     "output_type": "stream",
     "text": [
      "Hello world tereksekusi karena ada nilai `j` didalam name\n"
     ]
    }
   ],
   "source": [
    "# conditional test juga bisa digunakan di tipe data string, tetapi hanya bisa di in dan not in test\n",
    "\n",
    "name = \"joko\"\n",
    "if \"j\" in name:\n",
    "    print(\"Hello world tereksekusi karena ada nilai `j` didalam name\")"
   ]
  },
  {
   "cell_type": "markdown",
   "metadata": {},
   "source": [
    "## And, or operator\n",
    "\n",
    "`and` dan `or` operator digunakan untuk mengecek multiple kondisi dalam Python.\n",
    "\n"
   ]
  },
  {
   "cell_type": "code",
   "execution_count": 13,
   "metadata": {},
   "outputs": [
    {
     "name": "stdout",
     "output_type": "stream",
     "text": [
      "Kedua angka positif\n"
     ]
    }
   ],
   "source": [
    "# Operator and: Mengembalikan True jika kedua kondisi/lebih yang diperiksa adalah True.\n",
    "\n",
    "x = 5\n",
    "y = 10\n",
    "if x > 0 and y > 0:\n",
    "    print(\"Kedua angka positif\")\n",
    "    \n"
   ]
  },
  {
   "cell_type": "code",
   "execution_count": 12,
   "metadata": {},
   "outputs": [
    {
     "name": "stdout",
     "output_type": "stream",
     "text": [
      "He is not old enough to create Driver License\n"
     ]
    }
   ],
   "source": [
    "# Operator and: Mengembalikan True jika semua kondisi yang diperiksa adalah True.\n",
    "\n",
    "isOver18Yold = False\n",
    "hasMotorcycle = False\n",
    "\n",
    "if isOver18Yold and hasMotorcycle:\n",
    "    print(\"He is eligible to create Driver License\")\n",
    "elif isOver18Yold:\n",
    "    print(\"He is 18 Years old\")\n",
    "else:\n",
    "    print(\"He is not old enough to create Driver License\")\n"
   ]
  },
  {
   "cell_type": "code",
   "execution_count": 12,
   "metadata": {},
   "outputs": [
    {
     "name": "stdout",
     "output_type": "stream",
     "text": [
      "Salah satu angka positif\n"
     ]
    }
   ],
   "source": [
    "# Operator or: Mengembalikan True jika salah satu dari dua kondisi yang diperiksa adalah True.\n",
    "\n",
    "x = 5\n",
    "y = -1\n",
    "if x > 0 or y > 0:\n",
    "    print(\"Salah satu angka positif\")\n"
   ]
  },
  {
   "cell_type": "code",
   "execution_count": null,
   "metadata": {},
   "outputs": [],
   "source": [
    "# kombinasi operator or dan and\n",
    "\n",
    "x = 10\n",
    "y = 20\n",
    "z = 30\n",
    "if x > 0 and y > 0 or z > 0:\n",
    "    print(\"Setidaknya satu angka positif\")\n",
    "    \n",
    "\"\"\" \n",
    "Dalam contoh diatas, if condition akan dicetak karena setidaknya satu dari kondisi x > 0, y > 0, atau z > 0 bernilai True. \n",
    "Jadi, baik operator and maupun or bisa digunakan untuk mengecek multiple kondisi dalam Python,\n",
    "tergantung pada kebutuhan logika Anda.\n",
    "\"\"\""
   ]
  },
  {
   "cell_type": "markdown",
   "metadata": {},
   "source": [
    "## if-elif-else statements\n",
    "\n",
    "\n",
    "Pernyataan if, elif (singkatan dari \"else if\"), dan else adalah bagian dari struktur kontrol alur dalam Python yang digunakan untuk menjalankan blok kode tertentu berdasarkan kondisi yang ditentukan.\n",
    "\n",
    "1. seperti diawal, if statement digunakan untuk menjalankan sebuah blok kode jika kondisi yang diberikan adalah `True`.\n",
    "2. elif statement digunakan untuk mengevaluasi kondisi tambahan jika kondisi di if statement tidak terpenuhi (bernilai `False`). elif dapat digunakan sebanyak yang Anda butuhkan.\n",
    "3. else statement digunakan untuk menjalankan sebuah blok kode jika tidak ada kondisi sebelumnya yang terpenuhi."
   ]
  },
  {
   "cell_type": "code",
   "execution_count": 19,
   "metadata": {},
   "outputs": [
    {
     "name": "stdout",
     "output_type": "stream",
     "text": [
      "input invalid\n"
     ]
    }
   ],
   "source": [
    "#mari kita coba dengan simulasi aplikasi syarat umur pembuatan SIM\n",
    "\n",
    "age = -1 #silahkan ganti nilai age sesuai dengan integer ya\n",
    "\n",
    "if age >= 18:\n",
    "    print(\"Anda berhak mendapatkan sim\")\n",
    "elif age > 0 and age < 18:\n",
    "    print(\"Anda tidak berhak mendapatkan sim\")\n",
    "else:\n",
    "    print(\"input invalid\")"
   ]
  },
  {
   "cell_type": "code",
   "execution_count": 2,
   "metadata": {},
   "outputs": [
    {
     "name": "stdout",
     "output_type": "stream",
     "text": [
      "List berisi angka 3\n",
      "hello world\n"
     ]
    }
   ],
   "source": [
    "#kita coba dengan list \n",
    "\n",
    "my_list = [1, 2, 3, 4, 5]\n",
    "if 3 in my_list:\n",
    "    print(\"List berisi angka 3\")\n",
    "    "
   ]
  },
  {
   "cell_type": "code",
   "execution_count": 21,
   "metadata": {},
   "outputs": [],
   "source": [
    "names = [\"Joko\", \"Budi\", \"Anwar\"]\n",
    "if \"joko\" in names:\n",
    "    print(\"joko ada di names\")\n",
    "    \n",
    "#Ketika run code diatas, kenapa tidak ada mengeprint print statementnya?\n",
    "#Itu terjadi karena nilai Joko didalam names menggunakan huruf kapital\n",
    "#solusinya adalah mengubah string menjadi huruf2 kecil terlebib dahulu"
   ]
  },
  {
   "cell_type": "code",
   "execution_count": 28,
   "metadata": {},
   "outputs": [
    {
     "name": "stdout",
     "output_type": "stream",
     "text": [
      "['joko', 'budi', 'anwar']\n",
      "joko ada di names\n"
     ]
    }
   ],
   "source": [
    "#cara1\n",
    "names = [\"Joko\", \"Budi\", \"Anwar\"]\n",
    "for i, name in enumerate(names): #https://www.geeksforgeeks.org/enumerate-in-python/ wip\n",
    "    names[i] = name.lower()\n",
    "print(names) #notice iterasi names menjadi huruf kecil semua\n",
    "if \"joko\" in names:\n",
    "    print(\"joko ada di names\")"
   ]
  },
  {
   "cell_type": "code",
   "execution_count": 30,
   "metadata": {},
   "outputs": [
    {
     "name": "stdout",
     "output_type": "stream",
     "text": [
      "joko ada di names\n"
     ]
    }
   ],
   "source": [
    "#cara2 (lebih mudah, less code)\n",
    "\n",
    "for name in names:\n",
    "    if \"joko\" in name.lower():\n",
    "        print(\"joko ada di names\")\n",
    "        \n",
    "    "
   ]
  },
  {
   "cell_type": "code",
   "execution_count": 31,
   "metadata": {},
   "outputs": [
    {
     "name": "stdout",
     "output_type": "stream",
     "text": [
      "joko ada di names\n"
     ]
    }
   ],
   "source": [
    "#cara3 (lebih mudah lagi, tetapi harus paham ttg list comprehension)\n",
    "\n",
    "if \"joko\" in [n.lower() for n in names]:\n",
    "    print(\"joko ada di names\")"
   ]
  },
  {
   "cell_type": "code",
   "execution_count": 17,
   "metadata": {},
   "outputs": [
    {
     "name": "stdout",
     "output_type": "stream",
     "text": [
      "Hello World\n"
     ]
    }
   ],
   "source": [
    "x = \"Hello World\"\n",
    "print(x)"
   ]
  },
  {
   "cell_type": "code",
   "execution_count": 18,
   "metadata": {},
   "outputs": [
    {
     "name": "stdout",
     "output_type": "stream",
     "text": [
      "Welcome to the rectangular area calculator\n",
      "the area of rectangular is 50 cm\n"
     ]
    }
   ],
   "source": [
    "\"\"\"  \n",
    "pseudocodes of the rectangular area calculator\n",
    "\n",
    "1. Print / create “welcome to the rectangular area calculator”\n",
    "2. User input the length\n",
    "3. User input the width\n",
    "4. User input the unit (KM, CM, other)\n",
    "5. Calculate the area with formula of Length * width\n",
    "6. print/give output to the terminal of the result with the unit \n",
    "\n",
    "Ex = \n",
    "L = 10\n",
    "W = 5\n",
    "U = KM\n",
    "Output = 10 * 5 = 50KM\n",
    "\"\"\"\n",
    "\n",
    "print(\"Welcome to the rectangular area calculator\")\n",
    "length = int(input(\"Input the length of rectangular : \"))\n",
    "width =  int(input(\"Input the width of rectangular : \"))\n",
    "unit = input(\"what is the unit of the rectangular\")\n",
    "calculate = length * width\n",
    "\n",
    "print(f\"the area of rectangular is {calculate} {unit}\")"
   ]
  },
  {
   "cell_type": "code",
   "execution_count": 20,
   "metadata": {},
   "outputs": [
    {
     "name": "stdout",
     "output_type": "stream",
     "text": [
      " the average is 10.0, the length of the list is 3\n"
     ]
    }
   ],
   "source": [
    "ex = [10, 10, 10] # 3 items\n",
    "total = 0\n",
    "\n",
    "for i in ex:\n",
    "  total += i\n",
    "\n",
    "average = total / len(ex)\n",
    "\n",
    "print(f\" the average is {average}, the length of the list is {len(ex)}\")"
   ]
  },
  {
   "cell_type": "code",
   "execution_count": 1,
   "metadata": {},
   "outputs": [
    {
     "name": "stdout",
     "output_type": "stream",
     "text": [
      "1\n",
      "2\n",
      "123\n",
      "32\n",
      "31\n",
      "234\n",
      "32\n"
     ]
    }
   ],
   "source": [
    "numbers = [1,2,123,32,31,234,32]\n",
    "\n",
    "for i in numbers:\n",
    "    print(i)\n",
    "    # this is iterasi\n",
    "    # this is iterasi\n",
    "    # this is iterasi\n",
    "    # this is iterasi\n",
    "    # this is iterasi"
   ]
  },
  {
   "cell_type": "code",
   "execution_count": null,
   "metadata": {},
   "outputs": [],
   "source": []
  }
 ],
 "metadata": {
  "kernelspec": {
   "display_name": "Python 3",
   "language": "python",
   "name": "python3"
  },
  "language_info": {
   "codemirror_mode": {
    "name": "ipython",
    "version": 3
   },
   "file_extension": ".py",
   "mimetype": "text/x-python",
   "name": "python",
   "nbconvert_exporter": "python",
   "pygments_lexer": "ipython3",
   "version": "3.12.1"
  }
 },
 "nbformat": 4,
 "nbformat_minor": 2
}
